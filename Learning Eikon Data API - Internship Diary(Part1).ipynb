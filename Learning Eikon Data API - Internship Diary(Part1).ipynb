{
 "cells": [
  {
   "cell_type": "markdown",
   "metadata": {},
   "source": [
    "# Learning Eikon Data API - Internship Diary (Part 1)"
   ]
  },
  {
   "cell_type": "markdown",
   "metadata": {},
   "source": [
    "## Introduction\n",
    "\n",
    "My name is Warisara Chewpraditkul (Praw) currently studying in Computer Engineering at [King Mongkut's University of Technology Thonburi](https://global.kmutt.ac.th/). I had an opportunity to participate in an internship program at the Refinitiv Software (Thailand) for two months, from June to July 2020.  During this period, I started learning [Eikon Data API](https://developers.refinitiv.com/eikon-apis/eikon-data-api) and then used it to develop Python applications in Notebook to retrieve and display financial information, such as news, historical, and reference data. In this article, I would like to share my Eikon Data API's knowledge and experience with all of you."
   ]
  },
  {
   "cell_type": "markdown",
   "metadata": {},
   "source": [
    "## Eikon Data API\n",
    "\n",
    "First, I will briefly introduce Eikon Data API. Eikon Data API provides interfaces for developers to access data directly from Eikon Desktop or Refinitiv Workspace. It leverages in-house or third-party desktop applications and provides a seamless workflow with the same data across all applications running on the desktop. The data that Eikon Data API can provide includes real-time streaming, historical, news, symbology, and reference data. \n",
    "\n",
    "Before using Eikon Data API, you must have the following things.\n",
    "\n",
    "1. **Refinitiv Workspace or Eikon Desktop:** Eikon Data API connects to Refinitiv Workspace or Eikon Desktop to retrieve the data. For this reason, the Refinitiv Workspace or Eikon Desktop must be running on the same machine where you use the Eikon Data API. You can download Eikon Desktop from [https://eikon.refinitiv.com](https://eikon.refinitiv.com),  or Refinitiv Workspace from  [https://workspace.refinitiv.com](https://workspace.refinitiv.com). \n",
    "2. **Login Credentials:** To use Eikon Desktop or Refinitiv Workspace, the login credentials (username and password) are required and the credentials must have API feature enabled. Please contact Refinitiv sales or account team to obtain this information.\n",
    "3. **App Key:** Every application using the Eikon Data API must identify itself with App Key. The App Key can be created via the App Key Generator application inside Eikon Desktop or Refinitiv Workspace. Please refer to [Step 2. Create an App Key for your application in Eikon Data API Quick Start](https://developers.refinitiv.com/eikon-apis/eikon-data-api/quick-start#create-app-key) for more information.\n",
    "4. **Eikon Data API Libraries:** At the time of this writing, Eikon Data API libraries are available in [Python](https://pypi.org/project/eikon/) and [.NET](https://www.nuget.org/packages/EikonDataAPI/). The Eikon Data API Python library is officially supported by Refinitiv while the Eikon Data API .NET library is supported by the Refinitiv developers' community. Please refer to [Step 3. Install the Python library for the Eikon Data API in Eikon Data API Quick Start](https://developers.refinitiv.com/eikon-apis/eikon-data-api/quick-start#install-python-library) and [.NET Libraries for Eikon Data API Quick Start](https://developers.refinitiv.com/article/net-libraries-eikon-data-apis-quick-start) to install the Eikon Data API Python and .NET libraries, respectively."
   ]
  },
  {
   "cell_type": "markdown",
   "metadata": {},
   "source": [
    "In the following sections, I use the Eikon Data API Python library with Python 3.7.6."
   ]
  },
  {
   "cell_type": "code",
   "execution_count": 1,
   "metadata": {},
   "outputs": [
    {
     "name": "stdout",
     "output_type": "stream",
     "text": [
      "3.7.6 (default, Jan  8 2020, 20:23:39) [MSC v.1916 64 bit (AMD64)]\n"
     ]
    }
   ],
   "source": [
    "import sys \n",
    "print(sys.version) #python version\n",
    "import warnings\n",
    "warnings.filterwarnings('ignore') #prevent warning message "
   ]
  },
  {
   "cell_type": "markdown",
   "metadata": {},
   "source": [
    "Next, I will install the Eikon Data API Python library by using the pip command:"
   ]
  },
  {
   "cell_type": "code",
   "execution_count": null,
   "metadata": {
    "scrolled": false
   },
   "outputs": [],
   "source": [
    "pip install eikon"
   ]
  },
  {
   "cell_type": "markdown",
   "metadata": {},
   "source": [
    "Then, import the **Eikon Data API** package"
   ]
  },
  {
   "cell_type": "code",
   "execution_count": 2,
   "metadata": {},
   "outputs": [
    {
     "data": {
      "text/plain": [
       "'1.1.2'"
      ]
     },
     "execution_count": 2,
     "metadata": {},
     "output_type": "execute_result"
    }
   ],
   "source": [
    "import eikon as ek \n",
    "ek.__version__ #eikon version"
   ]
  },
  {
   "cell_type": "markdown",
   "metadata": {},
   "source": [
    "To connect to **Eikon Data API** you have to run this code:"
   ]
  },
  {
   "cell_type": "code",
   "execution_count": 3,
   "metadata": {},
   "outputs": [],
   "source": [
    "#connecting to Eikon Data API\n",
    "ek.set_app_key('[APP_KEY]')"
   ]
  },
  {
   "cell_type": "markdown",
   "metadata": {},
   "source": [
    "**Note:**\n",
    "\n",
    "   - Please change <APP_KEY> to your App Key. To create an App Key, please refer to [Create an App Key for your application](https://developers.refinitiv.com/eikon-apis/eikon-data-api/quick-start#create-app-key).\n",
    "   - Before running the application, please make sure that **Refinitiv Workspace** or **Eikon Desktop** is running on the machine."
   ]
  },
  {
   "cell_type": "markdown",
   "metadata": {},
   "source": [
    "## Funtionalities\n",
    "\n",
    "There are several functions available in Eikon Data API used to retrieve different kinds of data:\n",
    "\n",
    "* **ek.get_symbology()**: This function is used to convert instrument names into other instrument codes\n",
    "* **ek.get_data()**: This function is used to retrieve reference data and snapshot of real-time data\n",
    "* **ek.get_timeseries()**: This function is used to retrieve inter-day and intra-day historical data\n",
    "* **ek.get_news_headlines()**: This function is used to retrieve news headlines\n",
    "* **ek.get_news_story()**: This function is used to retrieve full news story texts\n",
    "\n",
    "If you need more detail about how to use each function, you can use the Python **help()**function to display the documentation of modules, classes, functions, and variables in the Python packages, or you can access the Eikon Data API online document at [Eikon Data APIs for Python - Reference Guide](https://docs-developers.refinitiv.com/1594089279984/14684/book/en/index.html).\n"
   ]
  },
  {
   "cell_type": "markdown",
   "metadata": {},
   "source": [
    "## Symbology\n",
    "The first function is `ek.get_symbology()` that will return a list of instrument names converted into another instrument codes. For example, it can convert ISIN instrument names to RIC names. I admitted that at first, I don't know what RIC and ISIN are. However, after asking my supervisor and doing some research, those are standards used to identify financial instruments. For instance:\n",
    "- `RIC` stands for Refinitiv Identifier Code, which is a ticker-like code with the exchange code used by Refinitiv to identify financial instruments, such as AAPL.O.\n",
    "- `ISIN` stands for International Securities Identification Numbering system used to uniquely identify securities including stocks, bonds, options, and futures, such as US0378331005.\n",
    "\n",
    "RICs are used thoroughly in Refinitiv's products. You can search for RICs by using the [RIC Search tool](https://developers.refinitiv.com/elektron/elektron-sdk-cc/dev-tools?type=ric). \n",
    "\n",
    "However, to programmatically convert RICs to other codes or vice versa, the `get_symbology()` method can be used. \n",
    "\n",
    "Next, I'll show you how `ek.get_symbology()` works.\n",
    "\n",
    "If you have a list of RICcodes, you can call the `ek.get_symbology()` method to convert `RIC` to `ISIN`."
   ]
  },
  {
   "cell_type": "code",
   "execution_count": 5,
   "metadata": {
    "collapsed": true
   },
   "outputs": [
    {
     "data": {
      "text/html": [
       "<div>\n",
       "<style scoped>\n",
       "    .dataframe tbody tr th:only-of-type {\n",
       "        vertical-align: middle;\n",
       "    }\n",
       "\n",
       "    .dataframe tbody tr th {\n",
       "        vertical-align: top;\n",
       "    }\n",
       "\n",
       "    .dataframe thead th {\n",
       "        text-align: right;\n",
       "    }\n",
       "</style>\n",
       "<table border=\"1\" class=\"dataframe\">\n",
       "  <thead>\n",
       "    <tr style=\"text-align: right;\">\n",
       "      <th></th>\n",
       "      <th>ISIN</th>\n",
       "    </tr>\n",
       "  </thead>\n",
       "  <tbody>\n",
       "    <tr>\n",
       "      <th>AAPL.O</th>\n",
       "      <td>US0378331005</td>\n",
       "    </tr>\n",
       "    <tr>\n",
       "      <th>AMZN.O</th>\n",
       "      <td>US0231351067</td>\n",
       "    </tr>\n",
       "    <tr>\n",
       "      <th>MSFT.O</th>\n",
       "      <td>US5949181045</td>\n",
       "    </tr>\n",
       "    <tr>\n",
       "      <th>PTTEP.BK</th>\n",
       "      <td>TH0355A10Z04</td>\n",
       "    </tr>\n",
       "  </tbody>\n",
       "</table>\n",
       "</div>"
      ],
      "text/plain": [
       "                  ISIN\n",
       "AAPL.O    US0378331005\n",
       "AMZN.O    US0231351067\n",
       "MSFT.O    US5949181045\n",
       "PTTEP.BK  TH0355A10Z04"
      ]
     },
     "execution_count": 5,
     "metadata": {},
     "output_type": "execute_result"
    }
   ],
   "source": [
    "ric = ['AAPL.O', 'AMZN.O', 'MSFT.O', 'PTTEP.BK']\n",
    "isin = ek.get_symbology(ric, from_symbol_type='RIC', to_symbol_type= 'ISIN')\n",
    "isin"
   ]
  },
  {
   "cell_type": "markdown",
   "metadata": {},
   "source": [
    "In additional to **RIC** and **ISIN**, there are other codes that are used globally such as **ticker**,  **SEDOL** (Stock Exchange Daily Official List), **CUSIP** (Committee on Uniform Securities Identification Procedures), etc.\n",
    "\n",
    "With the **ek.get_symbology** method, I can convert one instrument code to many codes. For example, I can convert **RIC** to **ticker**, **SEDOL**, **CUSIP**, and **ISIN**."
   ]
  },
  {
   "cell_type": "code",
   "execution_count": 6,
   "metadata": {
    "scrolled": true
   },
   "outputs": [
    {
     "data": {
      "text/html": [
       "<div>\n",
       "<style scoped>\n",
       "    .dataframe tbody tr th:only-of-type {\n",
       "        vertical-align: middle;\n",
       "    }\n",
       "\n",
       "    .dataframe tbody tr th {\n",
       "        vertical-align: top;\n",
       "    }\n",
       "\n",
       "    .dataframe thead th {\n",
       "        text-align: right;\n",
       "    }\n",
       "</style>\n",
       "<table border=\"1\" class=\"dataframe\">\n",
       "  <thead>\n",
       "    <tr style=\"text-align: right;\">\n",
       "      <th></th>\n",
       "      <th>CUSIP</th>\n",
       "      <th>SEDOL</th>\n",
       "    </tr>\n",
       "  </thead>\n",
       "  <tbody>\n",
       "    <tr>\n",
       "      <th>AAPL.O</th>\n",
       "      <td>037833100</td>\n",
       "      <td>NaN</td>\n",
       "    </tr>\n",
       "    <tr>\n",
       "      <th>AMZN.O</th>\n",
       "      <td>023135106</td>\n",
       "      <td>NaN</td>\n",
       "    </tr>\n",
       "    <tr>\n",
       "      <th>MSFT.O</th>\n",
       "      <td>594918104</td>\n",
       "      <td>NaN</td>\n",
       "    </tr>\n",
       "    <tr>\n",
       "      <th>PTTEP.BK</th>\n",
       "      <td>NaN</td>\n",
       "      <td>B1359K1</td>\n",
       "    </tr>\n",
       "  </tbody>\n",
       "</table>\n",
       "</div>"
      ],
      "text/plain": [
       "              CUSIP    SEDOL\n",
       "AAPL.O    037833100      NaN\n",
       "AMZN.O    023135106      NaN\n",
       "MSFT.O    594918104      NaN\n",
       "PTTEP.BK        NaN  B1359K1"
      ]
     },
     "execution_count": 6,
     "metadata": {},
     "output_type": "execute_result"
    }
   ],
   "source": [
    "ek.get_symbology(ric, from_symbol_type='RIC', to_symbol_type=['ticker', 'CUSIP','SEDOL','ISIN'])"
   ]
  },
  {
   "cell_type": "markdown",
   "metadata": {},
   "source": [
    "There is no guarantee that a conversion is possible. From the output above, you will see that there are some fields in the table that have no value (NaN) which means they are not available in those standards. "
   ]
  },
  {
   "cell_type": "markdown",
   "metadata": {},
   "source": [
    "## Reference Data\n",
    "The second function is `ek.get_data()`, a general-purpose data retrieval function that returns pandas.DataFrame with fields in columns. For example, the code below retrieves the snapshot of real-time data and reference data, such as the latest closing price, the low price for the latest trading day, the total return, and the gross profit of IBM.N and MSFT.O."
   ]
  },
  {
   "cell_type": "code",
   "execution_count": 7,
   "metadata": {},
   "outputs": [
    {
     "data": {
      "text/html": [
       "<div>\n",
       "<style scoped>\n",
       "    .dataframe tbody tr th:only-of-type {\n",
       "        vertical-align: middle;\n",
       "    }\n",
       "\n",
       "    .dataframe tbody tr th {\n",
       "        vertical-align: top;\n",
       "    }\n",
       "\n",
       "    .dataframe thead th {\n",
       "        text-align: right;\n",
       "    }\n",
       "</style>\n",
       "<table border=\"1\" class=\"dataframe\">\n",
       "  <thead>\n",
       "    <tr style=\"text-align: right;\">\n",
       "      <th></th>\n",
       "      <th>Instrument</th>\n",
       "      <th>Price Close</th>\n",
       "      <th>Price Low</th>\n",
       "      <th>1 Month Total Return</th>\n",
       "      <th>3 Month Total Return</th>\n",
       "      <th>6 Month Total Return</th>\n",
       "      <th>YTD Total Return</th>\n",
       "      <th>Gross Profit</th>\n",
       "    </tr>\n",
       "  </thead>\n",
       "  <tbody>\n",
       "    <tr>\n",
       "      <th>0</th>\n",
       "      <td>IBM.N</td>\n",
       "      <td>122.94</td>\n",
       "      <td>121.10</td>\n",
       "      <td>1.796804</td>\n",
       "      <td>-0.770156</td>\n",
       "      <td>-12.399161</td>\n",
       "      <td>-6.066334</td>\n",
       "      <td>36488000000</td>\n",
       "    </tr>\n",
       "    <tr>\n",
       "      <th>1</th>\n",
       "      <td>MSFT.O</td>\n",
       "      <td>205.01</td>\n",
       "      <td>199.01</td>\n",
       "      <td>0.737065</td>\n",
       "      <td>14.710760</td>\n",
       "      <td>21.090859</td>\n",
       "      <td>30.712092</td>\n",
       "      <td>96937000000</td>\n",
       "    </tr>\n",
       "  </tbody>\n",
       "</table>\n",
       "</div>"
      ],
      "text/plain": [
       "  Instrument  Price Close  Price Low  1 Month Total Return  \\\n",
       "0      IBM.N       122.94     121.10              1.796804   \n",
       "1     MSFT.O       205.01     199.01              0.737065   \n",
       "\n",
       "   3 Month Total Return  6 Month Total Return  YTD Total Return  Gross Profit  \n",
       "0             -0.770156            -12.399161         -6.066334   36488000000  \n",
       "1             14.710760             21.090859         30.712092   96937000000  "
      ]
     },
     "execution_count": 7,
     "metadata": {},
     "output_type": "execute_result"
    }
   ],
   "source": [
    "data, err = ek.get_data(['IBM.N','MSFT.O'], ['TR.PriceClose', 'TR.PriceLow', 'TR.TotalReturn1Mo',\n",
    "                                    'TR.TotalReturn3Mo','TR.TotalReturn6Mo','TR.TotalReturnYTD','TR.GrossProfit(Period=FY0)'])\n",
    "data"
   ]
  },
  {
   "cell_type": "markdown",
   "metadata": {},
   "source": [
    "**Tip:** You can use the **Data Item Browser** to discover fields and parameters, and then copy field names and parameters into your code. In the example below, I used **Data Item Browser** to find fields and parameters to show the gross profit based on the last reported year: **'TR.GrossProfit(Period=FY0)'**.\n"
   ]
  },
  {
   "cell_type": "markdown",
   "metadata": {},
   "source": [
    "After getting the data from the `ek.get_data()` method, you can use it to plot a graph, as shown below, to visualize and compare the data.\n",
    "\n",
    "First, I have to install the Cufflinks library used to create graphs directly from Pandas. "
   ]
  },
  {
   "cell_type": "code",
   "execution_count": null,
   "metadata": {},
   "outputs": [],
   "source": [
    "pip install cufflinks"
   ]
  },
  {
   "cell_type": "markdown",
   "metadata": {},
   "source": [
    "Then, import the **Cufflinks** package"
   ]
  },
  {
   "cell_type": "code",
   "execution_count": 8,
   "metadata": {},
   "outputs": [
    {
     "data": {
      "text/html": [
       "        <script type=\"text/javascript\">\n",
       "        window.PlotlyConfig = {MathJaxConfig: 'local'};\n",
       "        if (window.MathJax) {MathJax.Hub.Config({SVG: {font: \"STIX-Web\"}});}\n",
       "        if (typeof require !== 'undefined') {\n",
       "        require.undef(\"plotly\");\n",
       "        requirejs.config({\n",
       "            paths: {\n",
       "                'plotly': ['https://cdn.plot.ly/plotly-latest.min']\n",
       "            }\n",
       "        });\n",
       "        require(['plotly'], function(Plotly) {\n",
       "            window._Plotly = Plotly;\n",
       "        });\n",
       "        }\n",
       "        </script>\n",
       "        "
      ]
     },
     "metadata": {},
     "output_type": "display_data"
    },
    {
     "data": {
      "text/html": [
       "        <script type=\"text/javascript\">\n",
       "        window.PlotlyConfig = {MathJaxConfig: 'local'};\n",
       "        if (window.MathJax) {MathJax.Hub.Config({SVG: {font: \"STIX-Web\"}});}\n",
       "        if (typeof require !== 'undefined') {\n",
       "        require.undef(\"plotly\");\n",
       "        requirejs.config({\n",
       "            paths: {\n",
       "                'plotly': ['https://cdn.plot.ly/plotly-latest.min']\n",
       "            }\n",
       "        });\n",
       "        require(['plotly'], function(Plotly) {\n",
       "            window._Plotly = Plotly;\n",
       "        });\n",
       "        }\n",
       "        </script>\n",
       "        "
      ]
     },
     "metadata": {},
     "output_type": "display_data"
    },
    {
     "data": {
      "text/plain": [
       "'0.17.3'"
      ]
     },
     "execution_count": 8,
     "metadata": {},
     "output_type": "execute_result"
    }
   ],
   "source": [
    "#import cufflinks to create the graph\n",
    "import cufflinks as cf \n",
    "cf.set_config_file(offline=True) #set the plotting mode to offline\n",
    "cf.__version__ #cufflinks version"
   ]
  },
  {
   "cell_type": "code",
   "execution_count": 9,
   "metadata": {},
   "outputs": [
    {
     "data": {
      "application/vnd.plotly.v1+json": {
       "config": {
        "linkText": "Export to plot.ly",
        "plotlyServerURL": "https://plot.ly",
        "showLink": true
       },
       "data": [
        {
         "marker": {
          "color": "rgba(255, 153, 51, 0.6)",
          "line": {
           "color": "rgba(255, 153, 51, 1.0)",
           "width": 1
          }
         },
         "name": "1 Month Total Return",
         "orientation": "v",
         "text": "",
         "type": "bar",
         "x": [
          "IBM.N",
          "MSFT.O"
         ],
         "y": [
          1.79680384201377,
          0.7370645177141809
         ]
        },
        {
         "marker": {
          "color": "rgba(55, 128, 191, 0.6)",
          "line": {
           "color": "rgba(55, 128, 191, 1.0)",
           "width": 1
          }
         },
         "name": "3 Month Total Return",
         "orientation": "v",
         "text": "",
         "type": "bar",
         "x": [
          "IBM.N",
          "MSFT.O"
         ],
         "y": [
          -0.7701562329666459,
          14.7107603434039
         ]
        },
        {
         "marker": {
          "color": "rgba(50, 171, 96, 0.6)",
          "line": {
           "color": "rgba(50, 171, 96, 1.0)",
           "width": 1
          }
         },
         "name": "6 Month Total Return",
         "orientation": "v",
         "text": "",
         "type": "bar",
         "x": [
          "IBM.N",
          "MSFT.O"
         ],
         "y": [
          -12.3991609061357,
          21.0908590992998
         ]
        },
        {
         "marker": {
          "color": "rgba(128, 0, 128, 0.6)",
          "line": {
           "color": "rgba(128, 0, 128, 1.0)",
           "width": 1
          }
         },
         "name": "YTD Total Return",
         "orientation": "v",
         "text": "",
         "type": "bar",
         "x": [
          "IBM.N",
          "MSFT.O"
         ],
         "y": [
          -6.066333907741691,
          30.712092230707196
         ]
        }
       ],
       "layout": {
        "legend": {
         "bgcolor": "#F5F6F9",
         "font": {
          "color": "#4D5663"
         }
        },
        "paper_bgcolor": "#F5F6F9",
        "plot_bgcolor": "#F5F6F9",
        "template": {
         "data": {
          "bar": [
           {
            "error_x": {
             "color": "#2a3f5f"
            },
            "error_y": {
             "color": "#2a3f5f"
            },
            "marker": {
             "line": {
              "color": "#E5ECF6",
              "width": 0.5
             }
            },
            "type": "bar"
           }
          ],
          "barpolar": [
           {
            "marker": {
             "line": {
              "color": "#E5ECF6",
              "width": 0.5
             }
            },
            "type": "barpolar"
           }
          ],
          "carpet": [
           {
            "aaxis": {
             "endlinecolor": "#2a3f5f",
             "gridcolor": "white",
             "linecolor": "white",
             "minorgridcolor": "white",
             "startlinecolor": "#2a3f5f"
            },
            "baxis": {
             "endlinecolor": "#2a3f5f",
             "gridcolor": "white",
             "linecolor": "white",
             "minorgridcolor": "white",
             "startlinecolor": "#2a3f5f"
            },
            "type": "carpet"
           }
          ],
          "choropleth": [
           {
            "colorbar": {
             "outlinewidth": 0,
             "ticks": ""
            },
            "type": "choropleth"
           }
          ],
          "contour": [
           {
            "colorbar": {
             "outlinewidth": 0,
             "ticks": ""
            },
            "colorscale": [
             [
              0,
              "#0d0887"
             ],
             [
              0.1111111111111111,
              "#46039f"
             ],
             [
              0.2222222222222222,
              "#7201a8"
             ],
             [
              0.3333333333333333,
              "#9c179e"
             ],
             [
              0.4444444444444444,
              "#bd3786"
             ],
             [
              0.5555555555555556,
              "#d8576b"
             ],
             [
              0.6666666666666666,
              "#ed7953"
             ],
             [
              0.7777777777777778,
              "#fb9f3a"
             ],
             [
              0.8888888888888888,
              "#fdca26"
             ],
             [
              1,
              "#f0f921"
             ]
            ],
            "type": "contour"
           }
          ],
          "contourcarpet": [
           {
            "colorbar": {
             "outlinewidth": 0,
             "ticks": ""
            },
            "type": "contourcarpet"
           }
          ],
          "heatmap": [
           {
            "colorbar": {
             "outlinewidth": 0,
             "ticks": ""
            },
            "colorscale": [
             [
              0,
              "#0d0887"
             ],
             [
              0.1111111111111111,
              "#46039f"
             ],
             [
              0.2222222222222222,
              "#7201a8"
             ],
             [
              0.3333333333333333,
              "#9c179e"
             ],
             [
              0.4444444444444444,
              "#bd3786"
             ],
             [
              0.5555555555555556,
              "#d8576b"
             ],
             [
              0.6666666666666666,
              "#ed7953"
             ],
             [
              0.7777777777777778,
              "#fb9f3a"
             ],
             [
              0.8888888888888888,
              "#fdca26"
             ],
             [
              1,
              "#f0f921"
             ]
            ],
            "type": "heatmap"
           }
          ],
          "heatmapgl": [
           {
            "colorbar": {
             "outlinewidth": 0,
             "ticks": ""
            },
            "colorscale": [
             [
              0,
              "#0d0887"
             ],
             [
              0.1111111111111111,
              "#46039f"
             ],
             [
              0.2222222222222222,
              "#7201a8"
             ],
             [
              0.3333333333333333,
              "#9c179e"
             ],
             [
              0.4444444444444444,
              "#bd3786"
             ],
             [
              0.5555555555555556,
              "#d8576b"
             ],
             [
              0.6666666666666666,
              "#ed7953"
             ],
             [
              0.7777777777777778,
              "#fb9f3a"
             ],
             [
              0.8888888888888888,
              "#fdca26"
             ],
             [
              1,
              "#f0f921"
             ]
            ],
            "type": "heatmapgl"
           }
          ],
          "histogram": [
           {
            "marker": {
             "colorbar": {
              "outlinewidth": 0,
              "ticks": ""
             }
            },
            "type": "histogram"
           }
          ],
          "histogram2d": [
           {
            "colorbar": {
             "outlinewidth": 0,
             "ticks": ""
            },
            "colorscale": [
             [
              0,
              "#0d0887"
             ],
             [
              0.1111111111111111,
              "#46039f"
             ],
             [
              0.2222222222222222,
              "#7201a8"
             ],
             [
              0.3333333333333333,
              "#9c179e"
             ],
             [
              0.4444444444444444,
              "#bd3786"
             ],
             [
              0.5555555555555556,
              "#d8576b"
             ],
             [
              0.6666666666666666,
              "#ed7953"
             ],
             [
              0.7777777777777778,
              "#fb9f3a"
             ],
             [
              0.8888888888888888,
              "#fdca26"
             ],
             [
              1,
              "#f0f921"
             ]
            ],
            "type": "histogram2d"
           }
          ],
          "histogram2dcontour": [
           {
            "colorbar": {
             "outlinewidth": 0,
             "ticks": ""
            },
            "colorscale": [
             [
              0,
              "#0d0887"
             ],
             [
              0.1111111111111111,
              "#46039f"
             ],
             [
              0.2222222222222222,
              "#7201a8"
             ],
             [
              0.3333333333333333,
              "#9c179e"
             ],
             [
              0.4444444444444444,
              "#bd3786"
             ],
             [
              0.5555555555555556,
              "#d8576b"
             ],
             [
              0.6666666666666666,
              "#ed7953"
             ],
             [
              0.7777777777777778,
              "#fb9f3a"
             ],
             [
              0.8888888888888888,
              "#fdca26"
             ],
             [
              1,
              "#f0f921"
             ]
            ],
            "type": "histogram2dcontour"
           }
          ],
          "mesh3d": [
           {
            "colorbar": {
             "outlinewidth": 0,
             "ticks": ""
            },
            "type": "mesh3d"
           }
          ],
          "parcoords": [
           {
            "line": {
             "colorbar": {
              "outlinewidth": 0,
              "ticks": ""
             }
            },
            "type": "parcoords"
           }
          ],
          "pie": [
           {
            "automargin": true,
            "type": "pie"
           }
          ],
          "scatter": [
           {
            "marker": {
             "colorbar": {
              "outlinewidth": 0,
              "ticks": ""
             }
            },
            "type": "scatter"
           }
          ],
          "scatter3d": [
           {
            "line": {
             "colorbar": {
              "outlinewidth": 0,
              "ticks": ""
             }
            },
            "marker": {
             "colorbar": {
              "outlinewidth": 0,
              "ticks": ""
             }
            },
            "type": "scatter3d"
           }
          ],
          "scattercarpet": [
           {
            "marker": {
             "colorbar": {
              "outlinewidth": 0,
              "ticks": ""
             }
            },
            "type": "scattercarpet"
           }
          ],
          "scattergeo": [
           {
            "marker": {
             "colorbar": {
              "outlinewidth": 0,
              "ticks": ""
             }
            },
            "type": "scattergeo"
           }
          ],
          "scattergl": [
           {
            "marker": {
             "colorbar": {
              "outlinewidth": 0,
              "ticks": ""
             }
            },
            "type": "scattergl"
           }
          ],
          "scattermapbox": [
           {
            "marker": {
             "colorbar": {
              "outlinewidth": 0,
              "ticks": ""
             }
            },
            "type": "scattermapbox"
           }
          ],
          "scatterpolar": [
           {
            "marker": {
             "colorbar": {
              "outlinewidth": 0,
              "ticks": ""
             }
            },
            "type": "scatterpolar"
           }
          ],
          "scatterpolargl": [
           {
            "marker": {
             "colorbar": {
              "outlinewidth": 0,
              "ticks": ""
             }
            },
            "type": "scatterpolargl"
           }
          ],
          "scatterternary": [
           {
            "marker": {
             "colorbar": {
              "outlinewidth": 0,
              "ticks": ""
             }
            },
            "type": "scatterternary"
           }
          ],
          "surface": [
           {
            "colorbar": {
             "outlinewidth": 0,
             "ticks": ""
            },
            "colorscale": [
             [
              0,
              "#0d0887"
             ],
             [
              0.1111111111111111,
              "#46039f"
             ],
             [
              0.2222222222222222,
              "#7201a8"
             ],
             [
              0.3333333333333333,
              "#9c179e"
             ],
             [
              0.4444444444444444,
              "#bd3786"
             ],
             [
              0.5555555555555556,
              "#d8576b"
             ],
             [
              0.6666666666666666,
              "#ed7953"
             ],
             [
              0.7777777777777778,
              "#fb9f3a"
             ],
             [
              0.8888888888888888,
              "#fdca26"
             ],
             [
              1,
              "#f0f921"
             ]
            ],
            "type": "surface"
           }
          ],
          "table": [
           {
            "cells": {
             "fill": {
              "color": "#EBF0F8"
             },
             "line": {
              "color": "white"
             }
            },
            "header": {
             "fill": {
              "color": "#C8D4E3"
             },
             "line": {
              "color": "white"
             }
            },
            "type": "table"
           }
          ]
         },
         "layout": {
          "annotationdefaults": {
           "arrowcolor": "#2a3f5f",
           "arrowhead": 0,
           "arrowwidth": 1
          },
          "coloraxis": {
           "colorbar": {
            "outlinewidth": 0,
            "ticks": ""
           }
          },
          "colorscale": {
           "diverging": [
            [
             0,
             "#8e0152"
            ],
            [
             0.1,
             "#c51b7d"
            ],
            [
             0.2,
             "#de77ae"
            ],
            [
             0.3,
             "#f1b6da"
            ],
            [
             0.4,
             "#fde0ef"
            ],
            [
             0.5,
             "#f7f7f7"
            ],
            [
             0.6,
             "#e6f5d0"
            ],
            [
             0.7,
             "#b8e186"
            ],
            [
             0.8,
             "#7fbc41"
            ],
            [
             0.9,
             "#4d9221"
            ],
            [
             1,
             "#276419"
            ]
           ],
           "sequential": [
            [
             0,
             "#0d0887"
            ],
            [
             0.1111111111111111,
             "#46039f"
            ],
            [
             0.2222222222222222,
             "#7201a8"
            ],
            [
             0.3333333333333333,
             "#9c179e"
            ],
            [
             0.4444444444444444,
             "#bd3786"
            ],
            [
             0.5555555555555556,
             "#d8576b"
            ],
            [
             0.6666666666666666,
             "#ed7953"
            ],
            [
             0.7777777777777778,
             "#fb9f3a"
            ],
            [
             0.8888888888888888,
             "#fdca26"
            ],
            [
             1,
             "#f0f921"
            ]
           ],
           "sequentialminus": [
            [
             0,
             "#0d0887"
            ],
            [
             0.1111111111111111,
             "#46039f"
            ],
            [
             0.2222222222222222,
             "#7201a8"
            ],
            [
             0.3333333333333333,
             "#9c179e"
            ],
            [
             0.4444444444444444,
             "#bd3786"
            ],
            [
             0.5555555555555556,
             "#d8576b"
            ],
            [
             0.6666666666666666,
             "#ed7953"
            ],
            [
             0.7777777777777778,
             "#fb9f3a"
            ],
            [
             0.8888888888888888,
             "#fdca26"
            ],
            [
             1,
             "#f0f921"
            ]
           ]
          },
          "colorway": [
           "#636efa",
           "#EF553B",
           "#00cc96",
           "#ab63fa",
           "#FFA15A",
           "#19d3f3",
           "#FF6692",
           "#B6E880",
           "#FF97FF",
           "#FECB52"
          ],
          "font": {
           "color": "#2a3f5f"
          },
          "geo": {
           "bgcolor": "white",
           "lakecolor": "white",
           "landcolor": "#E5ECF6",
           "showlakes": true,
           "showland": true,
           "subunitcolor": "white"
          },
          "hoverlabel": {
           "align": "left"
          },
          "hovermode": "closest",
          "mapbox": {
           "style": "light"
          },
          "paper_bgcolor": "white",
          "plot_bgcolor": "#E5ECF6",
          "polar": {
           "angularaxis": {
            "gridcolor": "white",
            "linecolor": "white",
            "ticks": ""
           },
           "bgcolor": "#E5ECF6",
           "radialaxis": {
            "gridcolor": "white",
            "linecolor": "white",
            "ticks": ""
           }
          },
          "scene": {
           "xaxis": {
            "backgroundcolor": "#E5ECF6",
            "gridcolor": "white",
            "gridwidth": 2,
            "linecolor": "white",
            "showbackground": true,
            "ticks": "",
            "zerolinecolor": "white"
           },
           "yaxis": {
            "backgroundcolor": "#E5ECF6",
            "gridcolor": "white",
            "gridwidth": 2,
            "linecolor": "white",
            "showbackground": true,
            "ticks": "",
            "zerolinecolor": "white"
           },
           "zaxis": {
            "backgroundcolor": "#E5ECF6",
            "gridcolor": "white",
            "gridwidth": 2,
            "linecolor": "white",
            "showbackground": true,
            "ticks": "",
            "zerolinecolor": "white"
           }
          },
          "shapedefaults": {
           "line": {
            "color": "#2a3f5f"
           }
          },
          "ternary": {
           "aaxis": {
            "gridcolor": "white",
            "linecolor": "white",
            "ticks": ""
           },
           "baxis": {
            "gridcolor": "white",
            "linecolor": "white",
            "ticks": ""
           },
           "bgcolor": "#E5ECF6",
           "caxis": {
            "gridcolor": "white",
            "linecolor": "white",
            "ticks": ""
           }
          },
          "title": {
           "x": 0.05
          },
          "xaxis": {
           "automargin": true,
           "gridcolor": "white",
           "linecolor": "white",
           "ticks": "",
           "title": {
            "standoff": 15
           },
           "zerolinecolor": "white",
           "zerolinewidth": 2
          },
          "yaxis": {
           "automargin": true,
           "gridcolor": "white",
           "linecolor": "white",
           "ticks": "",
           "title": {
            "standoff": 15
           },
           "zerolinecolor": "white",
           "zerolinewidth": 2
          }
         }
        },
        "title": {
         "font": {
          "color": "#4D5663"
         }
        },
        "xaxis": {
         "gridcolor": "#E1E5ED",
         "showgrid": true,
         "tickfont": {
          "color": "#4D5663"
         },
         "title": {
          "font": {
           "color": "#4D5663"
          },
          "text": ""
         },
         "zerolinecolor": "#E1E5ED"
        },
        "yaxis": {
         "gridcolor": "#E1E5ED",
         "showgrid": true,
         "tickfont": {
          "color": "#4D5663"
         },
         "title": {
          "font": {
           "color": "#4D5663"
          },
          "text": ""
         },
         "zerolinecolor": "#E1E5ED"
        }
       }
      },
      "text/html": [
       "<div>\n",
       "        \n",
       "        \n",
       "            <div id=\"bfe82c6e-ae90-49e8-b249-921a2e8b8f41\" class=\"plotly-graph-div\" style=\"height:525px; width:100%;\"></div>\n",
       "            <script type=\"text/javascript\">\n",
       "                require([\"plotly\"], function(Plotly) {\n",
       "                    window.PLOTLYENV=window.PLOTLYENV || {};\n",
       "                    window.PLOTLYENV.BASE_URL='https://plot.ly';\n",
       "                    \n",
       "                if (document.getElementById(\"bfe82c6e-ae90-49e8-b249-921a2e8b8f41\")) {\n",
       "                    Plotly.newPlot(\n",
       "                        'bfe82c6e-ae90-49e8-b249-921a2e8b8f41',\n",
       "                        [{\"marker\": {\"color\": \"rgba(255, 153, 51, 0.6)\", \"line\": {\"color\": \"rgba(255, 153, 51, 1.0)\", \"width\": 1}}, \"name\": \"1 Month Total Return\", \"orientation\": \"v\", \"text\": \"\", \"type\": \"bar\", \"x\": [\"IBM.N\", \"MSFT.O\"], \"y\": [1.79680384201377, 0.7370645177141809]}, {\"marker\": {\"color\": \"rgba(55, 128, 191, 0.6)\", \"line\": {\"color\": \"rgba(55, 128, 191, 1.0)\", \"width\": 1}}, \"name\": \"3 Month Total Return\", \"orientation\": \"v\", \"text\": \"\", \"type\": \"bar\", \"x\": [\"IBM.N\", \"MSFT.O\"], \"y\": [-0.7701562329666459, 14.7107603434039]}, {\"marker\": {\"color\": \"rgba(50, 171, 96, 0.6)\", \"line\": {\"color\": \"rgba(50, 171, 96, 1.0)\", \"width\": 1}}, \"name\": \"6 Month Total Return\", \"orientation\": \"v\", \"text\": \"\", \"type\": \"bar\", \"x\": [\"IBM.N\", \"MSFT.O\"], \"y\": [-12.3991609061357, 21.0908590992998]}, {\"marker\": {\"color\": \"rgba(128, 0, 128, 0.6)\", \"line\": {\"color\": \"rgba(128, 0, 128, 1.0)\", \"width\": 1}}, \"name\": \"YTD Total Return\", \"orientation\": \"v\", \"text\": \"\", \"type\": \"bar\", \"x\": [\"IBM.N\", \"MSFT.O\"], \"y\": [-6.066333907741691, 30.712092230707196]}],\n",
       "                        {\"legend\": {\"bgcolor\": \"#F5F6F9\", \"font\": {\"color\": \"#4D5663\"}}, \"paper_bgcolor\": \"#F5F6F9\", \"plot_bgcolor\": \"#F5F6F9\", \"template\": {\"data\": {\"bar\": [{\"error_x\": {\"color\": \"#2a3f5f\"}, \"error_y\": {\"color\": \"#2a3f5f\"}, \"marker\": {\"line\": {\"color\": \"#E5ECF6\", \"width\": 0.5}}, \"type\": \"bar\"}], \"barpolar\": [{\"marker\": {\"line\": {\"color\": \"#E5ECF6\", \"width\": 0.5}}, \"type\": \"barpolar\"}], \"carpet\": [{\"aaxis\": {\"endlinecolor\": \"#2a3f5f\", \"gridcolor\": \"white\", \"linecolor\": \"white\", \"minorgridcolor\": \"white\", \"startlinecolor\": \"#2a3f5f\"}, \"baxis\": {\"endlinecolor\": \"#2a3f5f\", \"gridcolor\": \"white\", \"linecolor\": \"white\", \"minorgridcolor\": \"white\", \"startlinecolor\": \"#2a3f5f\"}, \"type\": \"carpet\"}], \"choropleth\": [{\"colorbar\": {\"outlinewidth\": 0, \"ticks\": \"\"}, \"type\": \"choropleth\"}], \"contour\": [{\"colorbar\": {\"outlinewidth\": 0, \"ticks\": \"\"}, \"colorscale\": [[0.0, \"#0d0887\"], [0.1111111111111111, \"#46039f\"], [0.2222222222222222, \"#7201a8\"], [0.3333333333333333, \"#9c179e\"], [0.4444444444444444, \"#bd3786\"], [0.5555555555555556, \"#d8576b\"], [0.6666666666666666, \"#ed7953\"], [0.7777777777777778, \"#fb9f3a\"], [0.8888888888888888, \"#fdca26\"], [1.0, \"#f0f921\"]], \"type\": \"contour\"}], \"contourcarpet\": [{\"colorbar\": {\"outlinewidth\": 0, \"ticks\": \"\"}, \"type\": \"contourcarpet\"}], \"heatmap\": [{\"colorbar\": {\"outlinewidth\": 0, \"ticks\": \"\"}, \"colorscale\": [[0.0, \"#0d0887\"], [0.1111111111111111, \"#46039f\"], [0.2222222222222222, \"#7201a8\"], [0.3333333333333333, \"#9c179e\"], [0.4444444444444444, \"#bd3786\"], [0.5555555555555556, \"#d8576b\"], [0.6666666666666666, \"#ed7953\"], [0.7777777777777778, \"#fb9f3a\"], [0.8888888888888888, \"#fdca26\"], [1.0, \"#f0f921\"]], \"type\": \"heatmap\"}], \"heatmapgl\": [{\"colorbar\": {\"outlinewidth\": 0, \"ticks\": \"\"}, \"colorscale\": [[0.0, \"#0d0887\"], [0.1111111111111111, \"#46039f\"], [0.2222222222222222, \"#7201a8\"], [0.3333333333333333, \"#9c179e\"], [0.4444444444444444, \"#bd3786\"], [0.5555555555555556, \"#d8576b\"], [0.6666666666666666, \"#ed7953\"], [0.7777777777777778, \"#fb9f3a\"], [0.8888888888888888, \"#fdca26\"], [1.0, \"#f0f921\"]], \"type\": \"heatmapgl\"}], \"histogram\": [{\"marker\": {\"colorbar\": {\"outlinewidth\": 0, \"ticks\": \"\"}}, \"type\": \"histogram\"}], \"histogram2d\": [{\"colorbar\": {\"outlinewidth\": 0, \"ticks\": \"\"}, \"colorscale\": [[0.0, \"#0d0887\"], [0.1111111111111111, \"#46039f\"], [0.2222222222222222, \"#7201a8\"], [0.3333333333333333, \"#9c179e\"], [0.4444444444444444, \"#bd3786\"], [0.5555555555555556, \"#d8576b\"], [0.6666666666666666, \"#ed7953\"], [0.7777777777777778, \"#fb9f3a\"], [0.8888888888888888, \"#fdca26\"], [1.0, \"#f0f921\"]], \"type\": \"histogram2d\"}], \"histogram2dcontour\": [{\"colorbar\": {\"outlinewidth\": 0, \"ticks\": \"\"}, \"colorscale\": [[0.0, \"#0d0887\"], [0.1111111111111111, \"#46039f\"], [0.2222222222222222, \"#7201a8\"], [0.3333333333333333, \"#9c179e\"], [0.4444444444444444, \"#bd3786\"], [0.5555555555555556, \"#d8576b\"], [0.6666666666666666, \"#ed7953\"], [0.7777777777777778, \"#fb9f3a\"], [0.8888888888888888, \"#fdca26\"], [1.0, \"#f0f921\"]], \"type\": \"histogram2dcontour\"}], \"mesh3d\": [{\"colorbar\": {\"outlinewidth\": 0, \"ticks\": \"\"}, \"type\": \"mesh3d\"}], \"parcoords\": [{\"line\": {\"colorbar\": {\"outlinewidth\": 0, \"ticks\": \"\"}}, \"type\": \"parcoords\"}], \"pie\": [{\"automargin\": true, \"type\": \"pie\"}], \"scatter\": [{\"marker\": {\"colorbar\": {\"outlinewidth\": 0, \"ticks\": \"\"}}, \"type\": \"scatter\"}], \"scatter3d\": [{\"line\": {\"colorbar\": {\"outlinewidth\": 0, \"ticks\": \"\"}}, \"marker\": {\"colorbar\": {\"outlinewidth\": 0, \"ticks\": \"\"}}, \"type\": \"scatter3d\"}], \"scattercarpet\": [{\"marker\": {\"colorbar\": {\"outlinewidth\": 0, \"ticks\": \"\"}}, \"type\": \"scattercarpet\"}], \"scattergeo\": [{\"marker\": {\"colorbar\": {\"outlinewidth\": 0, \"ticks\": \"\"}}, \"type\": \"scattergeo\"}], \"scattergl\": [{\"marker\": {\"colorbar\": {\"outlinewidth\": 0, \"ticks\": \"\"}}, \"type\": \"scattergl\"}], \"scattermapbox\": [{\"marker\": {\"colorbar\": {\"outlinewidth\": 0, \"ticks\": \"\"}}, \"type\": \"scattermapbox\"}], \"scatterpolar\": [{\"marker\": {\"colorbar\": {\"outlinewidth\": 0, \"ticks\": \"\"}}, \"type\": \"scatterpolar\"}], \"scatterpolargl\": [{\"marker\": {\"colorbar\": {\"outlinewidth\": 0, \"ticks\": \"\"}}, \"type\": \"scatterpolargl\"}], \"scatterternary\": [{\"marker\": {\"colorbar\": {\"outlinewidth\": 0, \"ticks\": \"\"}}, \"type\": \"scatterternary\"}], \"surface\": [{\"colorbar\": {\"outlinewidth\": 0, \"ticks\": \"\"}, \"colorscale\": [[0.0, \"#0d0887\"], [0.1111111111111111, \"#46039f\"], [0.2222222222222222, \"#7201a8\"], [0.3333333333333333, \"#9c179e\"], [0.4444444444444444, \"#bd3786\"], [0.5555555555555556, \"#d8576b\"], [0.6666666666666666, \"#ed7953\"], [0.7777777777777778, \"#fb9f3a\"], [0.8888888888888888, \"#fdca26\"], [1.0, \"#f0f921\"]], \"type\": \"surface\"}], \"table\": [{\"cells\": {\"fill\": {\"color\": \"#EBF0F8\"}, \"line\": {\"color\": \"white\"}}, \"header\": {\"fill\": {\"color\": \"#C8D4E3\"}, \"line\": {\"color\": \"white\"}}, \"type\": \"table\"}]}, \"layout\": {\"annotationdefaults\": {\"arrowcolor\": \"#2a3f5f\", \"arrowhead\": 0, \"arrowwidth\": 1}, \"coloraxis\": {\"colorbar\": {\"outlinewidth\": 0, \"ticks\": \"\"}}, \"colorscale\": {\"diverging\": [[0, \"#8e0152\"], [0.1, \"#c51b7d\"], [0.2, \"#de77ae\"], [0.3, \"#f1b6da\"], [0.4, \"#fde0ef\"], [0.5, \"#f7f7f7\"], [0.6, \"#e6f5d0\"], [0.7, \"#b8e186\"], [0.8, \"#7fbc41\"], [0.9, \"#4d9221\"], [1, \"#276419\"]], \"sequential\": [[0.0, \"#0d0887\"], [0.1111111111111111, \"#46039f\"], [0.2222222222222222, \"#7201a8\"], [0.3333333333333333, \"#9c179e\"], [0.4444444444444444, \"#bd3786\"], [0.5555555555555556, \"#d8576b\"], [0.6666666666666666, \"#ed7953\"], [0.7777777777777778, \"#fb9f3a\"], [0.8888888888888888, \"#fdca26\"], [1.0, \"#f0f921\"]], \"sequentialminus\": [[0.0, \"#0d0887\"], [0.1111111111111111, \"#46039f\"], [0.2222222222222222, \"#7201a8\"], [0.3333333333333333, \"#9c179e\"], [0.4444444444444444, \"#bd3786\"], [0.5555555555555556, \"#d8576b\"], [0.6666666666666666, \"#ed7953\"], [0.7777777777777778, \"#fb9f3a\"], [0.8888888888888888, \"#fdca26\"], [1.0, \"#f0f921\"]]}, \"colorway\": [\"#636efa\", \"#EF553B\", \"#00cc96\", \"#ab63fa\", \"#FFA15A\", \"#19d3f3\", \"#FF6692\", \"#B6E880\", \"#FF97FF\", \"#FECB52\"], \"font\": {\"color\": \"#2a3f5f\"}, \"geo\": {\"bgcolor\": \"white\", \"lakecolor\": \"white\", \"landcolor\": \"#E5ECF6\", \"showlakes\": true, \"showland\": true, \"subunitcolor\": \"white\"}, \"hoverlabel\": {\"align\": \"left\"}, \"hovermode\": \"closest\", \"mapbox\": {\"style\": \"light\"}, \"paper_bgcolor\": \"white\", \"plot_bgcolor\": \"#E5ECF6\", \"polar\": {\"angularaxis\": {\"gridcolor\": \"white\", \"linecolor\": \"white\", \"ticks\": \"\"}, \"bgcolor\": \"#E5ECF6\", \"radialaxis\": {\"gridcolor\": \"white\", \"linecolor\": \"white\", \"ticks\": \"\"}}, \"scene\": {\"xaxis\": {\"backgroundcolor\": \"#E5ECF6\", \"gridcolor\": \"white\", \"gridwidth\": 2, \"linecolor\": \"white\", \"showbackground\": true, \"ticks\": \"\", \"zerolinecolor\": \"white\"}, \"yaxis\": {\"backgroundcolor\": \"#E5ECF6\", \"gridcolor\": \"white\", \"gridwidth\": 2, \"linecolor\": \"white\", \"showbackground\": true, \"ticks\": \"\", \"zerolinecolor\": \"white\"}, \"zaxis\": {\"backgroundcolor\": \"#E5ECF6\", \"gridcolor\": \"white\", \"gridwidth\": 2, \"linecolor\": \"white\", \"showbackground\": true, \"ticks\": \"\", \"zerolinecolor\": \"white\"}}, \"shapedefaults\": {\"line\": {\"color\": \"#2a3f5f\"}}, \"ternary\": {\"aaxis\": {\"gridcolor\": \"white\", \"linecolor\": \"white\", \"ticks\": \"\"}, \"baxis\": {\"gridcolor\": \"white\", \"linecolor\": \"white\", \"ticks\": \"\"}, \"bgcolor\": \"#E5ECF6\", \"caxis\": {\"gridcolor\": \"white\", \"linecolor\": \"white\", \"ticks\": \"\"}}, \"title\": {\"x\": 0.05}, \"xaxis\": {\"automargin\": true, \"gridcolor\": \"white\", \"linecolor\": \"white\", \"ticks\": \"\", \"title\": {\"standoff\": 15}, \"zerolinecolor\": \"white\", \"zerolinewidth\": 2}, \"yaxis\": {\"automargin\": true, \"gridcolor\": \"white\", \"linecolor\": \"white\", \"ticks\": \"\", \"title\": {\"standoff\": 15}, \"zerolinecolor\": \"white\", \"zerolinewidth\": 2}}}, \"title\": {\"font\": {\"color\": \"#4D5663\"}}, \"xaxis\": {\"gridcolor\": \"#E1E5ED\", \"showgrid\": true, \"tickfont\": {\"color\": \"#4D5663\"}, \"title\": {\"font\": {\"color\": \"#4D5663\"}, \"text\": \"\"}, \"zerolinecolor\": \"#E1E5ED\"}, \"yaxis\": {\"gridcolor\": \"#E1E5ED\", \"showgrid\": true, \"tickfont\": {\"color\": \"#4D5663\"}, \"title\": {\"font\": {\"color\": \"#4D5663\"}, \"text\": \"\"}, \"zerolinecolor\": \"#E1E5ED\"}},\n",
       "                        {\"showLink\": true, \"linkText\": \"Export to plot.ly\", \"plotlyServerURL\": \"https://plot.ly\", \"responsive\": true}\n",
       "                    ).then(function(){\n",
       "                            \n",
       "var gd = document.getElementById('bfe82c6e-ae90-49e8-b249-921a2e8b8f41');\n",
       "var x = new MutationObserver(function (mutations, observer) {{\n",
       "        var display = window.getComputedStyle(gd).display;\n",
       "        if (!display || display === 'none') {{\n",
       "            console.log([gd, 'removed!']);\n",
       "            Plotly.purge(gd);\n",
       "            observer.disconnect();\n",
       "        }}\n",
       "}});\n",
       "\n",
       "// Listen for the removal of the full notebook cells\n",
       "var notebookContainer = gd.closest('#notebook-container');\n",
       "if (notebookContainer) {{\n",
       "    x.observe(notebookContainer, {childList: true});\n",
       "}}\n",
       "\n",
       "// Listen for the clearing of the current output cell\n",
       "var outputEl = gd.closest('.output');\n",
       "if (outputEl) {{\n",
       "    x.observe(outputEl, {childList: true});\n",
       "}}\n",
       "\n",
       "                        })\n",
       "                };\n",
       "                });\n",
       "            </script>\n",
       "        </div>"
      ]
     },
     "metadata": {},
     "output_type": "display_data"
    }
   ],
   "source": [
    "data.set_index('Instrument')[['1 Month Total Return','3 Month Total Return',\n",
    "                              '6 Month Total Return','YTD Total Return']].iplot(kind='bar')"
   ]
  },
  {
   "cell_type": "markdown",
   "metadata": {},
   "source": [
    "The above code plots a bar chart that displays the total return values of IBM.N and MSFT.O. "
   ]
  },
  {
   "cell_type": "markdown",
   "metadata": {},
   "source": [
    "## Time-series Data\n",
    "The third function is `ek.get_timeseries()` used to retrieve inter-day and intra-day historical data. I'll demonstrate how to use this function below."
   ]
  },
  {
   "cell_type": "code",
   "execution_count": 10,
   "metadata": {},
   "outputs": [],
   "source": [
    "rics = ['AAPL.O',  # Apple stock\n",
    "        'AMZN.O',  # Amazon stock\n",
    "       ]"
   ]
  },
  {
   "cell_type": "markdown",
   "metadata": {},
   "source": [
    "The following code retrieves **daily closing prices** from 1 Jan 2017 to 23 Feb 2018 for the above list of RICs."
   ]
  },
  {
   "cell_type": "code",
   "execution_count": 11,
   "metadata": {
    "scrolled": true
   },
   "outputs": [
    {
     "data": {
      "text/html": [
       "<div>\n",
       "<style scoped>\n",
       "    .dataframe tbody tr th:only-of-type {\n",
       "        vertical-align: middle;\n",
       "    }\n",
       "\n",
       "    .dataframe tbody tr th {\n",
       "        vertical-align: top;\n",
       "    }\n",
       "\n",
       "    .dataframe thead th {\n",
       "        text-align: right;\n",
       "    }\n",
       "</style>\n",
       "<table border=\"1\" class=\"dataframe\">\n",
       "  <thead>\n",
       "    <tr style=\"text-align: right;\">\n",
       "      <th>CLOSE</th>\n",
       "      <th>AAPL.O</th>\n",
       "      <th>AMZN.O</th>\n",
       "    </tr>\n",
       "    <tr>\n",
       "      <th>Date</th>\n",
       "      <th></th>\n",
       "      <th></th>\n",
       "    </tr>\n",
       "  </thead>\n",
       "  <tbody>\n",
       "    <tr>\n",
       "      <th>2017-01-03</th>\n",
       "      <td>116.15</td>\n",
       "      <td>753.67</td>\n",
       "    </tr>\n",
       "    <tr>\n",
       "      <th>2017-01-04</th>\n",
       "      <td>116.02</td>\n",
       "      <td>757.18</td>\n",
       "    </tr>\n",
       "    <tr>\n",
       "      <th>2017-01-05</th>\n",
       "      <td>116.61</td>\n",
       "      <td>780.45</td>\n",
       "    </tr>\n",
       "    <tr>\n",
       "      <th>2017-01-06</th>\n",
       "      <td>117.91</td>\n",
       "      <td>795.99</td>\n",
       "    </tr>\n",
       "    <tr>\n",
       "      <th>2017-01-09</th>\n",
       "      <td>118.99</td>\n",
       "      <td>796.92</td>\n",
       "    </tr>\n",
       "  </tbody>\n",
       "</table>\n",
       "</div>"
      ],
      "text/plain": [
       "CLOSE       AAPL.O  AMZN.O\n",
       "Date                      \n",
       "2017-01-03  116.15  753.67\n",
       "2017-01-04  116.02  757.18\n",
       "2017-01-05  116.61  780.45\n",
       "2017-01-06  117.91  795.99\n",
       "2017-01-09  118.99  796.92"
      ]
     },
     "execution_count": 11,
     "metadata": {},
     "output_type": "execute_result"
    }
   ],
   "source": [
    "ts_data = ek.get_timeseries( rics,\n",
    "                             start_date='2017-01-01',\n",
    "                             end_date='2018-02-23',\n",
    "                             fields='CLOSE',\n",
    "                             interval='daily'\n",
    "                            )\n",
    "ts_data.head()"
   ]
  },
  {
   "cell_type": "markdown",
   "metadata": {},
   "source": [
    "Then, I use the output from `ek.get_timeseries()` to plot a line chart to visualize the trend of the stock prices for each company."
   ]
  },
  {
   "cell_type": "code",
   "execution_count": 12,
   "metadata": {
    "scrolled": true
   },
   "outputs": [
    {
     "data": {
      "application/vnd.plotly.v1+json": {
       "config": {
        "linkText": "Export to plot.ly",
        "plotlyServerURL": "https://plot.ly",
        "showLink": true
       },
       "data": [
        {
         "line": {
          "color": "rgba(255, 153, 51, 1.0)",
          "dash": "solid",
          "shape": "linear",
          "width": 1.3
         },
         "mode": "lines",
         "name": "AAPL.O",
         "text": "",
         "type": "scatter",
         "x": [
          "2017-01-03",
          "2017-01-04",
          "2017-01-05",
          "2017-01-06",
          "2017-01-09",
          "2017-01-10",
          "2017-01-11",
          "2017-01-12",
          "2017-01-13",
          "2017-01-17",
          "2017-01-18",
          "2017-01-19",
          "2017-01-20",
          "2017-01-23",
          "2017-01-24",
          "2017-01-25",
          "2017-01-26",
          "2017-01-27",
          "2017-01-30",
          "2017-01-31",
          "2017-02-01",
          "2017-02-02",
          "2017-02-03",
          "2017-02-06",
          "2017-02-07",
          "2017-02-08",
          "2017-02-09",
          "2017-02-10",
          "2017-02-13",
          "2017-02-14",
          "2017-02-15",
          "2017-02-16",
          "2017-02-17",
          "2017-02-21",
          "2017-02-22",
          "2017-02-23",
          "2017-02-24",
          "2017-02-27",
          "2017-02-28",
          "2017-03-01",
          "2017-03-02",
          "2017-03-03",
          "2017-03-06",
          "2017-03-07",
          "2017-03-08",
          "2017-03-09",
          "2017-03-10",
          "2017-03-13",
          "2017-03-14",
          "2017-03-15",
          "2017-03-16",
          "2017-03-17",
          "2017-03-20",
          "2017-03-21",
          "2017-03-22",
          "2017-03-23",
          "2017-03-24",
          "2017-03-27",
          "2017-03-28",
          "2017-03-29",
          "2017-03-30",
          "2017-03-31",
          "2017-04-03",
          "2017-04-04",
          "2017-04-05",
          "2017-04-06",
          "2017-04-07",
          "2017-04-10",
          "2017-04-11",
          "2017-04-12",
          "2017-04-13",
          "2017-04-17",
          "2017-04-18",
          "2017-04-19",
          "2017-04-20",
          "2017-04-21",
          "2017-04-24",
          "2017-04-25",
          "2017-04-26",
          "2017-04-27",
          "2017-04-28",
          "2017-05-01",
          "2017-05-02",
          "2017-05-03",
          "2017-05-04",
          "2017-05-05",
          "2017-05-08",
          "2017-05-09",
          "2017-05-10",
          "2017-05-11",
          "2017-05-12",
          "2017-05-15",
          "2017-05-16",
          "2017-05-17",
          "2017-05-18",
          "2017-05-19",
          "2017-05-22",
          "2017-05-23",
          "2017-05-24",
          "2017-05-25",
          "2017-05-26",
          "2017-05-30",
          "2017-05-31",
          "2017-06-01",
          "2017-06-02",
          "2017-06-05",
          "2017-06-06",
          "2017-06-07",
          "2017-06-08",
          "2017-06-09",
          "2017-06-12",
          "2017-06-13",
          "2017-06-14",
          "2017-06-15",
          "2017-06-16",
          "2017-06-19",
          "2017-06-20",
          "2017-06-21",
          "2017-06-22",
          "2017-06-23",
          "2017-06-26",
          "2017-06-27",
          "2017-06-28",
          "2017-06-29",
          "2017-06-30",
          "2017-07-03",
          "2017-07-05",
          "2017-07-06",
          "2017-07-07",
          "2017-07-10",
          "2017-07-11",
          "2017-07-12",
          "2017-07-13",
          "2017-07-14",
          "2017-07-17",
          "2017-07-18",
          "2017-07-19",
          "2017-07-20",
          "2017-07-21",
          "2017-07-24",
          "2017-07-25",
          "2017-07-26",
          "2017-07-27",
          "2017-07-28",
          "2017-07-31",
          "2017-08-01",
          "2017-08-02",
          "2017-08-03",
          "2017-08-04",
          "2017-08-07",
          "2017-08-08",
          "2017-08-09",
          "2017-08-10",
          "2017-08-11",
          "2017-08-14",
          "2017-08-15",
          "2017-08-16",
          "2017-08-17",
          "2017-08-18",
          "2017-08-21",
          "2017-08-22",
          "2017-08-23",
          "2017-08-24",
          "2017-08-25",
          "2017-08-28",
          "2017-08-29",
          "2017-08-30",
          "2017-08-31",
          "2017-09-01",
          "2017-09-05",
          "2017-09-06",
          "2017-09-07",
          "2017-09-08",
          "2017-09-11",
          "2017-09-12",
          "2017-09-13",
          "2017-09-14",
          "2017-09-15",
          "2017-09-18",
          "2017-09-19",
          "2017-09-20",
          "2017-09-21",
          "2017-09-22",
          "2017-09-25",
          "2017-09-26",
          "2017-09-27",
          "2017-09-28",
          "2017-09-29",
          "2017-10-02",
          "2017-10-03",
          "2017-10-04",
          "2017-10-05",
          "2017-10-06",
          "2017-10-09",
          "2017-10-10",
          "2017-10-11",
          "2017-10-12",
          "2017-10-13",
          "2017-10-16",
          "2017-10-17",
          "2017-10-18",
          "2017-10-19",
          "2017-10-20",
          "2017-10-23",
          "2017-10-24",
          "2017-10-25",
          "2017-10-26",
          "2017-10-27",
          "2017-10-30",
          "2017-10-31",
          "2017-11-01",
          "2017-11-02",
          "2017-11-03",
          "2017-11-06",
          "2017-11-07",
          "2017-11-08",
          "2017-11-09",
          "2017-11-10",
          "2017-11-13",
          "2017-11-14",
          "2017-11-15",
          "2017-11-16",
          "2017-11-17",
          "2017-11-20",
          "2017-11-21",
          "2017-11-22",
          "2017-11-24",
          "2017-11-27",
          "2017-11-28",
          "2017-11-29",
          "2017-11-30",
          "2017-12-01",
          "2017-12-04",
          "2017-12-05",
          "2017-12-06",
          "2017-12-07",
          "2017-12-08",
          "2017-12-11",
          "2017-12-12",
          "2017-12-13",
          "2017-12-14",
          "2017-12-15",
          "2017-12-18",
          "2017-12-19",
          "2017-12-20",
          "2017-12-21",
          "2017-12-22",
          "2017-12-26",
          "2017-12-27",
          "2017-12-28",
          "2017-12-29",
          "2018-01-02",
          "2018-01-03",
          "2018-01-04",
          "2018-01-05",
          "2018-01-08",
          "2018-01-09",
          "2018-01-10",
          "2018-01-11",
          "2018-01-12",
          "2018-01-16",
          "2018-01-17",
          "2018-01-18",
          "2018-01-19",
          "2018-01-22",
          "2018-01-23",
          "2018-01-24",
          "2018-01-25",
          "2018-01-26",
          "2018-01-29",
          "2018-01-30",
          "2018-01-31",
          "2018-02-01",
          "2018-02-02",
          "2018-02-05",
          "2018-02-06",
          "2018-02-07",
          "2018-02-08",
          "2018-02-09",
          "2018-02-12",
          "2018-02-13",
          "2018-02-14",
          "2018-02-15",
          "2018-02-16",
          "2018-02-20",
          "2018-02-21",
          "2018-02-22",
          "2018-02-23"
         ],
         "y": [
          116.15,
          116.02,
          116.61,
          117.91,
          118.99,
          119.11,
          119.75,
          119.25,
          119.04,
          120,
          119.99,
          119.78,
          120,
          120.08,
          119.97,
          121.88,
          121.94,
          121.95,
          121.63,
          121.35,
          128.75,
          128.53,
          129.08,
          130.29,
          131.53,
          132.04,
          132.42,
          132.12,
          133.29,
          135.02,
          135.51,
          135.345,
          135.72,
          136.7,
          137.11,
          136.53,
          136.66,
          136.93,
          136.99,
          139.79,
          138.96,
          139.78,
          139.34,
          139.52,
          139,
          138.68,
          139.14,
          139.2,
          138.99,
          140.46,
          140.69,
          139.99,
          141.46,
          139.84,
          141.42,
          140.92,
          140.64,
          140.88,
          143.8,
          144.12,
          143.93,
          143.66,
          143.7,
          144.77,
          144.02,
          143.66,
          143.34,
          143.17,
          141.63,
          141.8,
          141.05,
          141.83,
          141.2,
          140.68,
          142.44,
          142.27,
          143.64,
          144.53,
          143.68,
          143.79,
          143.65,
          146.58,
          147.51,
          147.06,
          146.53,
          148.96,
          153.01,
          153.99,
          153.26,
          153.95,
          156.1,
          155.7,
          155.47,
          150.25,
          152.54,
          153.06,
          153.99,
          153.8,
          153.34,
          153.87,
          153.61,
          153.67,
          152.76,
          153.18,
          155.45,
          153.93,
          154.45,
          155.37,
          154.99,
          148.98,
          145.42,
          146.59,
          145.16,
          144.29,
          142.27,
          146.34,
          145.01,
          145.87,
          145.63,
          146.28,
          145.82,
          143.73,
          145.83,
          143.68,
          144.02,
          143.5,
          144.09,
          142.73,
          144.18,
          145.06,
          145.53,
          145.74,
          147.77,
          149.04,
          149.56,
          150.08,
          151.02,
          150.34,
          150.27,
          152.09,
          152.74,
          153.46,
          150.56,
          149.5,
          148.73,
          150.05,
          157.14,
          155.57,
          156.39,
          158.81,
          160.08,
          161.06,
          155.32,
          157.48,
          159.85,
          161.6,
          160.95,
          157.86,
          157.5,
          157.21,
          159.78,
          159.98,
          159.27,
          159.86,
          161.47,
          162.91,
          163.35,
          164,
          164.05,
          162.08,
          161.91,
          161.26,
          158.63,
          161.5,
          160.86,
          159.65,
          158.28,
          159.88,
          158.67,
          158.73,
          156.07,
          153.39,
          151.89,
          150.55,
          153.14,
          154.23,
          153.28,
          154.12,
          153.81,
          154.48,
          153.48,
          155.39,
          155.3,
          155.84,
          155.9,
          156.55,
          156,
          156.99,
          159.88,
          160.47,
          159.76,
          155.98,
          156.25,
          156.17,
          157.1,
          156.41,
          157.41,
          163.05,
          166.72,
          169.04,
          166.89,
          168.11,
          172.5,
          174.25,
          174.81,
          176.24,
          175.88,
          174.67,
          173.97,
          171.34,
          169.08,
          171.1,
          170.15,
          169.98,
          173.14,
          174.96,
          174.97,
          174.09,
          173.07,
          169.48,
          171.85,
          171.05,
          169.8,
          169.64,
          169.01,
          169.32,
          169.37,
          172.67,
          171.7,
          172.27,
          172.22,
          173.97,
          176.42,
          174.54,
          174.35,
          175.01,
          175.01,
          170.57,
          170.6,
          171.08,
          169.23,
          172.26,
          172.23,
          173.03,
          175,
          174.35,
          174.33,
          174.29,
          175.28,
          177.09,
          176.19,
          179.1,
          179.26,
          178.46,
          177,
          177.04,
          174.22,
          171.11,
          171.51,
          167.96,
          166.97,
          167.43,
          167.78,
          160.5,
          156.49,
          163.03,
          159.54,
          155.15,
          156.41,
          162.71,
          164.34,
          167.37,
          172.99,
          172.43,
          171.85,
          171.07,
          172.5,
          175.5
         ]
        },
        {
         "line": {
          "color": "rgba(55, 128, 191, 1.0)",
          "dash": "solid",
          "shape": "linear",
          "width": 1.3
         },
         "mode": "lines",
         "name": "AMZN.O",
         "text": "",
         "type": "scatter",
         "x": [
          "2017-01-03",
          "2017-01-04",
          "2017-01-05",
          "2017-01-06",
          "2017-01-09",
          "2017-01-10",
          "2017-01-11",
          "2017-01-12",
          "2017-01-13",
          "2017-01-17",
          "2017-01-18",
          "2017-01-19",
          "2017-01-20",
          "2017-01-23",
          "2017-01-24",
          "2017-01-25",
          "2017-01-26",
          "2017-01-27",
          "2017-01-30",
          "2017-01-31",
          "2017-02-01",
          "2017-02-02",
          "2017-02-03",
          "2017-02-06",
          "2017-02-07",
          "2017-02-08",
          "2017-02-09",
          "2017-02-10",
          "2017-02-13",
          "2017-02-14",
          "2017-02-15",
          "2017-02-16",
          "2017-02-17",
          "2017-02-21",
          "2017-02-22",
          "2017-02-23",
          "2017-02-24",
          "2017-02-27",
          "2017-02-28",
          "2017-03-01",
          "2017-03-02",
          "2017-03-03",
          "2017-03-06",
          "2017-03-07",
          "2017-03-08",
          "2017-03-09",
          "2017-03-10",
          "2017-03-13",
          "2017-03-14",
          "2017-03-15",
          "2017-03-16",
          "2017-03-17",
          "2017-03-20",
          "2017-03-21",
          "2017-03-22",
          "2017-03-23",
          "2017-03-24",
          "2017-03-27",
          "2017-03-28",
          "2017-03-29",
          "2017-03-30",
          "2017-03-31",
          "2017-04-03",
          "2017-04-04",
          "2017-04-05",
          "2017-04-06",
          "2017-04-07",
          "2017-04-10",
          "2017-04-11",
          "2017-04-12",
          "2017-04-13",
          "2017-04-17",
          "2017-04-18",
          "2017-04-19",
          "2017-04-20",
          "2017-04-21",
          "2017-04-24",
          "2017-04-25",
          "2017-04-26",
          "2017-04-27",
          "2017-04-28",
          "2017-05-01",
          "2017-05-02",
          "2017-05-03",
          "2017-05-04",
          "2017-05-05",
          "2017-05-08",
          "2017-05-09",
          "2017-05-10",
          "2017-05-11",
          "2017-05-12",
          "2017-05-15",
          "2017-05-16",
          "2017-05-17",
          "2017-05-18",
          "2017-05-19",
          "2017-05-22",
          "2017-05-23",
          "2017-05-24",
          "2017-05-25",
          "2017-05-26",
          "2017-05-30",
          "2017-05-31",
          "2017-06-01",
          "2017-06-02",
          "2017-06-05",
          "2017-06-06",
          "2017-06-07",
          "2017-06-08",
          "2017-06-09",
          "2017-06-12",
          "2017-06-13",
          "2017-06-14",
          "2017-06-15",
          "2017-06-16",
          "2017-06-19",
          "2017-06-20",
          "2017-06-21",
          "2017-06-22",
          "2017-06-23",
          "2017-06-26",
          "2017-06-27",
          "2017-06-28",
          "2017-06-29",
          "2017-06-30",
          "2017-07-03",
          "2017-07-05",
          "2017-07-06",
          "2017-07-07",
          "2017-07-10",
          "2017-07-11",
          "2017-07-12",
          "2017-07-13",
          "2017-07-14",
          "2017-07-17",
          "2017-07-18",
          "2017-07-19",
          "2017-07-20",
          "2017-07-21",
          "2017-07-24",
          "2017-07-25",
          "2017-07-26",
          "2017-07-27",
          "2017-07-28",
          "2017-07-31",
          "2017-08-01",
          "2017-08-02",
          "2017-08-03",
          "2017-08-04",
          "2017-08-07",
          "2017-08-08",
          "2017-08-09",
          "2017-08-10",
          "2017-08-11",
          "2017-08-14",
          "2017-08-15",
          "2017-08-16",
          "2017-08-17",
          "2017-08-18",
          "2017-08-21",
          "2017-08-22",
          "2017-08-23",
          "2017-08-24",
          "2017-08-25",
          "2017-08-28",
          "2017-08-29",
          "2017-08-30",
          "2017-08-31",
          "2017-09-01",
          "2017-09-05",
          "2017-09-06",
          "2017-09-07",
          "2017-09-08",
          "2017-09-11",
          "2017-09-12",
          "2017-09-13",
          "2017-09-14",
          "2017-09-15",
          "2017-09-18",
          "2017-09-19",
          "2017-09-20",
          "2017-09-21",
          "2017-09-22",
          "2017-09-25",
          "2017-09-26",
          "2017-09-27",
          "2017-09-28",
          "2017-09-29",
          "2017-10-02",
          "2017-10-03",
          "2017-10-04",
          "2017-10-05",
          "2017-10-06",
          "2017-10-09",
          "2017-10-10",
          "2017-10-11",
          "2017-10-12",
          "2017-10-13",
          "2017-10-16",
          "2017-10-17",
          "2017-10-18",
          "2017-10-19",
          "2017-10-20",
          "2017-10-23",
          "2017-10-24",
          "2017-10-25",
          "2017-10-26",
          "2017-10-27",
          "2017-10-30",
          "2017-10-31",
          "2017-11-01",
          "2017-11-02",
          "2017-11-03",
          "2017-11-06",
          "2017-11-07",
          "2017-11-08",
          "2017-11-09",
          "2017-11-10",
          "2017-11-13",
          "2017-11-14",
          "2017-11-15",
          "2017-11-16",
          "2017-11-17",
          "2017-11-20",
          "2017-11-21",
          "2017-11-22",
          "2017-11-24",
          "2017-11-27",
          "2017-11-28",
          "2017-11-29",
          "2017-11-30",
          "2017-12-01",
          "2017-12-04",
          "2017-12-05",
          "2017-12-06",
          "2017-12-07",
          "2017-12-08",
          "2017-12-11",
          "2017-12-12",
          "2017-12-13",
          "2017-12-14",
          "2017-12-15",
          "2017-12-18",
          "2017-12-19",
          "2017-12-20",
          "2017-12-21",
          "2017-12-22",
          "2017-12-26",
          "2017-12-27",
          "2017-12-28",
          "2017-12-29",
          "2018-01-02",
          "2018-01-03",
          "2018-01-04",
          "2018-01-05",
          "2018-01-08",
          "2018-01-09",
          "2018-01-10",
          "2018-01-11",
          "2018-01-12",
          "2018-01-16",
          "2018-01-17",
          "2018-01-18",
          "2018-01-19",
          "2018-01-22",
          "2018-01-23",
          "2018-01-24",
          "2018-01-25",
          "2018-01-26",
          "2018-01-29",
          "2018-01-30",
          "2018-01-31",
          "2018-02-01",
          "2018-02-02",
          "2018-02-05",
          "2018-02-06",
          "2018-02-07",
          "2018-02-08",
          "2018-02-09",
          "2018-02-12",
          "2018-02-13",
          "2018-02-14",
          "2018-02-15",
          "2018-02-16",
          "2018-02-20",
          "2018-02-21",
          "2018-02-22",
          "2018-02-23"
         ],
         "y": [
          753.67,
          757.18,
          780.45,
          795.99,
          796.92,
          795.9,
          799.02,
          813.64,
          817.14,
          809.72,
          807.48,
          809.04,
          808.33,
          817.88,
          822.44,
          836.52,
          839.15,
          835.77,
          830.38,
          823.48,
          832.35,
          839.95,
          810.2,
          807.64,
          812.5,
          819.71,
          821.36,
          827.46,
          836.53,
          836.39,
          842.7,
          844.14,
          845.07,
          856.44,
          855.61,
          852.19,
          845.24,
          848.64,
          845.04,
          853.08,
          848.91,
          849.88,
          846.61,
          846.02,
          850.5,
          853,
          852.46,
          854.59,
          852.53,
          852.97,
          853.42,
          852.31,
          856.97,
          843.2,
          848.06,
          847.38,
          845.61,
          846.82,
          856,
          874.32,
          876.34,
          886.54,
          891.51,
          906.83,
          909.28,
          898.28,
          894.88,
          907.04,
          902.36,
          896.23,
          884.67,
          901.99,
          903.78,
          899.2,
          902.06,
          898.53,
          907.41,
          907.62,
          909.29,
          918.38,
          924.99,
          948.23,
          946.94,
          941.03,
          937.53,
          934.15,
          949.04,
          952.82,
          948.95,
          947.62,
          961.35,
          957.97,
          966.07,
          944.76,
          958.49,
          959.84,
          970.67,
          971.54,
          980.35,
          993.38,
          995.78,
          996.7,
          994.62,
          995.95,
          1006.73,
          1011.34,
          1003,
          1010.07,
          1010.27,
          978.31,
          964.91,
          980.79,
          976.47,
          964.17,
          987.71,
          995.17,
          992.59,
          1002.23,
          1001.3,
          1003.74,
          993.98,
          976.78,
          990.33,
          975.93,
          968,
          953.66,
          971.4,
          965.14,
          978.76,
          996.47,
          994.13,
          1006.51,
          1000.63,
          1001.81,
          1010.04,
          1024.45,
          1026.87,
          1028.7,
          1025.67,
          1038.95,
          1039.87,
          1052.8,
          1046,
          1020.04,
          987.78,
          996.19,
          995.89,
          986.92,
          987.58,
          992.27,
          989.84,
          982.01,
          956.92,
          967.99,
          983.3,
          982.74,
          978.18,
          960.57,
          958.47,
          953.29,
          966.9,
          958,
          952.45,
          945.26,
          946.02,
          954.06,
          967.59,
          980.6,
          978.25,
          965.27,
          967.8,
          979.47,
          965.9,
          977.96,
          982.58,
          999.6,
          992.21,
          986.79,
          974.19,
          969.86,
          973.21,
          964.65,
          955.1,
          939.79,
          938.6,
          950.87,
          956.4,
          961.35,
          959.19,
          957.1,
          965.45,
          980.85,
          989.58,
          990.99,
          987.2,
          995,
          1000.93,
          1002.94,
          1006.34,
          1009.13,
          997,
          986.61,
          982.91,
          966.3,
          975.9,
          972.91,
          972.43,
          1100.95,
          1110.85,
          1105.28,
          1103.68,
          1094.22,
          1111.6,
          1120.66,
          1123.17,
          1132.88,
          1129.13,
          1125.35,
          1129.17,
          1136.84,
          1126.69,
          1137.29,
          1129.88,
          1126.31,
          1139.49,
          1156.16,
          1186,
          1195.83,
          1193.6,
          1161.27,
          1176.75,
          1162.35,
          1133.95,
          1141.57,
          1152.35,
          1159.79,
          1162,
          1168.92,
          1165.08,
          1164.13,
          1174.26,
          1179.14,
          1190.58,
          1187.38,
          1177.62,
          1174.76,
          1168.36,
          1176.76,
          1182.26,
          1186.1,
          1169.47,
          1189.01,
          1204.2,
          1209.59,
          1229.14,
          1246.87,
          1252.7,
          1254.33,
          1276.68,
          1305.2,
          1304.86,
          1295,
          1293.32,
          1294.58,
          1327.31,
          1362.54,
          1357.51,
          1377.95,
          1402.05,
          1417.68,
          1437.82,
          1450.89,
          1390,
          1429.95,
          1390,
          1442.84,
          1416.78,
          1350.5,
          1339.6,
          1386.23,
          1414.51,
          1451.05,
          1461.76,
          1448.69,
          1468.35,
          1482.92,
          1485.34,
          1500
         ]
        }
       ],
       "layout": {
        "legend": {
         "bgcolor": "#F5F6F9",
         "font": {
          "color": "#4D5663"
         }
        },
        "paper_bgcolor": "#F5F6F9",
        "plot_bgcolor": "#F5F6F9",
        "template": {
         "data": {
          "bar": [
           {
            "error_x": {
             "color": "#2a3f5f"
            },
            "error_y": {
             "color": "#2a3f5f"
            },
            "marker": {
             "line": {
              "color": "#E5ECF6",
              "width": 0.5
             }
            },
            "type": "bar"
           }
          ],
          "barpolar": [
           {
            "marker": {
             "line": {
              "color": "#E5ECF6",
              "width": 0.5
             }
            },
            "type": "barpolar"
           }
          ],
          "carpet": [
           {
            "aaxis": {
             "endlinecolor": "#2a3f5f",
             "gridcolor": "white",
             "linecolor": "white",
             "minorgridcolor": "white",
             "startlinecolor": "#2a3f5f"
            },
            "baxis": {
             "endlinecolor": "#2a3f5f",
             "gridcolor": "white",
             "linecolor": "white",
             "minorgridcolor": "white",
             "startlinecolor": "#2a3f5f"
            },
            "type": "carpet"
           }
          ],
          "choropleth": [
           {
            "colorbar": {
             "outlinewidth": 0,
             "ticks": ""
            },
            "type": "choropleth"
           }
          ],
          "contour": [
           {
            "colorbar": {
             "outlinewidth": 0,
             "ticks": ""
            },
            "colorscale": [
             [
              0,
              "#0d0887"
             ],
             [
              0.1111111111111111,
              "#46039f"
             ],
             [
              0.2222222222222222,
              "#7201a8"
             ],
             [
              0.3333333333333333,
              "#9c179e"
             ],
             [
              0.4444444444444444,
              "#bd3786"
             ],
             [
              0.5555555555555556,
              "#d8576b"
             ],
             [
              0.6666666666666666,
              "#ed7953"
             ],
             [
              0.7777777777777778,
              "#fb9f3a"
             ],
             [
              0.8888888888888888,
              "#fdca26"
             ],
             [
              1,
              "#f0f921"
             ]
            ],
            "type": "contour"
           }
          ],
          "contourcarpet": [
           {
            "colorbar": {
             "outlinewidth": 0,
             "ticks": ""
            },
            "type": "contourcarpet"
           }
          ],
          "heatmap": [
           {
            "colorbar": {
             "outlinewidth": 0,
             "ticks": ""
            },
            "colorscale": [
             [
              0,
              "#0d0887"
             ],
             [
              0.1111111111111111,
              "#46039f"
             ],
             [
              0.2222222222222222,
              "#7201a8"
             ],
             [
              0.3333333333333333,
              "#9c179e"
             ],
             [
              0.4444444444444444,
              "#bd3786"
             ],
             [
              0.5555555555555556,
              "#d8576b"
             ],
             [
              0.6666666666666666,
              "#ed7953"
             ],
             [
              0.7777777777777778,
              "#fb9f3a"
             ],
             [
              0.8888888888888888,
              "#fdca26"
             ],
             [
              1,
              "#f0f921"
             ]
            ],
            "type": "heatmap"
           }
          ],
          "heatmapgl": [
           {
            "colorbar": {
             "outlinewidth": 0,
             "ticks": ""
            },
            "colorscale": [
             [
              0,
              "#0d0887"
             ],
             [
              0.1111111111111111,
              "#46039f"
             ],
             [
              0.2222222222222222,
              "#7201a8"
             ],
             [
              0.3333333333333333,
              "#9c179e"
             ],
             [
              0.4444444444444444,
              "#bd3786"
             ],
             [
              0.5555555555555556,
              "#d8576b"
             ],
             [
              0.6666666666666666,
              "#ed7953"
             ],
             [
              0.7777777777777778,
              "#fb9f3a"
             ],
             [
              0.8888888888888888,
              "#fdca26"
             ],
             [
              1,
              "#f0f921"
             ]
            ],
            "type": "heatmapgl"
           }
          ],
          "histogram": [
           {
            "marker": {
             "colorbar": {
              "outlinewidth": 0,
              "ticks": ""
             }
            },
            "type": "histogram"
           }
          ],
          "histogram2d": [
           {
            "colorbar": {
             "outlinewidth": 0,
             "ticks": ""
            },
            "colorscale": [
             [
              0,
              "#0d0887"
             ],
             [
              0.1111111111111111,
              "#46039f"
             ],
             [
              0.2222222222222222,
              "#7201a8"
             ],
             [
              0.3333333333333333,
              "#9c179e"
             ],
             [
              0.4444444444444444,
              "#bd3786"
             ],
             [
              0.5555555555555556,
              "#d8576b"
             ],
             [
              0.6666666666666666,
              "#ed7953"
             ],
             [
              0.7777777777777778,
              "#fb9f3a"
             ],
             [
              0.8888888888888888,
              "#fdca26"
             ],
             [
              1,
              "#f0f921"
             ]
            ],
            "type": "histogram2d"
           }
          ],
          "histogram2dcontour": [
           {
            "colorbar": {
             "outlinewidth": 0,
             "ticks": ""
            },
            "colorscale": [
             [
              0,
              "#0d0887"
             ],
             [
              0.1111111111111111,
              "#46039f"
             ],
             [
              0.2222222222222222,
              "#7201a8"
             ],
             [
              0.3333333333333333,
              "#9c179e"
             ],
             [
              0.4444444444444444,
              "#bd3786"
             ],
             [
              0.5555555555555556,
              "#d8576b"
             ],
             [
              0.6666666666666666,
              "#ed7953"
             ],
             [
              0.7777777777777778,
              "#fb9f3a"
             ],
             [
              0.8888888888888888,
              "#fdca26"
             ],
             [
              1,
              "#f0f921"
             ]
            ],
            "type": "histogram2dcontour"
           }
          ],
          "mesh3d": [
           {
            "colorbar": {
             "outlinewidth": 0,
             "ticks": ""
            },
            "type": "mesh3d"
           }
          ],
          "parcoords": [
           {
            "line": {
             "colorbar": {
              "outlinewidth": 0,
              "ticks": ""
             }
            },
            "type": "parcoords"
           }
          ],
          "pie": [
           {
            "automargin": true,
            "type": "pie"
           }
          ],
          "scatter": [
           {
            "marker": {
             "colorbar": {
              "outlinewidth": 0,
              "ticks": ""
             }
            },
            "type": "scatter"
           }
          ],
          "scatter3d": [
           {
            "line": {
             "colorbar": {
              "outlinewidth": 0,
              "ticks": ""
             }
            },
            "marker": {
             "colorbar": {
              "outlinewidth": 0,
              "ticks": ""
             }
            },
            "type": "scatter3d"
           }
          ],
          "scattercarpet": [
           {
            "marker": {
             "colorbar": {
              "outlinewidth": 0,
              "ticks": ""
             }
            },
            "type": "scattercarpet"
           }
          ],
          "scattergeo": [
           {
            "marker": {
             "colorbar": {
              "outlinewidth": 0,
              "ticks": ""
             }
            },
            "type": "scattergeo"
           }
          ],
          "scattergl": [
           {
            "marker": {
             "colorbar": {
              "outlinewidth": 0,
              "ticks": ""
             }
            },
            "type": "scattergl"
           }
          ],
          "scattermapbox": [
           {
            "marker": {
             "colorbar": {
              "outlinewidth": 0,
              "ticks": ""
             }
            },
            "type": "scattermapbox"
           }
          ],
          "scatterpolar": [
           {
            "marker": {
             "colorbar": {
              "outlinewidth": 0,
              "ticks": ""
             }
            },
            "type": "scatterpolar"
           }
          ],
          "scatterpolargl": [
           {
            "marker": {
             "colorbar": {
              "outlinewidth": 0,
              "ticks": ""
             }
            },
            "type": "scatterpolargl"
           }
          ],
          "scatterternary": [
           {
            "marker": {
             "colorbar": {
              "outlinewidth": 0,
              "ticks": ""
             }
            },
            "type": "scatterternary"
           }
          ],
          "surface": [
           {
            "colorbar": {
             "outlinewidth": 0,
             "ticks": ""
            },
            "colorscale": [
             [
              0,
              "#0d0887"
             ],
             [
              0.1111111111111111,
              "#46039f"
             ],
             [
              0.2222222222222222,
              "#7201a8"
             ],
             [
              0.3333333333333333,
              "#9c179e"
             ],
             [
              0.4444444444444444,
              "#bd3786"
             ],
             [
              0.5555555555555556,
              "#d8576b"
             ],
             [
              0.6666666666666666,
              "#ed7953"
             ],
             [
              0.7777777777777778,
              "#fb9f3a"
             ],
             [
              0.8888888888888888,
              "#fdca26"
             ],
             [
              1,
              "#f0f921"
             ]
            ],
            "type": "surface"
           }
          ],
          "table": [
           {
            "cells": {
             "fill": {
              "color": "#EBF0F8"
             },
             "line": {
              "color": "white"
             }
            },
            "header": {
             "fill": {
              "color": "#C8D4E3"
             },
             "line": {
              "color": "white"
             }
            },
            "type": "table"
           }
          ]
         },
         "layout": {
          "annotationdefaults": {
           "arrowcolor": "#2a3f5f",
           "arrowhead": 0,
           "arrowwidth": 1
          },
          "coloraxis": {
           "colorbar": {
            "outlinewidth": 0,
            "ticks": ""
           }
          },
          "colorscale": {
           "diverging": [
            [
             0,
             "#8e0152"
            ],
            [
             0.1,
             "#c51b7d"
            ],
            [
             0.2,
             "#de77ae"
            ],
            [
             0.3,
             "#f1b6da"
            ],
            [
             0.4,
             "#fde0ef"
            ],
            [
             0.5,
             "#f7f7f7"
            ],
            [
             0.6,
             "#e6f5d0"
            ],
            [
             0.7,
             "#b8e186"
            ],
            [
             0.8,
             "#7fbc41"
            ],
            [
             0.9,
             "#4d9221"
            ],
            [
             1,
             "#276419"
            ]
           ],
           "sequential": [
            [
             0,
             "#0d0887"
            ],
            [
             0.1111111111111111,
             "#46039f"
            ],
            [
             0.2222222222222222,
             "#7201a8"
            ],
            [
             0.3333333333333333,
             "#9c179e"
            ],
            [
             0.4444444444444444,
             "#bd3786"
            ],
            [
             0.5555555555555556,
             "#d8576b"
            ],
            [
             0.6666666666666666,
             "#ed7953"
            ],
            [
             0.7777777777777778,
             "#fb9f3a"
            ],
            [
             0.8888888888888888,
             "#fdca26"
            ],
            [
             1,
             "#f0f921"
            ]
           ],
           "sequentialminus": [
            [
             0,
             "#0d0887"
            ],
            [
             0.1111111111111111,
             "#46039f"
            ],
            [
             0.2222222222222222,
             "#7201a8"
            ],
            [
             0.3333333333333333,
             "#9c179e"
            ],
            [
             0.4444444444444444,
             "#bd3786"
            ],
            [
             0.5555555555555556,
             "#d8576b"
            ],
            [
             0.6666666666666666,
             "#ed7953"
            ],
            [
             0.7777777777777778,
             "#fb9f3a"
            ],
            [
             0.8888888888888888,
             "#fdca26"
            ],
            [
             1,
             "#f0f921"
            ]
           ]
          },
          "colorway": [
           "#636efa",
           "#EF553B",
           "#00cc96",
           "#ab63fa",
           "#FFA15A",
           "#19d3f3",
           "#FF6692",
           "#B6E880",
           "#FF97FF",
           "#FECB52"
          ],
          "font": {
           "color": "#2a3f5f"
          },
          "geo": {
           "bgcolor": "white",
           "lakecolor": "white",
           "landcolor": "#E5ECF6",
           "showlakes": true,
           "showland": true,
           "subunitcolor": "white"
          },
          "hoverlabel": {
           "align": "left"
          },
          "hovermode": "closest",
          "mapbox": {
           "style": "light"
          },
          "paper_bgcolor": "white",
          "plot_bgcolor": "#E5ECF6",
          "polar": {
           "angularaxis": {
            "gridcolor": "white",
            "linecolor": "white",
            "ticks": ""
           },
           "bgcolor": "#E5ECF6",
           "radialaxis": {
            "gridcolor": "white",
            "linecolor": "white",
            "ticks": ""
           }
          },
          "scene": {
           "xaxis": {
            "backgroundcolor": "#E5ECF6",
            "gridcolor": "white",
            "gridwidth": 2,
            "linecolor": "white",
            "showbackground": true,
            "ticks": "",
            "zerolinecolor": "white"
           },
           "yaxis": {
            "backgroundcolor": "#E5ECF6",
            "gridcolor": "white",
            "gridwidth": 2,
            "linecolor": "white",
            "showbackground": true,
            "ticks": "",
            "zerolinecolor": "white"
           },
           "zaxis": {
            "backgroundcolor": "#E5ECF6",
            "gridcolor": "white",
            "gridwidth": 2,
            "linecolor": "white",
            "showbackground": true,
            "ticks": "",
            "zerolinecolor": "white"
           }
          },
          "shapedefaults": {
           "line": {
            "color": "#2a3f5f"
           }
          },
          "ternary": {
           "aaxis": {
            "gridcolor": "white",
            "linecolor": "white",
            "ticks": ""
           },
           "baxis": {
            "gridcolor": "white",
            "linecolor": "white",
            "ticks": ""
           },
           "bgcolor": "#E5ECF6",
           "caxis": {
            "gridcolor": "white",
            "linecolor": "white",
            "ticks": ""
           }
          },
          "title": {
           "x": 0.05
          },
          "xaxis": {
           "automargin": true,
           "gridcolor": "white",
           "linecolor": "white",
           "ticks": "",
           "title": {
            "standoff": 15
           },
           "zerolinecolor": "white",
           "zerolinewidth": 2
          },
          "yaxis": {
           "automargin": true,
           "gridcolor": "white",
           "linecolor": "white",
           "ticks": "",
           "title": {
            "standoff": 15
           },
           "zerolinecolor": "white",
           "zerolinewidth": 2
          }
         }
        },
        "title": {
         "font": {
          "color": "#4D5663"
         }
        },
        "xaxis": {
         "gridcolor": "#E1E5ED",
         "showgrid": true,
         "tickfont": {
          "color": "#4D5663"
         },
         "title": {
          "font": {
           "color": "#4D5663"
          },
          "text": ""
         },
         "zerolinecolor": "#E1E5ED"
        },
        "yaxis": {
         "gridcolor": "#E1E5ED",
         "showgrid": true,
         "tickfont": {
          "color": "#4D5663"
         },
         "title": {
          "font": {
           "color": "#4D5663"
          },
          "text": ""
         },
         "zerolinecolor": "#E1E5ED"
        }
       }
      },
      "text/html": [
       "<div>\n",
       "        \n",
       "        \n",
       "            <div id=\"ea0e7217-4a01-4fa5-8497-b9440b56c1d7\" class=\"plotly-graph-div\" style=\"height:525px; width:100%;\"></div>\n",
       "            <script type=\"text/javascript\">\n",
       "                require([\"plotly\"], function(Plotly) {\n",
       "                    window.PLOTLYENV=window.PLOTLYENV || {};\n",
       "                    window.PLOTLYENV.BASE_URL='https://plot.ly';\n",
       "                    \n",
       "                if (document.getElementById(\"ea0e7217-4a01-4fa5-8497-b9440b56c1d7\")) {\n",
       "                    Plotly.newPlot(\n",
       "                        'ea0e7217-4a01-4fa5-8497-b9440b56c1d7',\n",
       "                        [{\"line\": {\"color\": \"rgba(255, 153, 51, 1.0)\", \"dash\": \"solid\", \"shape\": \"linear\", \"width\": 1.3}, \"mode\": \"lines\", \"name\": \"AAPL.O\", \"text\": \"\", \"type\": \"scatter\", \"x\": [\"2017-01-03\", \"2017-01-04\", \"2017-01-05\", \"2017-01-06\", \"2017-01-09\", \"2017-01-10\", \"2017-01-11\", \"2017-01-12\", \"2017-01-13\", \"2017-01-17\", \"2017-01-18\", \"2017-01-19\", \"2017-01-20\", \"2017-01-23\", \"2017-01-24\", \"2017-01-25\", \"2017-01-26\", \"2017-01-27\", \"2017-01-30\", \"2017-01-31\", \"2017-02-01\", \"2017-02-02\", \"2017-02-03\", \"2017-02-06\", \"2017-02-07\", \"2017-02-08\", \"2017-02-09\", \"2017-02-10\", \"2017-02-13\", \"2017-02-14\", \"2017-02-15\", \"2017-02-16\", \"2017-02-17\", \"2017-02-21\", \"2017-02-22\", \"2017-02-23\", \"2017-02-24\", \"2017-02-27\", \"2017-02-28\", \"2017-03-01\", \"2017-03-02\", \"2017-03-03\", \"2017-03-06\", \"2017-03-07\", \"2017-03-08\", \"2017-03-09\", \"2017-03-10\", \"2017-03-13\", \"2017-03-14\", \"2017-03-15\", \"2017-03-16\", \"2017-03-17\", \"2017-03-20\", \"2017-03-21\", \"2017-03-22\", \"2017-03-23\", \"2017-03-24\", \"2017-03-27\", \"2017-03-28\", \"2017-03-29\", \"2017-03-30\", \"2017-03-31\", \"2017-04-03\", \"2017-04-04\", \"2017-04-05\", \"2017-04-06\", \"2017-04-07\", \"2017-04-10\", \"2017-04-11\", \"2017-04-12\", \"2017-04-13\", \"2017-04-17\", \"2017-04-18\", \"2017-04-19\", \"2017-04-20\", \"2017-04-21\", \"2017-04-24\", \"2017-04-25\", \"2017-04-26\", \"2017-04-27\", \"2017-04-28\", \"2017-05-01\", \"2017-05-02\", \"2017-05-03\", \"2017-05-04\", \"2017-05-05\", \"2017-05-08\", \"2017-05-09\", \"2017-05-10\", \"2017-05-11\", \"2017-05-12\", \"2017-05-15\", \"2017-05-16\", \"2017-05-17\", \"2017-05-18\", \"2017-05-19\", \"2017-05-22\", \"2017-05-23\", \"2017-05-24\", \"2017-05-25\", \"2017-05-26\", \"2017-05-30\", \"2017-05-31\", \"2017-06-01\", \"2017-06-02\", \"2017-06-05\", \"2017-06-06\", \"2017-06-07\", \"2017-06-08\", \"2017-06-09\", \"2017-06-12\", \"2017-06-13\", \"2017-06-14\", \"2017-06-15\", \"2017-06-16\", \"2017-06-19\", \"2017-06-20\", \"2017-06-21\", \"2017-06-22\", \"2017-06-23\", \"2017-06-26\", \"2017-06-27\", \"2017-06-28\", \"2017-06-29\", \"2017-06-30\", \"2017-07-03\", \"2017-07-05\", \"2017-07-06\", \"2017-07-07\", \"2017-07-10\", \"2017-07-11\", \"2017-07-12\", \"2017-07-13\", \"2017-07-14\", \"2017-07-17\", \"2017-07-18\", \"2017-07-19\", \"2017-07-20\", \"2017-07-21\", \"2017-07-24\", \"2017-07-25\", \"2017-07-26\", \"2017-07-27\", \"2017-07-28\", \"2017-07-31\", \"2017-08-01\", \"2017-08-02\", \"2017-08-03\", \"2017-08-04\", \"2017-08-07\", \"2017-08-08\", \"2017-08-09\", \"2017-08-10\", \"2017-08-11\", \"2017-08-14\", \"2017-08-15\", \"2017-08-16\", \"2017-08-17\", \"2017-08-18\", \"2017-08-21\", \"2017-08-22\", \"2017-08-23\", \"2017-08-24\", \"2017-08-25\", \"2017-08-28\", \"2017-08-29\", \"2017-08-30\", \"2017-08-31\", \"2017-09-01\", \"2017-09-05\", \"2017-09-06\", \"2017-09-07\", \"2017-09-08\", \"2017-09-11\", \"2017-09-12\", \"2017-09-13\", \"2017-09-14\", \"2017-09-15\", \"2017-09-18\", \"2017-09-19\", \"2017-09-20\", \"2017-09-21\", \"2017-09-22\", \"2017-09-25\", \"2017-09-26\", \"2017-09-27\", \"2017-09-28\", \"2017-09-29\", \"2017-10-02\", \"2017-10-03\", \"2017-10-04\", \"2017-10-05\", \"2017-10-06\", \"2017-10-09\", \"2017-10-10\", \"2017-10-11\", \"2017-10-12\", \"2017-10-13\", \"2017-10-16\", \"2017-10-17\", \"2017-10-18\", \"2017-10-19\", \"2017-10-20\", \"2017-10-23\", \"2017-10-24\", \"2017-10-25\", \"2017-10-26\", \"2017-10-27\", \"2017-10-30\", \"2017-10-31\", \"2017-11-01\", \"2017-11-02\", \"2017-11-03\", \"2017-11-06\", \"2017-11-07\", \"2017-11-08\", \"2017-11-09\", \"2017-11-10\", \"2017-11-13\", \"2017-11-14\", \"2017-11-15\", \"2017-11-16\", \"2017-11-17\", \"2017-11-20\", \"2017-11-21\", \"2017-11-22\", \"2017-11-24\", \"2017-11-27\", \"2017-11-28\", \"2017-11-29\", \"2017-11-30\", \"2017-12-01\", \"2017-12-04\", \"2017-12-05\", \"2017-12-06\", \"2017-12-07\", \"2017-12-08\", \"2017-12-11\", \"2017-12-12\", \"2017-12-13\", \"2017-12-14\", \"2017-12-15\", \"2017-12-18\", \"2017-12-19\", \"2017-12-20\", \"2017-12-21\", \"2017-12-22\", \"2017-12-26\", \"2017-12-27\", \"2017-12-28\", \"2017-12-29\", \"2018-01-02\", \"2018-01-03\", \"2018-01-04\", \"2018-01-05\", \"2018-01-08\", \"2018-01-09\", \"2018-01-10\", \"2018-01-11\", \"2018-01-12\", \"2018-01-16\", \"2018-01-17\", \"2018-01-18\", \"2018-01-19\", \"2018-01-22\", \"2018-01-23\", \"2018-01-24\", \"2018-01-25\", \"2018-01-26\", \"2018-01-29\", \"2018-01-30\", \"2018-01-31\", \"2018-02-01\", \"2018-02-02\", \"2018-02-05\", \"2018-02-06\", \"2018-02-07\", \"2018-02-08\", \"2018-02-09\", \"2018-02-12\", \"2018-02-13\", \"2018-02-14\", \"2018-02-15\", \"2018-02-16\", \"2018-02-20\", \"2018-02-21\", \"2018-02-22\", \"2018-02-23\"], \"y\": [116.15, 116.02, 116.61, 117.91, 118.99, 119.11, 119.75, 119.25, 119.04, 120.0, 119.99, 119.78, 120.0, 120.08, 119.97, 121.88, 121.94, 121.95, 121.63, 121.35, 128.75, 128.53, 129.08, 130.29, 131.53, 132.04, 132.42, 132.12, 133.29, 135.02, 135.51, 135.345, 135.72, 136.7, 137.11, 136.53, 136.66, 136.93, 136.99, 139.79, 138.96, 139.78, 139.34, 139.52, 139.0, 138.68, 139.14, 139.2, 138.99, 140.46, 140.69, 139.99, 141.46, 139.84, 141.42, 140.92, 140.64, 140.88, 143.8, 144.12, 143.93, 143.66, 143.7, 144.77, 144.02, 143.66, 143.34, 143.17, 141.63, 141.8, 141.05, 141.83, 141.2, 140.68, 142.44, 142.27, 143.64, 144.53, 143.68, 143.79, 143.65, 146.58, 147.51, 147.06, 146.53, 148.96, 153.01, 153.99, 153.26, 153.95, 156.1, 155.7, 155.47, 150.25, 152.54, 153.06, 153.99, 153.8, 153.34, 153.87, 153.61, 153.67, 152.76, 153.18, 155.45, 153.93, 154.45, 155.37, 154.99, 148.98, 145.42, 146.59, 145.16, 144.29, 142.27, 146.34, 145.01, 145.87, 145.63, 146.28, 145.82, 143.73, 145.83, 143.68, 144.02, 143.5, 144.09, 142.73, 144.18, 145.06, 145.53, 145.74, 147.77, 149.04, 149.56, 150.08, 151.02, 150.34, 150.27, 152.09, 152.74, 153.46, 150.56, 149.5, 148.73, 150.05, 157.14, 155.57, 156.39, 158.81, 160.08, 161.06, 155.32, 157.48, 159.85, 161.6, 160.95, 157.86, 157.5, 157.21, 159.78, 159.98, 159.27, 159.86, 161.47, 162.91, 163.35, 164.0, 164.05, 162.08, 161.91, 161.26, 158.63, 161.5, 160.86, 159.65, 158.28, 159.88, 158.67, 158.73, 156.07, 153.39, 151.89, 150.55, 153.14, 154.23, 153.28, 154.12, 153.81, 154.48, 153.48, 155.39, 155.3, 155.84, 155.9, 156.55, 156.0, 156.99, 159.88, 160.47, 159.76, 155.98, 156.25, 156.17, 157.1, 156.41, 157.41, 163.05, 166.72, 169.04, 166.89, 168.11, 172.5, 174.25, 174.81, 176.24, 175.88, 174.67, 173.97, 171.34, 169.08, 171.1, 170.15, 169.98, 173.14, 174.96, 174.97, 174.09, 173.07, 169.48, 171.85, 171.05, 169.8, 169.64, 169.01, 169.32, 169.37, 172.67, 171.7, 172.27, 172.22, 173.97, 176.42, 174.54, 174.35, 175.01, 175.01, 170.57, 170.6, 171.08, 169.23, 172.26, 172.23, 173.03, 175.0, 174.35, 174.33, 174.29, 175.28, 177.09, 176.19, 179.1, 179.26, 178.46, 177.0, 177.04, 174.22, 171.11, 171.51, 167.96, 166.97, 167.43, 167.78, 160.5, 156.49, 163.03, 159.54, 155.15, 156.41, 162.71, 164.34, 167.37, 172.99, 172.43, 171.85, 171.07, 172.5, 175.5]}, {\"line\": {\"color\": \"rgba(55, 128, 191, 1.0)\", \"dash\": \"solid\", \"shape\": \"linear\", \"width\": 1.3}, \"mode\": \"lines\", \"name\": \"AMZN.O\", \"text\": \"\", \"type\": \"scatter\", \"x\": [\"2017-01-03\", \"2017-01-04\", \"2017-01-05\", \"2017-01-06\", \"2017-01-09\", \"2017-01-10\", \"2017-01-11\", \"2017-01-12\", \"2017-01-13\", \"2017-01-17\", \"2017-01-18\", \"2017-01-19\", \"2017-01-20\", \"2017-01-23\", \"2017-01-24\", \"2017-01-25\", \"2017-01-26\", \"2017-01-27\", \"2017-01-30\", \"2017-01-31\", \"2017-02-01\", \"2017-02-02\", \"2017-02-03\", \"2017-02-06\", \"2017-02-07\", \"2017-02-08\", \"2017-02-09\", \"2017-02-10\", \"2017-02-13\", \"2017-02-14\", \"2017-02-15\", \"2017-02-16\", \"2017-02-17\", \"2017-02-21\", \"2017-02-22\", \"2017-02-23\", \"2017-02-24\", \"2017-02-27\", \"2017-02-28\", \"2017-03-01\", \"2017-03-02\", \"2017-03-03\", \"2017-03-06\", \"2017-03-07\", \"2017-03-08\", \"2017-03-09\", \"2017-03-10\", \"2017-03-13\", \"2017-03-14\", \"2017-03-15\", \"2017-03-16\", \"2017-03-17\", \"2017-03-20\", \"2017-03-21\", \"2017-03-22\", \"2017-03-23\", \"2017-03-24\", \"2017-03-27\", \"2017-03-28\", \"2017-03-29\", \"2017-03-30\", \"2017-03-31\", \"2017-04-03\", \"2017-04-04\", \"2017-04-05\", \"2017-04-06\", \"2017-04-07\", \"2017-04-10\", \"2017-04-11\", \"2017-04-12\", \"2017-04-13\", \"2017-04-17\", \"2017-04-18\", \"2017-04-19\", \"2017-04-20\", \"2017-04-21\", \"2017-04-24\", \"2017-04-25\", \"2017-04-26\", \"2017-04-27\", \"2017-04-28\", \"2017-05-01\", \"2017-05-02\", \"2017-05-03\", \"2017-05-04\", \"2017-05-05\", \"2017-05-08\", \"2017-05-09\", \"2017-05-10\", \"2017-05-11\", \"2017-05-12\", \"2017-05-15\", \"2017-05-16\", \"2017-05-17\", \"2017-05-18\", \"2017-05-19\", \"2017-05-22\", \"2017-05-23\", \"2017-05-24\", \"2017-05-25\", \"2017-05-26\", \"2017-05-30\", \"2017-05-31\", \"2017-06-01\", \"2017-06-02\", \"2017-06-05\", \"2017-06-06\", \"2017-06-07\", \"2017-06-08\", \"2017-06-09\", \"2017-06-12\", \"2017-06-13\", \"2017-06-14\", \"2017-06-15\", \"2017-06-16\", \"2017-06-19\", \"2017-06-20\", \"2017-06-21\", \"2017-06-22\", \"2017-06-23\", \"2017-06-26\", \"2017-06-27\", \"2017-06-28\", \"2017-06-29\", \"2017-06-30\", \"2017-07-03\", \"2017-07-05\", \"2017-07-06\", \"2017-07-07\", \"2017-07-10\", \"2017-07-11\", \"2017-07-12\", \"2017-07-13\", \"2017-07-14\", \"2017-07-17\", \"2017-07-18\", \"2017-07-19\", \"2017-07-20\", \"2017-07-21\", \"2017-07-24\", \"2017-07-25\", \"2017-07-26\", \"2017-07-27\", \"2017-07-28\", \"2017-07-31\", \"2017-08-01\", \"2017-08-02\", \"2017-08-03\", \"2017-08-04\", \"2017-08-07\", \"2017-08-08\", \"2017-08-09\", \"2017-08-10\", \"2017-08-11\", \"2017-08-14\", \"2017-08-15\", \"2017-08-16\", \"2017-08-17\", \"2017-08-18\", \"2017-08-21\", \"2017-08-22\", \"2017-08-23\", \"2017-08-24\", \"2017-08-25\", \"2017-08-28\", \"2017-08-29\", \"2017-08-30\", \"2017-08-31\", \"2017-09-01\", \"2017-09-05\", \"2017-09-06\", \"2017-09-07\", \"2017-09-08\", \"2017-09-11\", \"2017-09-12\", \"2017-09-13\", \"2017-09-14\", \"2017-09-15\", \"2017-09-18\", \"2017-09-19\", \"2017-09-20\", \"2017-09-21\", \"2017-09-22\", \"2017-09-25\", \"2017-09-26\", \"2017-09-27\", \"2017-09-28\", \"2017-09-29\", \"2017-10-02\", \"2017-10-03\", \"2017-10-04\", \"2017-10-05\", \"2017-10-06\", \"2017-10-09\", \"2017-10-10\", \"2017-10-11\", \"2017-10-12\", \"2017-10-13\", \"2017-10-16\", \"2017-10-17\", \"2017-10-18\", \"2017-10-19\", \"2017-10-20\", \"2017-10-23\", \"2017-10-24\", \"2017-10-25\", \"2017-10-26\", \"2017-10-27\", \"2017-10-30\", \"2017-10-31\", \"2017-11-01\", \"2017-11-02\", \"2017-11-03\", \"2017-11-06\", \"2017-11-07\", \"2017-11-08\", \"2017-11-09\", \"2017-11-10\", \"2017-11-13\", \"2017-11-14\", \"2017-11-15\", \"2017-11-16\", \"2017-11-17\", \"2017-11-20\", \"2017-11-21\", \"2017-11-22\", \"2017-11-24\", \"2017-11-27\", \"2017-11-28\", \"2017-11-29\", \"2017-11-30\", \"2017-12-01\", \"2017-12-04\", \"2017-12-05\", \"2017-12-06\", \"2017-12-07\", \"2017-12-08\", \"2017-12-11\", \"2017-12-12\", \"2017-12-13\", \"2017-12-14\", \"2017-12-15\", \"2017-12-18\", \"2017-12-19\", \"2017-12-20\", \"2017-12-21\", \"2017-12-22\", \"2017-12-26\", \"2017-12-27\", \"2017-12-28\", \"2017-12-29\", \"2018-01-02\", \"2018-01-03\", \"2018-01-04\", \"2018-01-05\", \"2018-01-08\", \"2018-01-09\", \"2018-01-10\", \"2018-01-11\", \"2018-01-12\", \"2018-01-16\", \"2018-01-17\", \"2018-01-18\", \"2018-01-19\", \"2018-01-22\", \"2018-01-23\", \"2018-01-24\", \"2018-01-25\", \"2018-01-26\", \"2018-01-29\", \"2018-01-30\", \"2018-01-31\", \"2018-02-01\", \"2018-02-02\", \"2018-02-05\", \"2018-02-06\", \"2018-02-07\", \"2018-02-08\", \"2018-02-09\", \"2018-02-12\", \"2018-02-13\", \"2018-02-14\", \"2018-02-15\", \"2018-02-16\", \"2018-02-20\", \"2018-02-21\", \"2018-02-22\", \"2018-02-23\"], \"y\": [753.67, 757.18, 780.45, 795.99, 796.92, 795.9, 799.02, 813.64, 817.14, 809.72, 807.48, 809.04, 808.33, 817.88, 822.44, 836.52, 839.15, 835.77, 830.38, 823.48, 832.35, 839.95, 810.2, 807.64, 812.5, 819.71, 821.36, 827.46, 836.53, 836.39, 842.7, 844.14, 845.07, 856.44, 855.61, 852.19, 845.24, 848.64, 845.04, 853.08, 848.91, 849.88, 846.61, 846.02, 850.5, 853.0, 852.46, 854.59, 852.53, 852.97, 853.42, 852.31, 856.97, 843.2, 848.06, 847.38, 845.61, 846.82, 856.0, 874.32, 876.34, 886.54, 891.51, 906.83, 909.28, 898.28, 894.88, 907.04, 902.36, 896.23, 884.67, 901.99, 903.78, 899.2, 902.06, 898.53, 907.41, 907.62, 909.29, 918.38, 924.99, 948.23, 946.94, 941.03, 937.53, 934.15, 949.04, 952.82, 948.95, 947.62, 961.35, 957.97, 966.07, 944.76, 958.49, 959.84, 970.67, 971.54, 980.35, 993.38, 995.78, 996.7, 994.62, 995.95, 1006.73, 1011.34, 1003.0, 1010.07, 1010.27, 978.31, 964.91, 980.79, 976.47, 964.17, 987.71, 995.17, 992.59, 1002.23, 1001.3, 1003.74, 993.98, 976.78, 990.33, 975.93, 968.0, 953.66, 971.4, 965.14, 978.76, 996.47, 994.13, 1006.51, 1000.63, 1001.81, 1010.04, 1024.45, 1026.87, 1028.7, 1025.67, 1038.95, 1039.87, 1052.8, 1046.0, 1020.04, 987.78, 996.19, 995.89, 986.92, 987.58, 992.27, 989.84, 982.01, 956.92, 967.99, 983.3, 982.74, 978.18, 960.57, 958.47, 953.29, 966.9, 958.0, 952.45, 945.26, 946.02, 954.06, 967.59, 980.6, 978.25, 965.27, 967.8, 979.47, 965.9, 977.96, 982.58, 999.6, 992.21, 986.79, 974.19, 969.86, 973.21, 964.65, 955.1, 939.79, 938.6, 950.87, 956.4, 961.35, 959.19, 957.1, 965.45, 980.85, 989.58, 990.99, 987.2, 995.0, 1000.93, 1002.94, 1006.34, 1009.13, 997.0, 986.61, 982.91, 966.3, 975.9, 972.91, 972.43, 1100.95, 1110.85, 1105.28, 1103.68, 1094.22, 1111.6, 1120.66, 1123.17, 1132.88, 1129.13, 1125.35, 1129.17, 1136.84, 1126.69, 1137.29, 1129.88, 1126.31, 1139.49, 1156.16, 1186.0, 1195.83, 1193.6, 1161.27, 1176.75, 1162.35, 1133.95, 1141.57, 1152.35, 1159.79, 1162.0, 1168.92, 1165.08, 1164.13, 1174.26, 1179.14, 1190.58, 1187.38, 1177.62, 1174.76, 1168.36, 1176.76, 1182.26, 1186.1, 1169.47, 1189.01, 1204.2, 1209.59, 1229.14, 1246.87, 1252.7, 1254.33, 1276.68, 1305.2, 1304.86, 1295.0, 1293.32, 1294.58, 1327.31, 1362.54, 1357.51, 1377.95, 1402.05, 1417.68, 1437.82, 1450.89, 1390.0, 1429.95, 1390.0, 1442.84, 1416.78, 1350.5, 1339.6, 1386.23, 1414.51, 1451.05, 1461.76, 1448.69, 1468.35, 1482.92, 1485.34, 1500.0]}],\n",
       "                        {\"legend\": {\"bgcolor\": \"#F5F6F9\", \"font\": {\"color\": \"#4D5663\"}}, \"paper_bgcolor\": \"#F5F6F9\", \"plot_bgcolor\": \"#F5F6F9\", \"template\": {\"data\": {\"bar\": [{\"error_x\": {\"color\": \"#2a3f5f\"}, \"error_y\": {\"color\": \"#2a3f5f\"}, \"marker\": {\"line\": {\"color\": \"#E5ECF6\", \"width\": 0.5}}, \"type\": \"bar\"}], \"barpolar\": [{\"marker\": {\"line\": {\"color\": \"#E5ECF6\", \"width\": 0.5}}, \"type\": \"barpolar\"}], \"carpet\": [{\"aaxis\": {\"endlinecolor\": \"#2a3f5f\", \"gridcolor\": \"white\", \"linecolor\": \"white\", \"minorgridcolor\": \"white\", \"startlinecolor\": \"#2a3f5f\"}, \"baxis\": {\"endlinecolor\": \"#2a3f5f\", \"gridcolor\": \"white\", \"linecolor\": \"white\", \"minorgridcolor\": \"white\", \"startlinecolor\": \"#2a3f5f\"}, \"type\": \"carpet\"}], \"choropleth\": [{\"colorbar\": {\"outlinewidth\": 0, \"ticks\": \"\"}, \"type\": \"choropleth\"}], \"contour\": [{\"colorbar\": {\"outlinewidth\": 0, \"ticks\": \"\"}, \"colorscale\": [[0.0, \"#0d0887\"], [0.1111111111111111, \"#46039f\"], [0.2222222222222222, \"#7201a8\"], [0.3333333333333333, \"#9c179e\"], [0.4444444444444444, \"#bd3786\"], [0.5555555555555556, \"#d8576b\"], [0.6666666666666666, \"#ed7953\"], [0.7777777777777778, \"#fb9f3a\"], [0.8888888888888888, \"#fdca26\"], [1.0, \"#f0f921\"]], \"type\": \"contour\"}], \"contourcarpet\": [{\"colorbar\": {\"outlinewidth\": 0, \"ticks\": \"\"}, \"type\": \"contourcarpet\"}], \"heatmap\": [{\"colorbar\": {\"outlinewidth\": 0, \"ticks\": \"\"}, \"colorscale\": [[0.0, \"#0d0887\"], [0.1111111111111111, \"#46039f\"], [0.2222222222222222, \"#7201a8\"], [0.3333333333333333, \"#9c179e\"], [0.4444444444444444, \"#bd3786\"], [0.5555555555555556, \"#d8576b\"], [0.6666666666666666, \"#ed7953\"], [0.7777777777777778, \"#fb9f3a\"], [0.8888888888888888, \"#fdca26\"], [1.0, \"#f0f921\"]], \"type\": \"heatmap\"}], \"heatmapgl\": [{\"colorbar\": {\"outlinewidth\": 0, \"ticks\": \"\"}, \"colorscale\": [[0.0, \"#0d0887\"], [0.1111111111111111, \"#46039f\"], [0.2222222222222222, \"#7201a8\"], [0.3333333333333333, \"#9c179e\"], [0.4444444444444444, \"#bd3786\"], [0.5555555555555556, \"#d8576b\"], [0.6666666666666666, \"#ed7953\"], [0.7777777777777778, \"#fb9f3a\"], [0.8888888888888888, \"#fdca26\"], [1.0, \"#f0f921\"]], \"type\": \"heatmapgl\"}], \"histogram\": [{\"marker\": {\"colorbar\": {\"outlinewidth\": 0, \"ticks\": \"\"}}, \"type\": \"histogram\"}], \"histogram2d\": [{\"colorbar\": {\"outlinewidth\": 0, \"ticks\": \"\"}, \"colorscale\": [[0.0, \"#0d0887\"], [0.1111111111111111, \"#46039f\"], [0.2222222222222222, \"#7201a8\"], [0.3333333333333333, \"#9c179e\"], [0.4444444444444444, \"#bd3786\"], [0.5555555555555556, \"#d8576b\"], [0.6666666666666666, \"#ed7953\"], [0.7777777777777778, \"#fb9f3a\"], [0.8888888888888888, \"#fdca26\"], [1.0, \"#f0f921\"]], \"type\": \"histogram2d\"}], \"histogram2dcontour\": [{\"colorbar\": {\"outlinewidth\": 0, \"ticks\": \"\"}, \"colorscale\": [[0.0, \"#0d0887\"], [0.1111111111111111, \"#46039f\"], [0.2222222222222222, \"#7201a8\"], [0.3333333333333333, \"#9c179e\"], [0.4444444444444444, \"#bd3786\"], [0.5555555555555556, \"#d8576b\"], [0.6666666666666666, \"#ed7953\"], [0.7777777777777778, \"#fb9f3a\"], [0.8888888888888888, \"#fdca26\"], [1.0, \"#f0f921\"]], \"type\": \"histogram2dcontour\"}], \"mesh3d\": [{\"colorbar\": {\"outlinewidth\": 0, \"ticks\": \"\"}, \"type\": \"mesh3d\"}], \"parcoords\": [{\"line\": {\"colorbar\": {\"outlinewidth\": 0, \"ticks\": \"\"}}, \"type\": \"parcoords\"}], \"pie\": [{\"automargin\": true, \"type\": \"pie\"}], \"scatter\": [{\"marker\": {\"colorbar\": {\"outlinewidth\": 0, \"ticks\": \"\"}}, \"type\": \"scatter\"}], \"scatter3d\": [{\"line\": {\"colorbar\": {\"outlinewidth\": 0, \"ticks\": \"\"}}, \"marker\": {\"colorbar\": {\"outlinewidth\": 0, \"ticks\": \"\"}}, \"type\": \"scatter3d\"}], \"scattercarpet\": [{\"marker\": {\"colorbar\": {\"outlinewidth\": 0, \"ticks\": \"\"}}, \"type\": \"scattercarpet\"}], \"scattergeo\": [{\"marker\": {\"colorbar\": {\"outlinewidth\": 0, \"ticks\": \"\"}}, \"type\": \"scattergeo\"}], \"scattergl\": [{\"marker\": {\"colorbar\": {\"outlinewidth\": 0, \"ticks\": \"\"}}, \"type\": \"scattergl\"}], \"scattermapbox\": [{\"marker\": {\"colorbar\": {\"outlinewidth\": 0, \"ticks\": \"\"}}, \"type\": \"scattermapbox\"}], \"scatterpolar\": [{\"marker\": {\"colorbar\": {\"outlinewidth\": 0, \"ticks\": \"\"}}, \"type\": \"scatterpolar\"}], \"scatterpolargl\": [{\"marker\": {\"colorbar\": {\"outlinewidth\": 0, \"ticks\": \"\"}}, \"type\": \"scatterpolargl\"}], \"scatterternary\": [{\"marker\": {\"colorbar\": {\"outlinewidth\": 0, \"ticks\": \"\"}}, \"type\": \"scatterternary\"}], \"surface\": [{\"colorbar\": {\"outlinewidth\": 0, \"ticks\": \"\"}, \"colorscale\": [[0.0, \"#0d0887\"], [0.1111111111111111, \"#46039f\"], [0.2222222222222222, \"#7201a8\"], [0.3333333333333333, \"#9c179e\"], [0.4444444444444444, \"#bd3786\"], [0.5555555555555556, \"#d8576b\"], [0.6666666666666666, \"#ed7953\"], [0.7777777777777778, \"#fb9f3a\"], [0.8888888888888888, \"#fdca26\"], [1.0, \"#f0f921\"]], \"type\": \"surface\"}], \"table\": [{\"cells\": {\"fill\": {\"color\": \"#EBF0F8\"}, \"line\": {\"color\": \"white\"}}, \"header\": {\"fill\": {\"color\": \"#C8D4E3\"}, \"line\": {\"color\": \"white\"}}, \"type\": \"table\"}]}, \"layout\": {\"annotationdefaults\": {\"arrowcolor\": \"#2a3f5f\", \"arrowhead\": 0, \"arrowwidth\": 1}, \"coloraxis\": {\"colorbar\": {\"outlinewidth\": 0, \"ticks\": \"\"}}, \"colorscale\": {\"diverging\": [[0, \"#8e0152\"], [0.1, \"#c51b7d\"], [0.2, \"#de77ae\"], [0.3, \"#f1b6da\"], [0.4, \"#fde0ef\"], [0.5, \"#f7f7f7\"], [0.6, \"#e6f5d0\"], [0.7, \"#b8e186\"], [0.8, \"#7fbc41\"], [0.9, \"#4d9221\"], [1, \"#276419\"]], \"sequential\": [[0.0, \"#0d0887\"], [0.1111111111111111, \"#46039f\"], [0.2222222222222222, \"#7201a8\"], [0.3333333333333333, \"#9c179e\"], [0.4444444444444444, \"#bd3786\"], [0.5555555555555556, \"#d8576b\"], [0.6666666666666666, \"#ed7953\"], [0.7777777777777778, \"#fb9f3a\"], [0.8888888888888888, \"#fdca26\"], [1.0, \"#f0f921\"]], \"sequentialminus\": [[0.0, \"#0d0887\"], [0.1111111111111111, \"#46039f\"], [0.2222222222222222, \"#7201a8\"], [0.3333333333333333, \"#9c179e\"], [0.4444444444444444, \"#bd3786\"], [0.5555555555555556, \"#d8576b\"], [0.6666666666666666, \"#ed7953\"], [0.7777777777777778, \"#fb9f3a\"], [0.8888888888888888, \"#fdca26\"], [1.0, \"#f0f921\"]]}, \"colorway\": [\"#636efa\", \"#EF553B\", \"#00cc96\", \"#ab63fa\", \"#FFA15A\", \"#19d3f3\", \"#FF6692\", \"#B6E880\", \"#FF97FF\", \"#FECB52\"], \"font\": {\"color\": \"#2a3f5f\"}, \"geo\": {\"bgcolor\": \"white\", \"lakecolor\": \"white\", \"landcolor\": \"#E5ECF6\", \"showlakes\": true, \"showland\": true, \"subunitcolor\": \"white\"}, \"hoverlabel\": {\"align\": \"left\"}, \"hovermode\": \"closest\", \"mapbox\": {\"style\": \"light\"}, \"paper_bgcolor\": \"white\", \"plot_bgcolor\": \"#E5ECF6\", \"polar\": {\"angularaxis\": {\"gridcolor\": \"white\", \"linecolor\": \"white\", \"ticks\": \"\"}, \"bgcolor\": \"#E5ECF6\", \"radialaxis\": {\"gridcolor\": \"white\", \"linecolor\": \"white\", \"ticks\": \"\"}}, \"scene\": {\"xaxis\": {\"backgroundcolor\": \"#E5ECF6\", \"gridcolor\": \"white\", \"gridwidth\": 2, \"linecolor\": \"white\", \"showbackground\": true, \"ticks\": \"\", \"zerolinecolor\": \"white\"}, \"yaxis\": {\"backgroundcolor\": \"#E5ECF6\", \"gridcolor\": \"white\", \"gridwidth\": 2, \"linecolor\": \"white\", \"showbackground\": true, \"ticks\": \"\", \"zerolinecolor\": \"white\"}, \"zaxis\": {\"backgroundcolor\": \"#E5ECF6\", \"gridcolor\": \"white\", \"gridwidth\": 2, \"linecolor\": \"white\", \"showbackground\": true, \"ticks\": \"\", \"zerolinecolor\": \"white\"}}, \"shapedefaults\": {\"line\": {\"color\": \"#2a3f5f\"}}, \"ternary\": {\"aaxis\": {\"gridcolor\": \"white\", \"linecolor\": \"white\", \"ticks\": \"\"}, \"baxis\": {\"gridcolor\": \"white\", \"linecolor\": \"white\", \"ticks\": \"\"}, \"bgcolor\": \"#E5ECF6\", \"caxis\": {\"gridcolor\": \"white\", \"linecolor\": \"white\", \"ticks\": \"\"}}, \"title\": {\"x\": 0.05}, \"xaxis\": {\"automargin\": true, \"gridcolor\": \"white\", \"linecolor\": \"white\", \"ticks\": \"\", \"title\": {\"standoff\": 15}, \"zerolinecolor\": \"white\", \"zerolinewidth\": 2}, \"yaxis\": {\"automargin\": true, \"gridcolor\": \"white\", \"linecolor\": \"white\", \"ticks\": \"\", \"title\": {\"standoff\": 15}, \"zerolinecolor\": \"white\", \"zerolinewidth\": 2}}}, \"title\": {\"font\": {\"color\": \"#4D5663\"}}, \"xaxis\": {\"gridcolor\": \"#E1E5ED\", \"showgrid\": true, \"tickfont\": {\"color\": \"#4D5663\"}, \"title\": {\"font\": {\"color\": \"#4D5663\"}, \"text\": \"\"}, \"zerolinecolor\": \"#E1E5ED\"}, \"yaxis\": {\"gridcolor\": \"#E1E5ED\", \"showgrid\": true, \"tickfont\": {\"color\": \"#4D5663\"}, \"title\": {\"font\": {\"color\": \"#4D5663\"}, \"text\": \"\"}, \"zerolinecolor\": \"#E1E5ED\"}},\n",
       "                        {\"showLink\": true, \"linkText\": \"Export to plot.ly\", \"plotlyServerURL\": \"https://plot.ly\", \"responsive\": true}\n",
       "                    ).then(function(){\n",
       "                            \n",
       "var gd = document.getElementById('ea0e7217-4a01-4fa5-8497-b9440b56c1d7');\n",
       "var x = new MutationObserver(function (mutations, observer) {{\n",
       "        var display = window.getComputedStyle(gd).display;\n",
       "        if (!display || display === 'none') {{\n",
       "            console.log([gd, 'removed!']);\n",
       "            Plotly.purge(gd);\n",
       "            observer.disconnect();\n",
       "        }}\n",
       "}});\n",
       "\n",
       "// Listen for the removal of the full notebook cells\n",
       "var notebookContainer = gd.closest('#notebook-container');\n",
       "if (notebookContainer) {{\n",
       "    x.observe(notebookContainer, {childList: true});\n",
       "}}\n",
       "\n",
       "// Listen for the clearing of the current output cell\n",
       "var outputEl = gd.closest('.output');\n",
       "if (outputEl) {{\n",
       "    x.observe(outputEl, {childList: true});\n",
       "}}\n",
       "\n",
       "                        })\n",
       "                };\n",
       "                });\n",
       "            </script>\n",
       "        </div>"
      ]
     },
     "metadata": {},
     "output_type": "display_data"
    }
   ],
   "source": [
    "ts_data.iplot()"
   ]
  },
  {
   "cell_type": "markdown",
   "metadata": {},
   "source": [
    "The line chart above shows the real stock prices of these two companies. However, to compare the performances between the two companies, you can use `.normalize()` to normalize financial time series data and then plot the line chart to visualize the comparison."
   ]
  },
  {
   "cell_type": "code",
   "execution_count": 13,
   "metadata": {},
   "outputs": [
    {
     "data": {
      "application/vnd.plotly.v1+json": {
       "config": {
        "linkText": "Export to plot.ly",
        "plotlyServerURL": "https://plot.ly",
        "showLink": true
       },
       "data": [
        {
         "line": {
          "color": "rgba(255, 153, 51, 1.0)",
          "dash": "solid",
          "shape": "linear",
          "width": 1.3
         },
         "mode": "lines",
         "name": "AAPL.O",
         "text": "",
         "type": "scatter",
         "x": [
          "2017-01-03",
          "2017-01-04",
          "2017-01-05",
          "2017-01-06",
          "2017-01-09",
          "2017-01-10",
          "2017-01-11",
          "2017-01-12",
          "2017-01-13",
          "2017-01-17",
          "2017-01-18",
          "2017-01-19",
          "2017-01-20",
          "2017-01-23",
          "2017-01-24",
          "2017-01-25",
          "2017-01-26",
          "2017-01-27",
          "2017-01-30",
          "2017-01-31",
          "2017-02-01",
          "2017-02-02",
          "2017-02-03",
          "2017-02-06",
          "2017-02-07",
          "2017-02-08",
          "2017-02-09",
          "2017-02-10",
          "2017-02-13",
          "2017-02-14",
          "2017-02-15",
          "2017-02-16",
          "2017-02-17",
          "2017-02-21",
          "2017-02-22",
          "2017-02-23",
          "2017-02-24",
          "2017-02-27",
          "2017-02-28",
          "2017-03-01",
          "2017-03-02",
          "2017-03-03",
          "2017-03-06",
          "2017-03-07",
          "2017-03-08",
          "2017-03-09",
          "2017-03-10",
          "2017-03-13",
          "2017-03-14",
          "2017-03-15",
          "2017-03-16",
          "2017-03-17",
          "2017-03-20",
          "2017-03-21",
          "2017-03-22",
          "2017-03-23",
          "2017-03-24",
          "2017-03-27",
          "2017-03-28",
          "2017-03-29",
          "2017-03-30",
          "2017-03-31",
          "2017-04-03",
          "2017-04-04",
          "2017-04-05",
          "2017-04-06",
          "2017-04-07",
          "2017-04-10",
          "2017-04-11",
          "2017-04-12",
          "2017-04-13",
          "2017-04-17",
          "2017-04-18",
          "2017-04-19",
          "2017-04-20",
          "2017-04-21",
          "2017-04-24",
          "2017-04-25",
          "2017-04-26",
          "2017-04-27",
          "2017-04-28",
          "2017-05-01",
          "2017-05-02",
          "2017-05-03",
          "2017-05-04",
          "2017-05-05",
          "2017-05-08",
          "2017-05-09",
          "2017-05-10",
          "2017-05-11",
          "2017-05-12",
          "2017-05-15",
          "2017-05-16",
          "2017-05-17",
          "2017-05-18",
          "2017-05-19",
          "2017-05-22",
          "2017-05-23",
          "2017-05-24",
          "2017-05-25",
          "2017-05-26",
          "2017-05-30",
          "2017-05-31",
          "2017-06-01",
          "2017-06-02",
          "2017-06-05",
          "2017-06-06",
          "2017-06-07",
          "2017-06-08",
          "2017-06-09",
          "2017-06-12",
          "2017-06-13",
          "2017-06-14",
          "2017-06-15",
          "2017-06-16",
          "2017-06-19",
          "2017-06-20",
          "2017-06-21",
          "2017-06-22",
          "2017-06-23",
          "2017-06-26",
          "2017-06-27",
          "2017-06-28",
          "2017-06-29",
          "2017-06-30",
          "2017-07-03",
          "2017-07-05",
          "2017-07-06",
          "2017-07-07",
          "2017-07-10",
          "2017-07-11",
          "2017-07-12",
          "2017-07-13",
          "2017-07-14",
          "2017-07-17",
          "2017-07-18",
          "2017-07-19",
          "2017-07-20",
          "2017-07-21",
          "2017-07-24",
          "2017-07-25",
          "2017-07-26",
          "2017-07-27",
          "2017-07-28",
          "2017-07-31",
          "2017-08-01",
          "2017-08-02",
          "2017-08-03",
          "2017-08-04",
          "2017-08-07",
          "2017-08-08",
          "2017-08-09",
          "2017-08-10",
          "2017-08-11",
          "2017-08-14",
          "2017-08-15",
          "2017-08-16",
          "2017-08-17",
          "2017-08-18",
          "2017-08-21",
          "2017-08-22",
          "2017-08-23",
          "2017-08-24",
          "2017-08-25",
          "2017-08-28",
          "2017-08-29",
          "2017-08-30",
          "2017-08-31",
          "2017-09-01",
          "2017-09-05",
          "2017-09-06",
          "2017-09-07",
          "2017-09-08",
          "2017-09-11",
          "2017-09-12",
          "2017-09-13",
          "2017-09-14",
          "2017-09-15",
          "2017-09-18",
          "2017-09-19",
          "2017-09-20",
          "2017-09-21",
          "2017-09-22",
          "2017-09-25",
          "2017-09-26",
          "2017-09-27",
          "2017-09-28",
          "2017-09-29",
          "2017-10-02",
          "2017-10-03",
          "2017-10-04",
          "2017-10-05",
          "2017-10-06",
          "2017-10-09",
          "2017-10-10",
          "2017-10-11",
          "2017-10-12",
          "2017-10-13",
          "2017-10-16",
          "2017-10-17",
          "2017-10-18",
          "2017-10-19",
          "2017-10-20",
          "2017-10-23",
          "2017-10-24",
          "2017-10-25",
          "2017-10-26",
          "2017-10-27",
          "2017-10-30",
          "2017-10-31",
          "2017-11-01",
          "2017-11-02",
          "2017-11-03",
          "2017-11-06",
          "2017-11-07",
          "2017-11-08",
          "2017-11-09",
          "2017-11-10",
          "2017-11-13",
          "2017-11-14",
          "2017-11-15",
          "2017-11-16",
          "2017-11-17",
          "2017-11-20",
          "2017-11-21",
          "2017-11-22",
          "2017-11-24",
          "2017-11-27",
          "2017-11-28",
          "2017-11-29",
          "2017-11-30",
          "2017-12-01",
          "2017-12-04",
          "2017-12-05",
          "2017-12-06",
          "2017-12-07",
          "2017-12-08",
          "2017-12-11",
          "2017-12-12",
          "2017-12-13",
          "2017-12-14",
          "2017-12-15",
          "2017-12-18",
          "2017-12-19",
          "2017-12-20",
          "2017-12-21",
          "2017-12-22",
          "2017-12-26",
          "2017-12-27",
          "2017-12-28",
          "2017-12-29",
          "2018-01-02",
          "2018-01-03",
          "2018-01-04",
          "2018-01-05",
          "2018-01-08",
          "2018-01-09",
          "2018-01-10",
          "2018-01-11",
          "2018-01-12",
          "2018-01-16",
          "2018-01-17",
          "2018-01-18",
          "2018-01-19",
          "2018-01-22",
          "2018-01-23",
          "2018-01-24",
          "2018-01-25",
          "2018-01-26",
          "2018-01-29",
          "2018-01-30",
          "2018-01-31",
          "2018-02-01",
          "2018-02-02",
          "2018-02-05",
          "2018-02-06",
          "2018-02-07",
          "2018-02-08",
          "2018-02-09",
          "2018-02-12",
          "2018-02-13",
          "2018-02-14",
          "2018-02-15",
          "2018-02-16",
          "2018-02-20",
          "2018-02-21",
          "2018-02-22",
          "2018-02-23"
         ],
         "y": [
          100,
          99.88807576409813,
          100.39603960396039,
          101.5152819629789,
          102.44511407662505,
          102.54842875591908,
          103.09944037882049,
          102.66896254842874,
          102.48816185966423,
          103.31467929401634,
          103.30606973740852,
          103.12526904864399,
          103.31467929401634,
          103.38355574687903,
          103.28885062419285,
          104.93327593628928,
          104.98493327593627,
          104.99354283254412,
          104.71803702109341,
          104.47696943607403,
          110.84804132587172,
          110.65863108049936,
          111.13215669393026,
          112.17391304347825,
          113.24149806284976,
          113.68058544984932,
          114.00774860094704,
          113.749461902712,
          114.75678002582865,
          116.24623331898407,
          116.66810159276797,
          116.52604390873869,
          116.84890228153249,
          117.69263882910028,
          118.04563065002154,
          117.54627636676712,
          117.65820060266896,
          117.8906586310805,
          117.9423159707275,
          120.3529918209212,
          119.63839862247094,
          120.34438226431338,
          119.96556177356865,
          120.12053379250969,
          119.67283684890229,
          119.39733103745158,
          119.79337064141195,
          119.84502798105896,
          119.66422729229444,
          120.92983211364614,
          121.12785191562634,
          120.52518295307793,
          121.79078777442962,
          120.39603960396039,
          121.75634954799825,
          121.32587171760653,
          121.08480413258715,
          121.2914334911752,
          123.80542402066294,
          124.08092983211365,
          123.9173482565648,
          123.68489022815324,
          123.71932845458457,
          124.6405510116229,
          123.9948342660353,
          123.68489022815324,
          123.40938441670252,
          123.26302195436934,
          121.93715023676279,
          122.083512699096,
          121.43779595350838,
          122.10934136891952,
          121.5669393026259,
          121.11924235901851,
          122.63452432199742,
          122.48816185966422,
          123.66767111493758,
          124.43392165303486,
          123.70210934136891,
          123.79681446405509,
          123.67628067154541,
          126.19888075764098,
          126.9995695221696,
          126.61213947481704,
          126.1558329746018,
          128.24795523030562,
          131.73482565647868,
          132.57856220404648,
          131.95006457167455,
          132.54412397761516,
          134.3951786482996,
          134.0507963839862,
          133.85277658200602,
          129.3585880327163,
          131.33017649591045,
          131.77787343951786,
          132.57856220404648,
          132.41498062849763,
          132.01894102453724,
          132.4752475247525,
          132.25139905294878,
          132.30305639259575,
          131.5195867412828,
          131.88118811881188,
          133.83555746879034,
          132.52690486439948,
          132.97460180800687,
          133.76668101592767,
          133.43951786482998,
          128.2651743435213,
          125.20017219113213,
          126.2074903142488,
          124.97632371932845,
          124.22729229444683,
          122.48816185966422,
          125.99225139905295,
          124.84718037021092,
          125.5876022384847,
          125.38097287989667,
          125.94059405940594,
          125.54455445544552,
          123.74515712440808,
          125.55316401205339,
          123.70210934136891,
          123.9948342660353,
          123.54713732242789,
          124.05510116229014,
          122.88420146362459,
          124.13258717176066,
          124.8902281532501,
          125.29487731381835,
          125.47567800258285,
          127.22341799397331,
          128.3168316831683,
          128.76452862677573,
          129.2122255703831,
          130.0215238915196,
          129.43607404218682,
          129.375807145932,
          130.9427464485579,
          131.50236762806716,
          132.12225570383126,
          129.62548428755917,
          128.7128712871287,
          128.04993542832543,
          129.18639690055963,
          135.2905725355144,
          133.93887214808436,
          134.6448557899268,
          136.7283684890228,
          137.82178217821783,
          138.6655187257856,
          133.7236332328885,
          135.58329746018077,
          137.6237623762376,
          139.1304347826087,
          138.57081360309942,
          135.91046061127852,
          135.60051657339648,
          135.35083943176926,
          137.56349547998278,
          137.73568661213946,
          137.1244080929832,
          137.63237193284544,
          139.01851054670684,
          140.25828669823503,
          140.63710718897974,
          141.19672836848903,
          141.23977615152822,
          139.54369349978478,
          139.39733103745155,
          138.83770985794231,
          136.57339647008178,
          139.04433921653035,
          138.49332759362895,
          137.45157124408095,
          136.27206198880756,
          137.64959104606112,
          136.60783469651312,
          136.65949203616012,
          134.3693499784761,
          132.0619888075764,
          130.7705553164012,
          129.61687473095137,
          131.84674989238053,
          132.7851915626345,
          131.96728368489022,
          132.69048643994833,
          132.42359018510547,
          133.00043047783038,
          132.1394748170469,
          133.78390012914335,
          133.70641411967284,
          134.17133017649593,
          134.22298751614292,
          134.7826086956522,
          134.30908308222126,
          135.1614291863969,
          137.64959104606112,
          138.15755488592336,
          137.5462763667671,
          134.2918639690056,
          134.52432199741713,
          134.45544554455444,
          135.25613430908308,
          134.66207490314247,
          135.52303056392594,
          140.37882049074472,
          143.53852776582005,
          145.5359448988377,
          143.68489022815322,
          144.73525613430908,
          148.5148514851485,
          150.02152389151956,
          150.50365906155832,
          151.73482565647868,
          151.42488161859663,
          150.38312526904863,
          149.7804563065002,
          147.51614291863967,
          145.57038312526905,
          147.30951356005164,
          146.49160568230738,
          146.34524321997415,
          149.0658631080499,
          150.63280241067585,
          150.64141196728366,
          149.88377098579423,
          149.00559621179508,
          145.9147653895824,
          147.95523030563925,
          147.26646577701248,
          146.19027120103314,
          146.05251829530778,
          145.5101162290142,
          145.77701248385705,
          145.82006026689623,
          148.66121394748168,
          147.82608695652172,
          148.31683168316832,
          148.27378390012913,
          149.7804563065002,
          151.88979767541971,
          150.27120103314678,
          150.1076194575979,
          150.675850193715,
          150.675850193715,
          146.8532070598364,
          146.8790357296599,
          147.29229444683597,
          145.69952647438654,
          148.30822212656048,
          148.28239345673697,
          148.97115798536376,
          150.6672406371072,
          150.1076194575979,
          150.09040034438226,
          150.0559621179509,
          150.90830822212655,
          152.46663796814462,
          151.6917778734395,
          154.19715884631938,
          154.33491175204475,
          153.64614722341798,
          152.38915195867412,
          152.42359018510544,
          149.99569522169608,
          147.3181231166595,
          147.66250538097287,
          144.60611278519156,
          143.75376668101592,
          144.1498062849763,
          144.45114076625055,
          138.18338355574687,
          134.73095135600516,
          140.36160137752904,
          137.35686612139472,
          133.57727077055532,
          134.66207490314247,
          140.08609556607834,
          141.4894532931554,
          144.0981489453293,
          148.9367197589324,
          148.45458458889368,
          147.95523030563925,
          147.28368489022813,
          148.5148514851485,
          151.0977184674989
         ]
        },
        {
         "line": {
          "color": "rgba(55, 128, 191, 1.0)",
          "dash": "solid",
          "shape": "linear",
          "width": 1.3
         },
         "mode": "lines",
         "name": "AMZN.O",
         "text": "",
         "type": "scatter",
         "x": [
          "2017-01-03",
          "2017-01-04",
          "2017-01-05",
          "2017-01-06",
          "2017-01-09",
          "2017-01-10",
          "2017-01-11",
          "2017-01-12",
          "2017-01-13",
          "2017-01-17",
          "2017-01-18",
          "2017-01-19",
          "2017-01-20",
          "2017-01-23",
          "2017-01-24",
          "2017-01-25",
          "2017-01-26",
          "2017-01-27",
          "2017-01-30",
          "2017-01-31",
          "2017-02-01",
          "2017-02-02",
          "2017-02-03",
          "2017-02-06",
          "2017-02-07",
          "2017-02-08",
          "2017-02-09",
          "2017-02-10",
          "2017-02-13",
          "2017-02-14",
          "2017-02-15",
          "2017-02-16",
          "2017-02-17",
          "2017-02-21",
          "2017-02-22",
          "2017-02-23",
          "2017-02-24",
          "2017-02-27",
          "2017-02-28",
          "2017-03-01",
          "2017-03-02",
          "2017-03-03",
          "2017-03-06",
          "2017-03-07",
          "2017-03-08",
          "2017-03-09",
          "2017-03-10",
          "2017-03-13",
          "2017-03-14",
          "2017-03-15",
          "2017-03-16",
          "2017-03-17",
          "2017-03-20",
          "2017-03-21",
          "2017-03-22",
          "2017-03-23",
          "2017-03-24",
          "2017-03-27",
          "2017-03-28",
          "2017-03-29",
          "2017-03-30",
          "2017-03-31",
          "2017-04-03",
          "2017-04-04",
          "2017-04-05",
          "2017-04-06",
          "2017-04-07",
          "2017-04-10",
          "2017-04-11",
          "2017-04-12",
          "2017-04-13",
          "2017-04-17",
          "2017-04-18",
          "2017-04-19",
          "2017-04-20",
          "2017-04-21",
          "2017-04-24",
          "2017-04-25",
          "2017-04-26",
          "2017-04-27",
          "2017-04-28",
          "2017-05-01",
          "2017-05-02",
          "2017-05-03",
          "2017-05-04",
          "2017-05-05",
          "2017-05-08",
          "2017-05-09",
          "2017-05-10",
          "2017-05-11",
          "2017-05-12",
          "2017-05-15",
          "2017-05-16",
          "2017-05-17",
          "2017-05-18",
          "2017-05-19",
          "2017-05-22",
          "2017-05-23",
          "2017-05-24",
          "2017-05-25",
          "2017-05-26",
          "2017-05-30",
          "2017-05-31",
          "2017-06-01",
          "2017-06-02",
          "2017-06-05",
          "2017-06-06",
          "2017-06-07",
          "2017-06-08",
          "2017-06-09",
          "2017-06-12",
          "2017-06-13",
          "2017-06-14",
          "2017-06-15",
          "2017-06-16",
          "2017-06-19",
          "2017-06-20",
          "2017-06-21",
          "2017-06-22",
          "2017-06-23",
          "2017-06-26",
          "2017-06-27",
          "2017-06-28",
          "2017-06-29",
          "2017-06-30",
          "2017-07-03",
          "2017-07-05",
          "2017-07-06",
          "2017-07-07",
          "2017-07-10",
          "2017-07-11",
          "2017-07-12",
          "2017-07-13",
          "2017-07-14",
          "2017-07-17",
          "2017-07-18",
          "2017-07-19",
          "2017-07-20",
          "2017-07-21",
          "2017-07-24",
          "2017-07-25",
          "2017-07-26",
          "2017-07-27",
          "2017-07-28",
          "2017-07-31",
          "2017-08-01",
          "2017-08-02",
          "2017-08-03",
          "2017-08-04",
          "2017-08-07",
          "2017-08-08",
          "2017-08-09",
          "2017-08-10",
          "2017-08-11",
          "2017-08-14",
          "2017-08-15",
          "2017-08-16",
          "2017-08-17",
          "2017-08-18",
          "2017-08-21",
          "2017-08-22",
          "2017-08-23",
          "2017-08-24",
          "2017-08-25",
          "2017-08-28",
          "2017-08-29",
          "2017-08-30",
          "2017-08-31",
          "2017-09-01",
          "2017-09-05",
          "2017-09-06",
          "2017-09-07",
          "2017-09-08",
          "2017-09-11",
          "2017-09-12",
          "2017-09-13",
          "2017-09-14",
          "2017-09-15",
          "2017-09-18",
          "2017-09-19",
          "2017-09-20",
          "2017-09-21",
          "2017-09-22",
          "2017-09-25",
          "2017-09-26",
          "2017-09-27",
          "2017-09-28",
          "2017-09-29",
          "2017-10-02",
          "2017-10-03",
          "2017-10-04",
          "2017-10-05",
          "2017-10-06",
          "2017-10-09",
          "2017-10-10",
          "2017-10-11",
          "2017-10-12",
          "2017-10-13",
          "2017-10-16",
          "2017-10-17",
          "2017-10-18",
          "2017-10-19",
          "2017-10-20",
          "2017-10-23",
          "2017-10-24",
          "2017-10-25",
          "2017-10-26",
          "2017-10-27",
          "2017-10-30",
          "2017-10-31",
          "2017-11-01",
          "2017-11-02",
          "2017-11-03",
          "2017-11-06",
          "2017-11-07",
          "2017-11-08",
          "2017-11-09",
          "2017-11-10",
          "2017-11-13",
          "2017-11-14",
          "2017-11-15",
          "2017-11-16",
          "2017-11-17",
          "2017-11-20",
          "2017-11-21",
          "2017-11-22",
          "2017-11-24",
          "2017-11-27",
          "2017-11-28",
          "2017-11-29",
          "2017-11-30",
          "2017-12-01",
          "2017-12-04",
          "2017-12-05",
          "2017-12-06",
          "2017-12-07",
          "2017-12-08",
          "2017-12-11",
          "2017-12-12",
          "2017-12-13",
          "2017-12-14",
          "2017-12-15",
          "2017-12-18",
          "2017-12-19",
          "2017-12-20",
          "2017-12-21",
          "2017-12-22",
          "2017-12-26",
          "2017-12-27",
          "2017-12-28",
          "2017-12-29",
          "2018-01-02",
          "2018-01-03",
          "2018-01-04",
          "2018-01-05",
          "2018-01-08",
          "2018-01-09",
          "2018-01-10",
          "2018-01-11",
          "2018-01-12",
          "2018-01-16",
          "2018-01-17",
          "2018-01-18",
          "2018-01-19",
          "2018-01-22",
          "2018-01-23",
          "2018-01-24",
          "2018-01-25",
          "2018-01-26",
          "2018-01-29",
          "2018-01-30",
          "2018-01-31",
          "2018-02-01",
          "2018-02-02",
          "2018-02-05",
          "2018-02-06",
          "2018-02-07",
          "2018-02-08",
          "2018-02-09",
          "2018-02-12",
          "2018-02-13",
          "2018-02-14",
          "2018-02-15",
          "2018-02-16",
          "2018-02-20",
          "2018-02-21",
          "2018-02-22",
          "2018-02-23"
         ],
         "y": [
          100,
          100.46572107155652,
          103.55327928669047,
          105.61518967187232,
          105.73858585322489,
          105.60324810593495,
          106.01722239176297,
          107.95706343625196,
          108.42145766714874,
          107.43694189764751,
          107.13972958987357,
          107.34671673278756,
          107.25251104594851,
          108.51964387596693,
          109.12468321679252,
          110.99287486565738,
          111.34183395915984,
          110.8933618161795,
          110.17819470059843,
          109.26267464540184,
          110.43958231056033,
          111.44798121193627,
          107.50063024931337,
          107.16095904042884,
          107.80580360104554,
          108.76245571669298,
          108.98138442554435,
          109.79075722796449,
          110.99420170631709,
          110.97562593708122,
          111.81286239335519,
          112.00392744835273,
          112.12732362970532,
          113.6359414597901,
          113.52581368503458,
          113.0720341794154,
          112.14987992092031,
          112.60100574522005,
          112.1233431077262,
          113.19012299812916,
          112.6368304430321,
          112.76553398702352,
          112.3316570912999,
          112.25337349237729,
          112.84779810792523,
          113.17950827285152,
          113.10785887722746,
          113.39047593774465,
          113.11714676184536,
          113.1755277508724,
          113.23523558055912,
          113.08795626733186,
          113.70626401475448,
          111.87920442634045,
          112.52404898695715,
          112.43382382209721,
          112.1989730253294,
          112.35952074515372,
          113.57756047076306,
          116.00833255934295,
          116.2763543726034,
          117.62973184550268,
          118.28917165337616,
          120.32189154404449,
          120.64696750567225,
          119.18744277999656,
          118.7363169556968,
          120.34975519789828,
          119.72879376915625,
          118.915440444757,
          117.3816126421378,
          119.67970066474717,
          119.91720514283439,
          119.30951212068943,
          119.68898854936512,
          119.22061379648919,
          120.39884830230739,
          120.4267119561612,
          120.64829434633195,
          121.85439250600396,
          122.7314341820691,
          125.8150118752239,
          125.64384943012195,
          124.85968660023619,
          124.39529236933937,
          123.94682022635901,
          125.92248596866003,
          126.42403173802859,
          125.91054440272269,
          125.73407459498189,
          127.5558268207571,
          127.10735467777677,
          128.18209561213797,
          125.3545981663062,
          127.17635039208142,
          127.35547388114163,
          128.79244231560233,
          128.90787745299667,
          130.07682407419694,
          131.8056974537928,
          132.12413921212203,
          132.2462085528149,
          131.9702256955962,
          132.146695503337,
          133.57702973449918,
          134.18870327862328,
          133.08211816842916,
          134.02019451484074,
          134.0467313280348,
          129.8061485796171,
          128.02818209561212,
          130.13520506322396,
          129.5620098982313,
          127.92999588679395,
          131.05337879973996,
          132.04320193188,
          131.70087704167608,
          132.97995143763185,
          132.85655525627928,
          133.18030437724735,
          131.88530789337509,
          129.6031419586822,
          131.4010110525827,
          129.49036050260725,
          128.43817585946104,
          126.53548635344383,
          128.8893016837608,
          128.05869943078537,
          129.8658564093038,
          132.21569121764168,
          131.90521050327067,
          133.54783923998568,
          132.76765693207903,
          132.92422412992423,
          134.01621399286162,
          135.92819138349677,
          136.2492868231454,
          136.49209866387147,
          136.09006594398082,
          137.8521103400693,
          137.97417968076212,
          139.68978465376094,
          138.78753300516144,
          135.34305465256676,
          131.06266668435788,
          132.17853967916994,
          132.13873445937878,
          130.94855838762322,
          131.03612987116378,
          131.65841814056552,
          131.33599586025716,
          130.297079623708,
          126.96803640850771,
          128.43684901880135,
          130.46824206880996,
          130.39393899186646,
          129.7888996510409,
          127.4523332493001,
          127.17369671076202,
          126.48639324903472,
          128.29222338689348,
          127.11133519975586,
          126.37493863361951,
          125.42094019929146,
          125.52178008942907,
          126.58855997983203,
          128.38377539241316,
          130.10999509068958,
          129.79818753565885,
          128.07594835936155,
          128.41163904626694,
          129.96006209614288,
          128.15953932092293,
          129.7597091565274,
          130.3727095413112,
          132.6309923441294,
          131.65045709660728,
          130.93130945904707,
          129.25949022781856,
          128.68496822216622,
          129.12945984316744,
          127.9936842384598,
          126.72655140844138,
          124.69515835843275,
          124.53726431992781,
          126.16529780938608,
          126.89904069420304,
          127.5558268207571,
          127.26922923826078,
          126.9919195403824,
          128.09983149123622,
          130.1431661071822,
          131.30149800310483,
          131.48858253612326,
          130.98570992609498,
          132.02064564066504,
          132.80746215187017,
          133.07415712447093,
          133.5252829487707,
          133.89547149282842,
          132.28601377260605,
          130.90742632717237,
          130.41649528308145,
          128.21261294731116,
          129.48637998062813,
          129.08965462337628,
          129.02596627171044,
          146.07852243024138,
          147.39209468334946,
          146.6530444358937,
          146.44074993034087,
          145.18555866625977,
          147.49160773282736,
          148.69372537052027,
          149.0267623761063,
          150.31512465668,
          149.81755940929057,
          149.31601363992198,
          149.82286677192937,
          150.84055355792322,
          149.4938102883225,
          150.90026138760996,
          149.91707245876844,
          149.4433903432537,
          151.1921663327451,
          153.40400971247365,
          157.36330224103386,
          158.66758660952408,
          158.37170114240982,
          154.08202528958296,
          156.1359746308066,
          154.22532408083114,
          150.45709660726845,
          151.46814918996378,
          152.89848342112595,
          153.88565287194663,
          154.17888465774146,
          155.09705839425746,
          154.58755158093064,
          154.4615017182587,
          155.80559130654,
          156.45308954847616,
          157.97099526317885,
          157.5464062520732,
          156.25140976820094,
          155.87193333952527,
          155.02275531731394,
          156.1373014714663,
          156.86706383430416,
          157.37657064763093,
          155.1700346305412,
          157.76268127960515,
          159.7781522416973,
          160.49331935727838,
          163.08729284700203,
          165.43978133665925,
          166.2133294412674,
          166.42960446879934,
          169.39509334324043,
          173.1792429047196,
          173.1341303222896,
          171.8258654318203,
          171.6029562009898,
          171.7701381241127,
          176.11288760332772,
          180.78734724746906,
          180.11994639563736,
          182.83200870407475,
          186.0296946939642,
          188.1035466450834,
          190.77580373372962,
          192.5099844759643,
          184.43085169901948,
          189.73158013454164,
          184.43085169901948,
          191.44187774490163,
          187.98413098570995,
          179.18983109318404,
          177.74357477410538,
          183.93063277031064,
          187.68293815595686,
          192.53121392651957,
          193.9522602730638,
          192.21807953082916,
          194.8266482678095,
          196.75985510899997,
          197.08095054864862,
          199.0260989557764
         ]
        }
       ],
       "layout": {
        "legend": {
         "bgcolor": "#F5F6F9",
         "font": {
          "color": "#4D5663"
         }
        },
        "paper_bgcolor": "#F5F6F9",
        "plot_bgcolor": "#F5F6F9",
        "template": {
         "data": {
          "bar": [
           {
            "error_x": {
             "color": "#2a3f5f"
            },
            "error_y": {
             "color": "#2a3f5f"
            },
            "marker": {
             "line": {
              "color": "#E5ECF6",
              "width": 0.5
             }
            },
            "type": "bar"
           }
          ],
          "barpolar": [
           {
            "marker": {
             "line": {
              "color": "#E5ECF6",
              "width": 0.5
             }
            },
            "type": "barpolar"
           }
          ],
          "carpet": [
           {
            "aaxis": {
             "endlinecolor": "#2a3f5f",
             "gridcolor": "white",
             "linecolor": "white",
             "minorgridcolor": "white",
             "startlinecolor": "#2a3f5f"
            },
            "baxis": {
             "endlinecolor": "#2a3f5f",
             "gridcolor": "white",
             "linecolor": "white",
             "minorgridcolor": "white",
             "startlinecolor": "#2a3f5f"
            },
            "type": "carpet"
           }
          ],
          "choropleth": [
           {
            "colorbar": {
             "outlinewidth": 0,
             "ticks": ""
            },
            "type": "choropleth"
           }
          ],
          "contour": [
           {
            "colorbar": {
             "outlinewidth": 0,
             "ticks": ""
            },
            "colorscale": [
             [
              0,
              "#0d0887"
             ],
             [
              0.1111111111111111,
              "#46039f"
             ],
             [
              0.2222222222222222,
              "#7201a8"
             ],
             [
              0.3333333333333333,
              "#9c179e"
             ],
             [
              0.4444444444444444,
              "#bd3786"
             ],
             [
              0.5555555555555556,
              "#d8576b"
             ],
             [
              0.6666666666666666,
              "#ed7953"
             ],
             [
              0.7777777777777778,
              "#fb9f3a"
             ],
             [
              0.8888888888888888,
              "#fdca26"
             ],
             [
              1,
              "#f0f921"
             ]
            ],
            "type": "contour"
           }
          ],
          "contourcarpet": [
           {
            "colorbar": {
             "outlinewidth": 0,
             "ticks": ""
            },
            "type": "contourcarpet"
           }
          ],
          "heatmap": [
           {
            "colorbar": {
             "outlinewidth": 0,
             "ticks": ""
            },
            "colorscale": [
             [
              0,
              "#0d0887"
             ],
             [
              0.1111111111111111,
              "#46039f"
             ],
             [
              0.2222222222222222,
              "#7201a8"
             ],
             [
              0.3333333333333333,
              "#9c179e"
             ],
             [
              0.4444444444444444,
              "#bd3786"
             ],
             [
              0.5555555555555556,
              "#d8576b"
             ],
             [
              0.6666666666666666,
              "#ed7953"
             ],
             [
              0.7777777777777778,
              "#fb9f3a"
             ],
             [
              0.8888888888888888,
              "#fdca26"
             ],
             [
              1,
              "#f0f921"
             ]
            ],
            "type": "heatmap"
           }
          ],
          "heatmapgl": [
           {
            "colorbar": {
             "outlinewidth": 0,
             "ticks": ""
            },
            "colorscale": [
             [
              0,
              "#0d0887"
             ],
             [
              0.1111111111111111,
              "#46039f"
             ],
             [
              0.2222222222222222,
              "#7201a8"
             ],
             [
              0.3333333333333333,
              "#9c179e"
             ],
             [
              0.4444444444444444,
              "#bd3786"
             ],
             [
              0.5555555555555556,
              "#d8576b"
             ],
             [
              0.6666666666666666,
              "#ed7953"
             ],
             [
              0.7777777777777778,
              "#fb9f3a"
             ],
             [
              0.8888888888888888,
              "#fdca26"
             ],
             [
              1,
              "#f0f921"
             ]
            ],
            "type": "heatmapgl"
           }
          ],
          "histogram": [
           {
            "marker": {
             "colorbar": {
              "outlinewidth": 0,
              "ticks": ""
             }
            },
            "type": "histogram"
           }
          ],
          "histogram2d": [
           {
            "colorbar": {
             "outlinewidth": 0,
             "ticks": ""
            },
            "colorscale": [
             [
              0,
              "#0d0887"
             ],
             [
              0.1111111111111111,
              "#46039f"
             ],
             [
              0.2222222222222222,
              "#7201a8"
             ],
             [
              0.3333333333333333,
              "#9c179e"
             ],
             [
              0.4444444444444444,
              "#bd3786"
             ],
             [
              0.5555555555555556,
              "#d8576b"
             ],
             [
              0.6666666666666666,
              "#ed7953"
             ],
             [
              0.7777777777777778,
              "#fb9f3a"
             ],
             [
              0.8888888888888888,
              "#fdca26"
             ],
             [
              1,
              "#f0f921"
             ]
            ],
            "type": "histogram2d"
           }
          ],
          "histogram2dcontour": [
           {
            "colorbar": {
             "outlinewidth": 0,
             "ticks": ""
            },
            "colorscale": [
             [
              0,
              "#0d0887"
             ],
             [
              0.1111111111111111,
              "#46039f"
             ],
             [
              0.2222222222222222,
              "#7201a8"
             ],
             [
              0.3333333333333333,
              "#9c179e"
             ],
             [
              0.4444444444444444,
              "#bd3786"
             ],
             [
              0.5555555555555556,
              "#d8576b"
             ],
             [
              0.6666666666666666,
              "#ed7953"
             ],
             [
              0.7777777777777778,
              "#fb9f3a"
             ],
             [
              0.8888888888888888,
              "#fdca26"
             ],
             [
              1,
              "#f0f921"
             ]
            ],
            "type": "histogram2dcontour"
           }
          ],
          "mesh3d": [
           {
            "colorbar": {
             "outlinewidth": 0,
             "ticks": ""
            },
            "type": "mesh3d"
           }
          ],
          "parcoords": [
           {
            "line": {
             "colorbar": {
              "outlinewidth": 0,
              "ticks": ""
             }
            },
            "type": "parcoords"
           }
          ],
          "pie": [
           {
            "automargin": true,
            "type": "pie"
           }
          ],
          "scatter": [
           {
            "marker": {
             "colorbar": {
              "outlinewidth": 0,
              "ticks": ""
             }
            },
            "type": "scatter"
           }
          ],
          "scatter3d": [
           {
            "line": {
             "colorbar": {
              "outlinewidth": 0,
              "ticks": ""
             }
            },
            "marker": {
             "colorbar": {
              "outlinewidth": 0,
              "ticks": ""
             }
            },
            "type": "scatter3d"
           }
          ],
          "scattercarpet": [
           {
            "marker": {
             "colorbar": {
              "outlinewidth": 0,
              "ticks": ""
             }
            },
            "type": "scattercarpet"
           }
          ],
          "scattergeo": [
           {
            "marker": {
             "colorbar": {
              "outlinewidth": 0,
              "ticks": ""
             }
            },
            "type": "scattergeo"
           }
          ],
          "scattergl": [
           {
            "marker": {
             "colorbar": {
              "outlinewidth": 0,
              "ticks": ""
             }
            },
            "type": "scattergl"
           }
          ],
          "scattermapbox": [
           {
            "marker": {
             "colorbar": {
              "outlinewidth": 0,
              "ticks": ""
             }
            },
            "type": "scattermapbox"
           }
          ],
          "scatterpolar": [
           {
            "marker": {
             "colorbar": {
              "outlinewidth": 0,
              "ticks": ""
             }
            },
            "type": "scatterpolar"
           }
          ],
          "scatterpolargl": [
           {
            "marker": {
             "colorbar": {
              "outlinewidth": 0,
              "ticks": ""
             }
            },
            "type": "scatterpolargl"
           }
          ],
          "scatterternary": [
           {
            "marker": {
             "colorbar": {
              "outlinewidth": 0,
              "ticks": ""
             }
            },
            "type": "scatterternary"
           }
          ],
          "surface": [
           {
            "colorbar": {
             "outlinewidth": 0,
             "ticks": ""
            },
            "colorscale": [
             [
              0,
              "#0d0887"
             ],
             [
              0.1111111111111111,
              "#46039f"
             ],
             [
              0.2222222222222222,
              "#7201a8"
             ],
             [
              0.3333333333333333,
              "#9c179e"
             ],
             [
              0.4444444444444444,
              "#bd3786"
             ],
             [
              0.5555555555555556,
              "#d8576b"
             ],
             [
              0.6666666666666666,
              "#ed7953"
             ],
             [
              0.7777777777777778,
              "#fb9f3a"
             ],
             [
              0.8888888888888888,
              "#fdca26"
             ],
             [
              1,
              "#f0f921"
             ]
            ],
            "type": "surface"
           }
          ],
          "table": [
           {
            "cells": {
             "fill": {
              "color": "#EBF0F8"
             },
             "line": {
              "color": "white"
             }
            },
            "header": {
             "fill": {
              "color": "#C8D4E3"
             },
             "line": {
              "color": "white"
             }
            },
            "type": "table"
           }
          ]
         },
         "layout": {
          "annotationdefaults": {
           "arrowcolor": "#2a3f5f",
           "arrowhead": 0,
           "arrowwidth": 1
          },
          "coloraxis": {
           "colorbar": {
            "outlinewidth": 0,
            "ticks": ""
           }
          },
          "colorscale": {
           "diverging": [
            [
             0,
             "#8e0152"
            ],
            [
             0.1,
             "#c51b7d"
            ],
            [
             0.2,
             "#de77ae"
            ],
            [
             0.3,
             "#f1b6da"
            ],
            [
             0.4,
             "#fde0ef"
            ],
            [
             0.5,
             "#f7f7f7"
            ],
            [
             0.6,
             "#e6f5d0"
            ],
            [
             0.7,
             "#b8e186"
            ],
            [
             0.8,
             "#7fbc41"
            ],
            [
             0.9,
             "#4d9221"
            ],
            [
             1,
             "#276419"
            ]
           ],
           "sequential": [
            [
             0,
             "#0d0887"
            ],
            [
             0.1111111111111111,
             "#46039f"
            ],
            [
             0.2222222222222222,
             "#7201a8"
            ],
            [
             0.3333333333333333,
             "#9c179e"
            ],
            [
             0.4444444444444444,
             "#bd3786"
            ],
            [
             0.5555555555555556,
             "#d8576b"
            ],
            [
             0.6666666666666666,
             "#ed7953"
            ],
            [
             0.7777777777777778,
             "#fb9f3a"
            ],
            [
             0.8888888888888888,
             "#fdca26"
            ],
            [
             1,
             "#f0f921"
            ]
           ],
           "sequentialminus": [
            [
             0,
             "#0d0887"
            ],
            [
             0.1111111111111111,
             "#46039f"
            ],
            [
             0.2222222222222222,
             "#7201a8"
            ],
            [
             0.3333333333333333,
             "#9c179e"
            ],
            [
             0.4444444444444444,
             "#bd3786"
            ],
            [
             0.5555555555555556,
             "#d8576b"
            ],
            [
             0.6666666666666666,
             "#ed7953"
            ],
            [
             0.7777777777777778,
             "#fb9f3a"
            ],
            [
             0.8888888888888888,
             "#fdca26"
            ],
            [
             1,
             "#f0f921"
            ]
           ]
          },
          "colorway": [
           "#636efa",
           "#EF553B",
           "#00cc96",
           "#ab63fa",
           "#FFA15A",
           "#19d3f3",
           "#FF6692",
           "#B6E880",
           "#FF97FF",
           "#FECB52"
          ],
          "font": {
           "color": "#2a3f5f"
          },
          "geo": {
           "bgcolor": "white",
           "lakecolor": "white",
           "landcolor": "#E5ECF6",
           "showlakes": true,
           "showland": true,
           "subunitcolor": "white"
          },
          "hoverlabel": {
           "align": "left"
          },
          "hovermode": "closest",
          "mapbox": {
           "style": "light"
          },
          "paper_bgcolor": "white",
          "plot_bgcolor": "#E5ECF6",
          "polar": {
           "angularaxis": {
            "gridcolor": "white",
            "linecolor": "white",
            "ticks": ""
           },
           "bgcolor": "#E5ECF6",
           "radialaxis": {
            "gridcolor": "white",
            "linecolor": "white",
            "ticks": ""
           }
          },
          "scene": {
           "xaxis": {
            "backgroundcolor": "#E5ECF6",
            "gridcolor": "white",
            "gridwidth": 2,
            "linecolor": "white",
            "showbackground": true,
            "ticks": "",
            "zerolinecolor": "white"
           },
           "yaxis": {
            "backgroundcolor": "#E5ECF6",
            "gridcolor": "white",
            "gridwidth": 2,
            "linecolor": "white",
            "showbackground": true,
            "ticks": "",
            "zerolinecolor": "white"
           },
           "zaxis": {
            "backgroundcolor": "#E5ECF6",
            "gridcolor": "white",
            "gridwidth": 2,
            "linecolor": "white",
            "showbackground": true,
            "ticks": "",
            "zerolinecolor": "white"
           }
          },
          "shapedefaults": {
           "line": {
            "color": "#2a3f5f"
           }
          },
          "ternary": {
           "aaxis": {
            "gridcolor": "white",
            "linecolor": "white",
            "ticks": ""
           },
           "baxis": {
            "gridcolor": "white",
            "linecolor": "white",
            "ticks": ""
           },
           "bgcolor": "#E5ECF6",
           "caxis": {
            "gridcolor": "white",
            "linecolor": "white",
            "ticks": ""
           }
          },
          "title": {
           "x": 0.05
          },
          "xaxis": {
           "automargin": true,
           "gridcolor": "white",
           "linecolor": "white",
           "ticks": "",
           "title": {
            "standoff": 15
           },
           "zerolinecolor": "white",
           "zerolinewidth": 2
          },
          "yaxis": {
           "automargin": true,
           "gridcolor": "white",
           "linecolor": "white",
           "ticks": "",
           "title": {
            "standoff": 15
           },
           "zerolinecolor": "white",
           "zerolinewidth": 2
          }
         }
        },
        "title": {
         "font": {
          "color": "#4D5663"
         }
        },
        "xaxis": {
         "gridcolor": "#E1E5ED",
         "showgrid": true,
         "tickfont": {
          "color": "#4D5663"
         },
         "title": {
          "font": {
           "color": "#4D5663"
          },
          "text": ""
         },
         "zerolinecolor": "#E1E5ED"
        },
        "yaxis": {
         "gridcolor": "#E1E5ED",
         "showgrid": true,
         "tickfont": {
          "color": "#4D5663"
         },
         "title": {
          "font": {
           "color": "#4D5663"
          },
          "text": ""
         },
         "zerolinecolor": "#E1E5ED"
        }
       }
      },
      "text/html": [
       "<div>\n",
       "        \n",
       "        \n",
       "            <div id=\"345d1ef3-18c5-46d8-b934-f92432a42759\" class=\"plotly-graph-div\" style=\"height:525px; width:100%;\"></div>\n",
       "            <script type=\"text/javascript\">\n",
       "                require([\"plotly\"], function(Plotly) {\n",
       "                    window.PLOTLYENV=window.PLOTLYENV || {};\n",
       "                    window.PLOTLYENV.BASE_URL='https://plot.ly';\n",
       "                    \n",
       "                if (document.getElementById(\"345d1ef3-18c5-46d8-b934-f92432a42759\")) {\n",
       "                    Plotly.newPlot(\n",
       "                        '345d1ef3-18c5-46d8-b934-f92432a42759',\n",
       "                        [{\"line\": {\"color\": \"rgba(255, 153, 51, 1.0)\", \"dash\": \"solid\", \"shape\": \"linear\", \"width\": 1.3}, \"mode\": \"lines\", \"name\": \"AAPL.O\", \"text\": \"\", \"type\": \"scatter\", \"x\": [\"2017-01-03\", \"2017-01-04\", \"2017-01-05\", \"2017-01-06\", \"2017-01-09\", \"2017-01-10\", \"2017-01-11\", \"2017-01-12\", \"2017-01-13\", \"2017-01-17\", \"2017-01-18\", \"2017-01-19\", \"2017-01-20\", \"2017-01-23\", \"2017-01-24\", \"2017-01-25\", \"2017-01-26\", \"2017-01-27\", \"2017-01-30\", \"2017-01-31\", \"2017-02-01\", \"2017-02-02\", \"2017-02-03\", \"2017-02-06\", \"2017-02-07\", \"2017-02-08\", \"2017-02-09\", \"2017-02-10\", \"2017-02-13\", \"2017-02-14\", \"2017-02-15\", \"2017-02-16\", \"2017-02-17\", \"2017-02-21\", \"2017-02-22\", \"2017-02-23\", \"2017-02-24\", \"2017-02-27\", \"2017-02-28\", \"2017-03-01\", \"2017-03-02\", \"2017-03-03\", \"2017-03-06\", \"2017-03-07\", \"2017-03-08\", \"2017-03-09\", \"2017-03-10\", \"2017-03-13\", \"2017-03-14\", \"2017-03-15\", \"2017-03-16\", \"2017-03-17\", \"2017-03-20\", \"2017-03-21\", \"2017-03-22\", \"2017-03-23\", \"2017-03-24\", \"2017-03-27\", \"2017-03-28\", \"2017-03-29\", \"2017-03-30\", \"2017-03-31\", \"2017-04-03\", \"2017-04-04\", \"2017-04-05\", \"2017-04-06\", \"2017-04-07\", \"2017-04-10\", \"2017-04-11\", \"2017-04-12\", \"2017-04-13\", \"2017-04-17\", \"2017-04-18\", \"2017-04-19\", \"2017-04-20\", \"2017-04-21\", \"2017-04-24\", \"2017-04-25\", \"2017-04-26\", \"2017-04-27\", \"2017-04-28\", \"2017-05-01\", \"2017-05-02\", \"2017-05-03\", \"2017-05-04\", \"2017-05-05\", \"2017-05-08\", \"2017-05-09\", \"2017-05-10\", \"2017-05-11\", \"2017-05-12\", \"2017-05-15\", \"2017-05-16\", \"2017-05-17\", \"2017-05-18\", \"2017-05-19\", \"2017-05-22\", \"2017-05-23\", \"2017-05-24\", \"2017-05-25\", \"2017-05-26\", \"2017-05-30\", \"2017-05-31\", \"2017-06-01\", \"2017-06-02\", \"2017-06-05\", \"2017-06-06\", \"2017-06-07\", \"2017-06-08\", \"2017-06-09\", \"2017-06-12\", \"2017-06-13\", \"2017-06-14\", \"2017-06-15\", \"2017-06-16\", \"2017-06-19\", \"2017-06-20\", \"2017-06-21\", \"2017-06-22\", \"2017-06-23\", \"2017-06-26\", \"2017-06-27\", \"2017-06-28\", \"2017-06-29\", \"2017-06-30\", \"2017-07-03\", \"2017-07-05\", \"2017-07-06\", \"2017-07-07\", \"2017-07-10\", \"2017-07-11\", \"2017-07-12\", \"2017-07-13\", \"2017-07-14\", \"2017-07-17\", \"2017-07-18\", \"2017-07-19\", \"2017-07-20\", \"2017-07-21\", \"2017-07-24\", \"2017-07-25\", \"2017-07-26\", \"2017-07-27\", \"2017-07-28\", \"2017-07-31\", \"2017-08-01\", \"2017-08-02\", \"2017-08-03\", \"2017-08-04\", \"2017-08-07\", \"2017-08-08\", \"2017-08-09\", \"2017-08-10\", \"2017-08-11\", \"2017-08-14\", \"2017-08-15\", \"2017-08-16\", \"2017-08-17\", \"2017-08-18\", \"2017-08-21\", \"2017-08-22\", \"2017-08-23\", \"2017-08-24\", \"2017-08-25\", \"2017-08-28\", \"2017-08-29\", \"2017-08-30\", \"2017-08-31\", \"2017-09-01\", \"2017-09-05\", \"2017-09-06\", \"2017-09-07\", \"2017-09-08\", \"2017-09-11\", \"2017-09-12\", \"2017-09-13\", \"2017-09-14\", \"2017-09-15\", \"2017-09-18\", \"2017-09-19\", \"2017-09-20\", \"2017-09-21\", \"2017-09-22\", \"2017-09-25\", \"2017-09-26\", \"2017-09-27\", \"2017-09-28\", \"2017-09-29\", \"2017-10-02\", \"2017-10-03\", \"2017-10-04\", \"2017-10-05\", \"2017-10-06\", \"2017-10-09\", \"2017-10-10\", \"2017-10-11\", \"2017-10-12\", \"2017-10-13\", \"2017-10-16\", \"2017-10-17\", \"2017-10-18\", \"2017-10-19\", \"2017-10-20\", \"2017-10-23\", \"2017-10-24\", \"2017-10-25\", \"2017-10-26\", \"2017-10-27\", \"2017-10-30\", \"2017-10-31\", \"2017-11-01\", \"2017-11-02\", \"2017-11-03\", \"2017-11-06\", \"2017-11-07\", \"2017-11-08\", \"2017-11-09\", \"2017-11-10\", \"2017-11-13\", \"2017-11-14\", \"2017-11-15\", \"2017-11-16\", \"2017-11-17\", \"2017-11-20\", \"2017-11-21\", \"2017-11-22\", \"2017-11-24\", \"2017-11-27\", \"2017-11-28\", \"2017-11-29\", \"2017-11-30\", \"2017-12-01\", \"2017-12-04\", \"2017-12-05\", \"2017-12-06\", \"2017-12-07\", \"2017-12-08\", \"2017-12-11\", \"2017-12-12\", \"2017-12-13\", \"2017-12-14\", \"2017-12-15\", \"2017-12-18\", \"2017-12-19\", \"2017-12-20\", \"2017-12-21\", \"2017-12-22\", \"2017-12-26\", \"2017-12-27\", \"2017-12-28\", \"2017-12-29\", \"2018-01-02\", \"2018-01-03\", \"2018-01-04\", \"2018-01-05\", \"2018-01-08\", \"2018-01-09\", \"2018-01-10\", \"2018-01-11\", \"2018-01-12\", \"2018-01-16\", \"2018-01-17\", \"2018-01-18\", \"2018-01-19\", \"2018-01-22\", \"2018-01-23\", \"2018-01-24\", \"2018-01-25\", \"2018-01-26\", \"2018-01-29\", \"2018-01-30\", \"2018-01-31\", \"2018-02-01\", \"2018-02-02\", \"2018-02-05\", \"2018-02-06\", \"2018-02-07\", \"2018-02-08\", \"2018-02-09\", \"2018-02-12\", \"2018-02-13\", \"2018-02-14\", \"2018-02-15\", \"2018-02-16\", \"2018-02-20\", \"2018-02-21\", \"2018-02-22\", \"2018-02-23\"], \"y\": [100.0, 99.88807576409813, 100.39603960396039, 101.5152819629789, 102.44511407662505, 102.54842875591908, 103.09944037882049, 102.66896254842874, 102.48816185966423, 103.31467929401634, 103.30606973740852, 103.12526904864399, 103.31467929401634, 103.38355574687903, 103.28885062419285, 104.93327593628928, 104.98493327593627, 104.99354283254412, 104.71803702109341, 104.47696943607403, 110.84804132587172, 110.65863108049936, 111.13215669393026, 112.17391304347825, 113.24149806284976, 113.68058544984932, 114.00774860094704, 113.749461902712, 114.75678002582865, 116.24623331898407, 116.66810159276797, 116.52604390873869, 116.84890228153249, 117.69263882910028, 118.04563065002154, 117.54627636676712, 117.65820060266896, 117.8906586310805, 117.9423159707275, 120.3529918209212, 119.63839862247094, 120.34438226431338, 119.96556177356865, 120.12053379250969, 119.67283684890229, 119.39733103745158, 119.79337064141195, 119.84502798105896, 119.66422729229444, 120.92983211364614, 121.12785191562634, 120.52518295307793, 121.79078777442962, 120.39603960396039, 121.75634954799825, 121.32587171760653, 121.08480413258715, 121.2914334911752, 123.80542402066294, 124.08092983211365, 123.9173482565648, 123.68489022815324, 123.71932845458457, 124.6405510116229, 123.9948342660353, 123.68489022815324, 123.40938441670252, 123.26302195436934, 121.93715023676279, 122.083512699096, 121.43779595350838, 122.10934136891952, 121.5669393026259, 121.11924235901851, 122.63452432199742, 122.48816185966422, 123.66767111493758, 124.43392165303486, 123.70210934136891, 123.79681446405509, 123.67628067154541, 126.19888075764098, 126.9995695221696, 126.61213947481704, 126.1558329746018, 128.24795523030562, 131.73482565647868, 132.57856220404648, 131.95006457167455, 132.54412397761516, 134.3951786482996, 134.0507963839862, 133.85277658200602, 129.3585880327163, 131.33017649591045, 131.77787343951786, 132.57856220404648, 132.41498062849763, 132.01894102453724, 132.4752475247525, 132.25139905294878, 132.30305639259575, 131.5195867412828, 131.88118811881188, 133.83555746879034, 132.52690486439948, 132.97460180800687, 133.76668101592767, 133.43951786482998, 128.2651743435213, 125.20017219113213, 126.2074903142488, 124.97632371932845, 124.22729229444683, 122.48816185966422, 125.99225139905295, 124.84718037021092, 125.5876022384847, 125.38097287989667, 125.94059405940594, 125.54455445544552, 123.74515712440808, 125.55316401205339, 123.70210934136891, 123.9948342660353, 123.54713732242789, 124.05510116229014, 122.88420146362459, 124.13258717176066, 124.8902281532501, 125.29487731381835, 125.47567800258285, 127.22341799397331, 128.3168316831683, 128.76452862677573, 129.2122255703831, 130.0215238915196, 129.43607404218682, 129.375807145932, 130.9427464485579, 131.50236762806716, 132.12225570383126, 129.62548428755917, 128.7128712871287, 128.04993542832543, 129.18639690055963, 135.2905725355144, 133.93887214808436, 134.6448557899268, 136.7283684890228, 137.82178217821783, 138.6655187257856, 133.7236332328885, 135.58329746018077, 137.6237623762376, 139.1304347826087, 138.57081360309942, 135.91046061127852, 135.60051657339648, 135.35083943176926, 137.56349547998278, 137.73568661213946, 137.1244080929832, 137.63237193284544, 139.01851054670684, 140.25828669823503, 140.63710718897974, 141.19672836848903, 141.23977615152822, 139.54369349978478, 139.39733103745155, 138.83770985794231, 136.57339647008178, 139.04433921653035, 138.49332759362895, 137.45157124408095, 136.27206198880756, 137.64959104606112, 136.60783469651312, 136.65949203616012, 134.3693499784761, 132.0619888075764, 130.7705553164012, 129.61687473095137, 131.84674989238053, 132.7851915626345, 131.96728368489022, 132.69048643994833, 132.42359018510547, 133.00043047783038, 132.1394748170469, 133.78390012914335, 133.70641411967284, 134.17133017649593, 134.22298751614292, 134.7826086956522, 134.30908308222126, 135.1614291863969, 137.64959104606112, 138.15755488592336, 137.5462763667671, 134.2918639690056, 134.52432199741713, 134.45544554455444, 135.25613430908308, 134.66207490314247, 135.52303056392594, 140.37882049074472, 143.53852776582005, 145.5359448988377, 143.68489022815322, 144.73525613430908, 148.5148514851485, 150.02152389151956, 150.50365906155832, 151.73482565647868, 151.42488161859663, 150.38312526904863, 149.7804563065002, 147.51614291863967, 145.57038312526905, 147.30951356005164, 146.49160568230738, 146.34524321997415, 149.0658631080499, 150.63280241067585, 150.64141196728366, 149.88377098579423, 149.00559621179508, 145.9147653895824, 147.95523030563925, 147.26646577701248, 146.19027120103314, 146.05251829530778, 145.5101162290142, 145.77701248385705, 145.82006026689623, 148.66121394748168, 147.82608695652172, 148.31683168316832, 148.27378390012913, 149.7804563065002, 151.88979767541971, 150.27120103314678, 150.1076194575979, 150.675850193715, 150.675850193715, 146.8532070598364, 146.8790357296599, 147.29229444683597, 145.69952647438654, 148.30822212656048, 148.28239345673697, 148.97115798536376, 150.6672406371072, 150.1076194575979, 150.09040034438226, 150.0559621179509, 150.90830822212655, 152.46663796814462, 151.6917778734395, 154.19715884631938, 154.33491175204475, 153.64614722341798, 152.38915195867412, 152.42359018510544, 149.99569522169608, 147.3181231166595, 147.66250538097287, 144.60611278519156, 143.75376668101592, 144.1498062849763, 144.45114076625055, 138.18338355574687, 134.73095135600516, 140.36160137752904, 137.35686612139472, 133.57727077055532, 134.66207490314247, 140.08609556607834, 141.4894532931554, 144.0981489453293, 148.9367197589324, 148.45458458889368, 147.95523030563925, 147.28368489022813, 148.5148514851485, 151.0977184674989]}, {\"line\": {\"color\": \"rgba(55, 128, 191, 1.0)\", \"dash\": \"solid\", \"shape\": \"linear\", \"width\": 1.3}, \"mode\": \"lines\", \"name\": \"AMZN.O\", \"text\": \"\", \"type\": \"scatter\", \"x\": [\"2017-01-03\", \"2017-01-04\", \"2017-01-05\", \"2017-01-06\", \"2017-01-09\", \"2017-01-10\", \"2017-01-11\", \"2017-01-12\", \"2017-01-13\", \"2017-01-17\", \"2017-01-18\", \"2017-01-19\", \"2017-01-20\", \"2017-01-23\", \"2017-01-24\", \"2017-01-25\", \"2017-01-26\", \"2017-01-27\", \"2017-01-30\", \"2017-01-31\", \"2017-02-01\", \"2017-02-02\", \"2017-02-03\", \"2017-02-06\", \"2017-02-07\", \"2017-02-08\", \"2017-02-09\", \"2017-02-10\", \"2017-02-13\", \"2017-02-14\", \"2017-02-15\", \"2017-02-16\", \"2017-02-17\", \"2017-02-21\", \"2017-02-22\", \"2017-02-23\", \"2017-02-24\", \"2017-02-27\", \"2017-02-28\", \"2017-03-01\", \"2017-03-02\", \"2017-03-03\", \"2017-03-06\", \"2017-03-07\", \"2017-03-08\", \"2017-03-09\", \"2017-03-10\", \"2017-03-13\", \"2017-03-14\", \"2017-03-15\", \"2017-03-16\", \"2017-03-17\", \"2017-03-20\", \"2017-03-21\", \"2017-03-22\", \"2017-03-23\", \"2017-03-24\", \"2017-03-27\", \"2017-03-28\", \"2017-03-29\", \"2017-03-30\", \"2017-03-31\", \"2017-04-03\", \"2017-04-04\", \"2017-04-05\", \"2017-04-06\", \"2017-04-07\", \"2017-04-10\", \"2017-04-11\", \"2017-04-12\", \"2017-04-13\", \"2017-04-17\", \"2017-04-18\", \"2017-04-19\", \"2017-04-20\", \"2017-04-21\", \"2017-04-24\", \"2017-04-25\", \"2017-04-26\", \"2017-04-27\", \"2017-04-28\", \"2017-05-01\", \"2017-05-02\", \"2017-05-03\", \"2017-05-04\", \"2017-05-05\", \"2017-05-08\", \"2017-05-09\", \"2017-05-10\", \"2017-05-11\", \"2017-05-12\", \"2017-05-15\", \"2017-05-16\", \"2017-05-17\", \"2017-05-18\", \"2017-05-19\", \"2017-05-22\", \"2017-05-23\", \"2017-05-24\", \"2017-05-25\", \"2017-05-26\", \"2017-05-30\", \"2017-05-31\", \"2017-06-01\", \"2017-06-02\", \"2017-06-05\", \"2017-06-06\", \"2017-06-07\", \"2017-06-08\", \"2017-06-09\", \"2017-06-12\", \"2017-06-13\", \"2017-06-14\", \"2017-06-15\", \"2017-06-16\", \"2017-06-19\", \"2017-06-20\", \"2017-06-21\", \"2017-06-22\", \"2017-06-23\", \"2017-06-26\", \"2017-06-27\", \"2017-06-28\", \"2017-06-29\", \"2017-06-30\", \"2017-07-03\", \"2017-07-05\", \"2017-07-06\", \"2017-07-07\", \"2017-07-10\", \"2017-07-11\", \"2017-07-12\", \"2017-07-13\", \"2017-07-14\", \"2017-07-17\", \"2017-07-18\", \"2017-07-19\", \"2017-07-20\", \"2017-07-21\", \"2017-07-24\", \"2017-07-25\", \"2017-07-26\", \"2017-07-27\", \"2017-07-28\", \"2017-07-31\", \"2017-08-01\", \"2017-08-02\", \"2017-08-03\", \"2017-08-04\", \"2017-08-07\", \"2017-08-08\", \"2017-08-09\", \"2017-08-10\", \"2017-08-11\", \"2017-08-14\", \"2017-08-15\", \"2017-08-16\", \"2017-08-17\", \"2017-08-18\", \"2017-08-21\", \"2017-08-22\", \"2017-08-23\", \"2017-08-24\", \"2017-08-25\", \"2017-08-28\", \"2017-08-29\", \"2017-08-30\", \"2017-08-31\", \"2017-09-01\", \"2017-09-05\", \"2017-09-06\", \"2017-09-07\", \"2017-09-08\", \"2017-09-11\", \"2017-09-12\", \"2017-09-13\", \"2017-09-14\", \"2017-09-15\", \"2017-09-18\", \"2017-09-19\", \"2017-09-20\", \"2017-09-21\", \"2017-09-22\", \"2017-09-25\", \"2017-09-26\", \"2017-09-27\", \"2017-09-28\", \"2017-09-29\", \"2017-10-02\", \"2017-10-03\", \"2017-10-04\", \"2017-10-05\", \"2017-10-06\", \"2017-10-09\", \"2017-10-10\", \"2017-10-11\", \"2017-10-12\", \"2017-10-13\", \"2017-10-16\", \"2017-10-17\", \"2017-10-18\", \"2017-10-19\", \"2017-10-20\", \"2017-10-23\", \"2017-10-24\", \"2017-10-25\", \"2017-10-26\", \"2017-10-27\", \"2017-10-30\", \"2017-10-31\", \"2017-11-01\", \"2017-11-02\", \"2017-11-03\", \"2017-11-06\", \"2017-11-07\", \"2017-11-08\", \"2017-11-09\", \"2017-11-10\", \"2017-11-13\", \"2017-11-14\", \"2017-11-15\", \"2017-11-16\", \"2017-11-17\", \"2017-11-20\", \"2017-11-21\", \"2017-11-22\", \"2017-11-24\", \"2017-11-27\", \"2017-11-28\", \"2017-11-29\", \"2017-11-30\", \"2017-12-01\", \"2017-12-04\", \"2017-12-05\", \"2017-12-06\", \"2017-12-07\", \"2017-12-08\", \"2017-12-11\", \"2017-12-12\", \"2017-12-13\", \"2017-12-14\", \"2017-12-15\", \"2017-12-18\", \"2017-12-19\", \"2017-12-20\", \"2017-12-21\", \"2017-12-22\", \"2017-12-26\", \"2017-12-27\", \"2017-12-28\", \"2017-12-29\", \"2018-01-02\", \"2018-01-03\", \"2018-01-04\", \"2018-01-05\", \"2018-01-08\", \"2018-01-09\", \"2018-01-10\", \"2018-01-11\", \"2018-01-12\", \"2018-01-16\", \"2018-01-17\", \"2018-01-18\", \"2018-01-19\", \"2018-01-22\", \"2018-01-23\", \"2018-01-24\", \"2018-01-25\", \"2018-01-26\", \"2018-01-29\", \"2018-01-30\", \"2018-01-31\", \"2018-02-01\", \"2018-02-02\", \"2018-02-05\", \"2018-02-06\", \"2018-02-07\", \"2018-02-08\", \"2018-02-09\", \"2018-02-12\", \"2018-02-13\", \"2018-02-14\", \"2018-02-15\", \"2018-02-16\", \"2018-02-20\", \"2018-02-21\", \"2018-02-22\", \"2018-02-23\"], \"y\": [100.0, 100.46572107155652, 103.55327928669047, 105.61518967187232, 105.73858585322489, 105.60324810593495, 106.01722239176297, 107.95706343625196, 108.42145766714874, 107.43694189764751, 107.13972958987357, 107.34671673278756, 107.25251104594851, 108.51964387596693, 109.12468321679252, 110.99287486565738, 111.34183395915984, 110.8933618161795, 110.17819470059843, 109.26267464540184, 110.43958231056033, 111.44798121193627, 107.50063024931337, 107.16095904042884, 107.80580360104554, 108.76245571669298, 108.98138442554435, 109.79075722796449, 110.99420170631709, 110.97562593708122, 111.81286239335519, 112.00392744835273, 112.12732362970532, 113.6359414597901, 113.52581368503458, 113.0720341794154, 112.14987992092031, 112.60100574522005, 112.1233431077262, 113.19012299812916, 112.6368304430321, 112.76553398702352, 112.3316570912999, 112.25337349237729, 112.84779810792523, 113.17950827285152, 113.10785887722746, 113.39047593774465, 113.11714676184536, 113.1755277508724, 113.23523558055912, 113.08795626733186, 113.70626401475448, 111.87920442634045, 112.52404898695715, 112.43382382209721, 112.1989730253294, 112.35952074515372, 113.57756047076306, 116.00833255934295, 116.2763543726034, 117.62973184550268, 118.28917165337616, 120.32189154404449, 120.64696750567225, 119.18744277999656, 118.7363169556968, 120.34975519789828, 119.72879376915625, 118.915440444757, 117.3816126421378, 119.67970066474717, 119.91720514283439, 119.30951212068943, 119.68898854936512, 119.22061379648919, 120.39884830230739, 120.4267119561612, 120.64829434633195, 121.85439250600396, 122.7314341820691, 125.8150118752239, 125.64384943012195, 124.85968660023619, 124.39529236933937, 123.94682022635901, 125.92248596866003, 126.42403173802859, 125.91054440272269, 125.73407459498189, 127.5558268207571, 127.10735467777677, 128.18209561213797, 125.3545981663062, 127.17635039208142, 127.35547388114163, 128.79244231560233, 128.90787745299667, 130.07682407419694, 131.8056974537928, 132.12413921212203, 132.2462085528149, 131.9702256955962, 132.146695503337, 133.57702973449918, 134.18870327862328, 133.08211816842916, 134.02019451484074, 134.0467313280348, 129.8061485796171, 128.02818209561212, 130.13520506322396, 129.5620098982313, 127.92999588679395, 131.05337879973996, 132.04320193188, 131.70087704167608, 132.97995143763185, 132.85655525627928, 133.18030437724735, 131.88530789337509, 129.6031419586822, 131.4010110525827, 129.49036050260725, 128.43817585946104, 126.53548635344383, 128.8893016837608, 128.05869943078537, 129.8658564093038, 132.21569121764168, 131.90521050327067, 133.54783923998568, 132.76765693207903, 132.92422412992423, 134.01621399286162, 135.92819138349677, 136.2492868231454, 136.49209866387147, 136.09006594398082, 137.8521103400693, 137.97417968076212, 139.68978465376094, 138.78753300516144, 135.34305465256676, 131.06266668435788, 132.17853967916994, 132.13873445937878, 130.94855838762322, 131.03612987116378, 131.65841814056552, 131.33599586025716, 130.297079623708, 126.96803640850771, 128.43684901880135, 130.46824206880996, 130.39393899186646, 129.7888996510409, 127.4523332493001, 127.17369671076202, 126.48639324903472, 128.29222338689348, 127.11133519975586, 126.37493863361951, 125.42094019929146, 125.52178008942907, 126.58855997983203, 128.38377539241316, 130.10999509068958, 129.79818753565885, 128.07594835936155, 128.41163904626694, 129.96006209614288, 128.15953932092293, 129.7597091565274, 130.3727095413112, 132.6309923441294, 131.65045709660728, 130.93130945904707, 129.25949022781856, 128.68496822216622, 129.12945984316744, 127.9936842384598, 126.72655140844138, 124.69515835843275, 124.53726431992781, 126.16529780938608, 126.89904069420304, 127.5558268207571, 127.26922923826078, 126.9919195403824, 128.09983149123622, 130.1431661071822, 131.30149800310483, 131.48858253612326, 130.98570992609498, 132.02064564066504, 132.80746215187017, 133.07415712447093, 133.5252829487707, 133.89547149282842, 132.28601377260605, 130.90742632717237, 130.41649528308145, 128.21261294731116, 129.48637998062813, 129.08965462337628, 129.02596627171044, 146.07852243024138, 147.39209468334946, 146.6530444358937, 146.44074993034087, 145.18555866625977, 147.49160773282736, 148.69372537052027, 149.0267623761063, 150.31512465668, 149.81755940929057, 149.31601363992198, 149.82286677192937, 150.84055355792322, 149.4938102883225, 150.90026138760996, 149.91707245876844, 149.4433903432537, 151.1921663327451, 153.40400971247365, 157.36330224103386, 158.66758660952408, 158.37170114240982, 154.08202528958296, 156.1359746308066, 154.22532408083114, 150.45709660726845, 151.46814918996378, 152.89848342112595, 153.88565287194663, 154.17888465774146, 155.09705839425746, 154.58755158093064, 154.4615017182587, 155.80559130654, 156.45308954847616, 157.97099526317885, 157.5464062520732, 156.25140976820094, 155.87193333952527, 155.02275531731394, 156.1373014714663, 156.86706383430416, 157.37657064763093, 155.1700346305412, 157.76268127960515, 159.7781522416973, 160.49331935727838, 163.08729284700203, 165.43978133665925, 166.2133294412674, 166.42960446879934, 169.39509334324043, 173.1792429047196, 173.1341303222896, 171.8258654318203, 171.6029562009898, 171.7701381241127, 176.11288760332772, 180.78734724746906, 180.11994639563736, 182.83200870407475, 186.0296946939642, 188.1035466450834, 190.77580373372962, 192.5099844759643, 184.43085169901948, 189.73158013454164, 184.43085169901948, 191.44187774490163, 187.98413098570995, 179.18983109318404, 177.74357477410538, 183.93063277031064, 187.68293815595686, 192.53121392651957, 193.9522602730638, 192.21807953082916, 194.8266482678095, 196.75985510899997, 197.08095054864862, 199.0260989557764]}],\n",
       "                        {\"legend\": {\"bgcolor\": \"#F5F6F9\", \"font\": {\"color\": \"#4D5663\"}}, \"paper_bgcolor\": \"#F5F6F9\", \"plot_bgcolor\": \"#F5F6F9\", \"template\": {\"data\": {\"bar\": [{\"error_x\": {\"color\": \"#2a3f5f\"}, \"error_y\": {\"color\": \"#2a3f5f\"}, \"marker\": {\"line\": {\"color\": \"#E5ECF6\", \"width\": 0.5}}, \"type\": \"bar\"}], \"barpolar\": [{\"marker\": {\"line\": {\"color\": \"#E5ECF6\", \"width\": 0.5}}, \"type\": \"barpolar\"}], \"carpet\": [{\"aaxis\": {\"endlinecolor\": \"#2a3f5f\", \"gridcolor\": \"white\", \"linecolor\": \"white\", \"minorgridcolor\": \"white\", \"startlinecolor\": \"#2a3f5f\"}, \"baxis\": {\"endlinecolor\": \"#2a3f5f\", \"gridcolor\": \"white\", \"linecolor\": \"white\", \"minorgridcolor\": \"white\", \"startlinecolor\": \"#2a3f5f\"}, \"type\": \"carpet\"}], \"choropleth\": [{\"colorbar\": {\"outlinewidth\": 0, \"ticks\": \"\"}, \"type\": \"choropleth\"}], \"contour\": [{\"colorbar\": {\"outlinewidth\": 0, \"ticks\": \"\"}, \"colorscale\": [[0.0, \"#0d0887\"], [0.1111111111111111, \"#46039f\"], [0.2222222222222222, \"#7201a8\"], [0.3333333333333333, \"#9c179e\"], [0.4444444444444444, \"#bd3786\"], [0.5555555555555556, \"#d8576b\"], [0.6666666666666666, \"#ed7953\"], [0.7777777777777778, \"#fb9f3a\"], [0.8888888888888888, \"#fdca26\"], [1.0, \"#f0f921\"]], \"type\": \"contour\"}], \"contourcarpet\": [{\"colorbar\": {\"outlinewidth\": 0, \"ticks\": \"\"}, \"type\": \"contourcarpet\"}], \"heatmap\": [{\"colorbar\": {\"outlinewidth\": 0, \"ticks\": \"\"}, \"colorscale\": [[0.0, \"#0d0887\"], [0.1111111111111111, \"#46039f\"], [0.2222222222222222, \"#7201a8\"], [0.3333333333333333, \"#9c179e\"], [0.4444444444444444, \"#bd3786\"], [0.5555555555555556, \"#d8576b\"], [0.6666666666666666, \"#ed7953\"], [0.7777777777777778, \"#fb9f3a\"], [0.8888888888888888, \"#fdca26\"], [1.0, \"#f0f921\"]], \"type\": \"heatmap\"}], \"heatmapgl\": [{\"colorbar\": {\"outlinewidth\": 0, \"ticks\": \"\"}, \"colorscale\": [[0.0, \"#0d0887\"], [0.1111111111111111, \"#46039f\"], [0.2222222222222222, \"#7201a8\"], [0.3333333333333333, \"#9c179e\"], [0.4444444444444444, \"#bd3786\"], [0.5555555555555556, \"#d8576b\"], [0.6666666666666666, \"#ed7953\"], [0.7777777777777778, \"#fb9f3a\"], [0.8888888888888888, \"#fdca26\"], [1.0, \"#f0f921\"]], \"type\": \"heatmapgl\"}], \"histogram\": [{\"marker\": {\"colorbar\": {\"outlinewidth\": 0, \"ticks\": \"\"}}, \"type\": \"histogram\"}], \"histogram2d\": [{\"colorbar\": {\"outlinewidth\": 0, \"ticks\": \"\"}, \"colorscale\": [[0.0, \"#0d0887\"], [0.1111111111111111, \"#46039f\"], [0.2222222222222222, \"#7201a8\"], [0.3333333333333333, \"#9c179e\"], [0.4444444444444444, \"#bd3786\"], [0.5555555555555556, \"#d8576b\"], [0.6666666666666666, \"#ed7953\"], [0.7777777777777778, \"#fb9f3a\"], [0.8888888888888888, \"#fdca26\"], [1.0, \"#f0f921\"]], \"type\": \"histogram2d\"}], \"histogram2dcontour\": [{\"colorbar\": {\"outlinewidth\": 0, \"ticks\": \"\"}, \"colorscale\": [[0.0, \"#0d0887\"], [0.1111111111111111, \"#46039f\"], [0.2222222222222222, \"#7201a8\"], [0.3333333333333333, \"#9c179e\"], [0.4444444444444444, \"#bd3786\"], [0.5555555555555556, \"#d8576b\"], [0.6666666666666666, \"#ed7953\"], [0.7777777777777778, \"#fb9f3a\"], [0.8888888888888888, \"#fdca26\"], [1.0, \"#f0f921\"]], \"type\": \"histogram2dcontour\"}], \"mesh3d\": [{\"colorbar\": {\"outlinewidth\": 0, \"ticks\": \"\"}, \"type\": \"mesh3d\"}], \"parcoords\": [{\"line\": {\"colorbar\": {\"outlinewidth\": 0, \"ticks\": \"\"}}, \"type\": \"parcoords\"}], \"pie\": [{\"automargin\": true, \"type\": \"pie\"}], \"scatter\": [{\"marker\": {\"colorbar\": {\"outlinewidth\": 0, \"ticks\": \"\"}}, \"type\": \"scatter\"}], \"scatter3d\": [{\"line\": {\"colorbar\": {\"outlinewidth\": 0, \"ticks\": \"\"}}, \"marker\": {\"colorbar\": {\"outlinewidth\": 0, \"ticks\": \"\"}}, \"type\": \"scatter3d\"}], \"scattercarpet\": [{\"marker\": {\"colorbar\": {\"outlinewidth\": 0, \"ticks\": \"\"}}, \"type\": \"scattercarpet\"}], \"scattergeo\": [{\"marker\": {\"colorbar\": {\"outlinewidth\": 0, \"ticks\": \"\"}}, \"type\": \"scattergeo\"}], \"scattergl\": [{\"marker\": {\"colorbar\": {\"outlinewidth\": 0, \"ticks\": \"\"}}, \"type\": \"scattergl\"}], \"scattermapbox\": [{\"marker\": {\"colorbar\": {\"outlinewidth\": 0, \"ticks\": \"\"}}, \"type\": \"scattermapbox\"}], \"scatterpolar\": [{\"marker\": {\"colorbar\": {\"outlinewidth\": 0, \"ticks\": \"\"}}, \"type\": \"scatterpolar\"}], \"scatterpolargl\": [{\"marker\": {\"colorbar\": {\"outlinewidth\": 0, \"ticks\": \"\"}}, \"type\": \"scatterpolargl\"}], \"scatterternary\": [{\"marker\": {\"colorbar\": {\"outlinewidth\": 0, \"ticks\": \"\"}}, \"type\": \"scatterternary\"}], \"surface\": [{\"colorbar\": {\"outlinewidth\": 0, \"ticks\": \"\"}, \"colorscale\": [[0.0, \"#0d0887\"], [0.1111111111111111, \"#46039f\"], [0.2222222222222222, \"#7201a8\"], [0.3333333333333333, \"#9c179e\"], [0.4444444444444444, \"#bd3786\"], [0.5555555555555556, \"#d8576b\"], [0.6666666666666666, \"#ed7953\"], [0.7777777777777778, \"#fb9f3a\"], [0.8888888888888888, \"#fdca26\"], [1.0, \"#f0f921\"]], \"type\": \"surface\"}], \"table\": [{\"cells\": {\"fill\": {\"color\": \"#EBF0F8\"}, \"line\": {\"color\": \"white\"}}, \"header\": {\"fill\": {\"color\": \"#C8D4E3\"}, \"line\": {\"color\": \"white\"}}, \"type\": \"table\"}]}, \"layout\": {\"annotationdefaults\": {\"arrowcolor\": \"#2a3f5f\", \"arrowhead\": 0, \"arrowwidth\": 1}, \"coloraxis\": {\"colorbar\": {\"outlinewidth\": 0, \"ticks\": \"\"}}, \"colorscale\": {\"diverging\": [[0, \"#8e0152\"], [0.1, \"#c51b7d\"], [0.2, \"#de77ae\"], [0.3, \"#f1b6da\"], [0.4, \"#fde0ef\"], [0.5, \"#f7f7f7\"], [0.6, \"#e6f5d0\"], [0.7, \"#b8e186\"], [0.8, \"#7fbc41\"], [0.9, \"#4d9221\"], [1, \"#276419\"]], \"sequential\": [[0.0, \"#0d0887\"], [0.1111111111111111, \"#46039f\"], [0.2222222222222222, \"#7201a8\"], [0.3333333333333333, \"#9c179e\"], [0.4444444444444444, \"#bd3786\"], [0.5555555555555556, \"#d8576b\"], [0.6666666666666666, \"#ed7953\"], [0.7777777777777778, \"#fb9f3a\"], [0.8888888888888888, \"#fdca26\"], [1.0, \"#f0f921\"]], \"sequentialminus\": [[0.0, \"#0d0887\"], [0.1111111111111111, \"#46039f\"], [0.2222222222222222, \"#7201a8\"], [0.3333333333333333, \"#9c179e\"], [0.4444444444444444, \"#bd3786\"], [0.5555555555555556, \"#d8576b\"], [0.6666666666666666, \"#ed7953\"], [0.7777777777777778, \"#fb9f3a\"], [0.8888888888888888, \"#fdca26\"], [1.0, \"#f0f921\"]]}, \"colorway\": [\"#636efa\", \"#EF553B\", \"#00cc96\", \"#ab63fa\", \"#FFA15A\", \"#19d3f3\", \"#FF6692\", \"#B6E880\", \"#FF97FF\", \"#FECB52\"], \"font\": {\"color\": \"#2a3f5f\"}, \"geo\": {\"bgcolor\": \"white\", \"lakecolor\": \"white\", \"landcolor\": \"#E5ECF6\", \"showlakes\": true, \"showland\": true, \"subunitcolor\": \"white\"}, \"hoverlabel\": {\"align\": \"left\"}, \"hovermode\": \"closest\", \"mapbox\": {\"style\": \"light\"}, \"paper_bgcolor\": \"white\", \"plot_bgcolor\": \"#E5ECF6\", \"polar\": {\"angularaxis\": {\"gridcolor\": \"white\", \"linecolor\": \"white\", \"ticks\": \"\"}, \"bgcolor\": \"#E5ECF6\", \"radialaxis\": {\"gridcolor\": \"white\", \"linecolor\": \"white\", \"ticks\": \"\"}}, \"scene\": {\"xaxis\": {\"backgroundcolor\": \"#E5ECF6\", \"gridcolor\": \"white\", \"gridwidth\": 2, \"linecolor\": \"white\", \"showbackground\": true, \"ticks\": \"\", \"zerolinecolor\": \"white\"}, \"yaxis\": {\"backgroundcolor\": \"#E5ECF6\", \"gridcolor\": \"white\", \"gridwidth\": 2, \"linecolor\": \"white\", \"showbackground\": true, \"ticks\": \"\", \"zerolinecolor\": \"white\"}, \"zaxis\": {\"backgroundcolor\": \"#E5ECF6\", \"gridcolor\": \"white\", \"gridwidth\": 2, \"linecolor\": \"white\", \"showbackground\": true, \"ticks\": \"\", \"zerolinecolor\": \"white\"}}, \"shapedefaults\": {\"line\": {\"color\": \"#2a3f5f\"}}, \"ternary\": {\"aaxis\": {\"gridcolor\": \"white\", \"linecolor\": \"white\", \"ticks\": \"\"}, \"baxis\": {\"gridcolor\": \"white\", \"linecolor\": \"white\", \"ticks\": \"\"}, \"bgcolor\": \"#E5ECF6\", \"caxis\": {\"gridcolor\": \"white\", \"linecolor\": \"white\", \"ticks\": \"\"}}, \"title\": {\"x\": 0.05}, \"xaxis\": {\"automargin\": true, \"gridcolor\": \"white\", \"linecolor\": \"white\", \"ticks\": \"\", \"title\": {\"standoff\": 15}, \"zerolinecolor\": \"white\", \"zerolinewidth\": 2}, \"yaxis\": {\"automargin\": true, \"gridcolor\": \"white\", \"linecolor\": \"white\", \"ticks\": \"\", \"title\": {\"standoff\": 15}, \"zerolinecolor\": \"white\", \"zerolinewidth\": 2}}}, \"title\": {\"font\": {\"color\": \"#4D5663\"}}, \"xaxis\": {\"gridcolor\": \"#E1E5ED\", \"showgrid\": true, \"tickfont\": {\"color\": \"#4D5663\"}, \"title\": {\"font\": {\"color\": \"#4D5663\"}, \"text\": \"\"}, \"zerolinecolor\": \"#E1E5ED\"}, \"yaxis\": {\"gridcolor\": \"#E1E5ED\", \"showgrid\": true, \"tickfont\": {\"color\": \"#4D5663\"}, \"title\": {\"font\": {\"color\": \"#4D5663\"}, \"text\": \"\"}, \"zerolinecolor\": \"#E1E5ED\"}},\n",
       "                        {\"showLink\": true, \"linkText\": \"Export to plot.ly\", \"plotlyServerURL\": \"https://plot.ly\", \"responsive\": true}\n",
       "                    ).then(function(){\n",
       "                            \n",
       "var gd = document.getElementById('345d1ef3-18c5-46d8-b934-f92432a42759');\n",
       "var x = new MutationObserver(function (mutations, observer) {{\n",
       "        var display = window.getComputedStyle(gd).display;\n",
       "        if (!display || display === 'none') {{\n",
       "            console.log([gd, 'removed!']);\n",
       "            Plotly.purge(gd);\n",
       "            observer.disconnect();\n",
       "        }}\n",
       "}});\n",
       "\n",
       "// Listen for the removal of the full notebook cells\n",
       "var notebookContainer = gd.closest('#notebook-container');\n",
       "if (notebookContainer) {{\n",
       "    x.observe(notebookContainer, {childList: true});\n",
       "}}\n",
       "\n",
       "// Listen for the clearing of the current output cell\n",
       "var outputEl = gd.closest('.output');\n",
       "if (outputEl) {{\n",
       "    x.observe(outputEl, {childList: true});\n",
       "}}\n",
       "\n",
       "                        })\n",
       "                };\n",
       "                });\n",
       "            </script>\n",
       "        </div>"
      ]
     },
     "metadata": {},
     "output_type": "display_data"
    }
   ],
   "source": [
    "ts_data.normalize().iplot()"
   ]
  },
  {
   "cell_type": "markdown",
   "metadata": {},
   "source": [
    "From the above chart, I used Amazon and Apple stock prices starting from  01 Jan 2017 as a baseline. You can see that the performances of both companies were nearly equivalent in 2017. However, at the beginning of 2018, Amazon outperformed Apple significantly."
   ]
  },
  {
   "cell_type": "markdown",
   "metadata": {},
   "source": [
    "## News Headlines\n",
    "The next function is `ek.get_news_headlines()` used to search and retrieve news headlines. The output of this method includes the news headlines and storyId values used to retrieve the full news stories text. The following code retrieves 10 English news headlines starting from 1 Jan 2020 that relate to COVID and Apple Inc. \n",
    "\n",
    "**Tip:** Use 'R:' in front of RIC names to improve performance."
   ]
  },
  {
   "cell_type": "code",
   "execution_count": 15,
   "metadata": {},
   "outputs": [
    {
     "data": {
      "text/html": [
       "<div>\n",
       "<style scoped>\n",
       "    .dataframe tbody tr th:only-of-type {\n",
       "        vertical-align: middle;\n",
       "    }\n",
       "\n",
       "    .dataframe tbody tr th {\n",
       "        vertical-align: top;\n",
       "    }\n",
       "\n",
       "    .dataframe thead th {\n",
       "        text-align: right;\n",
       "    }\n",
       "</style>\n",
       "<table border=\"1\" class=\"dataframe\">\n",
       "  <thead>\n",
       "    <tr style=\"text-align: right;\">\n",
       "      <th></th>\n",
       "      <th>versionCreated</th>\n",
       "      <th>text</th>\n",
       "      <th>storyId</th>\n",
       "      <th>sourceCode</th>\n",
       "    </tr>\n",
       "  </thead>\n",
       "  <tbody>\n",
       "    <tr>\n",
       "      <th>2020-08-01 00:26:12.000</th>\n",
       "      <td>2020-08-01 00:26:12+00:00</td>\n",
       "      <td>MEDIA-Big Tech spends over $20 million on lobb...</td>\n",
       "      <td>urn:newsml:reuters.com:20200801:nL3N2F3014:1</td>\n",
       "      <td>NS:RTRS</td>\n",
       "    </tr>\n",
       "    <tr>\n",
       "      <th>2020-07-31 22:03:35.198</th>\n",
       "      <td>2020-07-31 22:12:12.875000+00:00</td>\n",
       "      <td>Reuters Insider - The latest on Covid-19 stimu...</td>\n",
       "      <td>urn:newsml:reuters.com:20200731:nRTV3QLVjf:5</td>\n",
       "      <td>NS:CNBC</td>\n",
       "    </tr>\n",
       "    <tr>\n",
       "      <th>2020-07-31 19:17:08.000</th>\n",
       "      <td>2020-07-31 21:40:59+00:00</td>\n",
       "      <td>UPDATE 2-Google says 20 U.S. states, territori...</td>\n",
       "      <td>urn:newsml:reuters.com:20200731:nL2N2F21QZ:8</td>\n",
       "      <td>NS:RTRS</td>\n",
       "    </tr>\n",
       "    <tr>\n",
       "      <th>2020-07-31 16:22:13.000</th>\n",
       "      <td>2020-07-31 20:15:23+00:00</td>\n",
       "      <td>UPDATE 2-Canada extends travel ban to Aug. 31,...</td>\n",
       "      <td>urn:newsml:reuters.com:20200731:nL2N2F21DK:5</td>\n",
       "      <td>NS:RTRS</td>\n",
       "    </tr>\n",
       "    <tr>\n",
       "      <th>2020-07-31 18:07:10.000</th>\n",
       "      <td>2020-07-31 18:07:10+00:00</td>\n",
       "      <td>UPDATE 1-Google says 20 U.S. states, territori...</td>\n",
       "      <td>urn:newsml:reuters.com:20200731:nL2N2F21NU:5</td>\n",
       "      <td>NS:RTRS</td>\n",
       "    </tr>\n",
       "    <tr>\n",
       "      <th>2020-07-31 17:44:10.776</th>\n",
       "      <td>2020-07-31 17:44:10.776000+00:00</td>\n",
       "      <td>MIDDAY ETF UPDATE: US STOCKS LOWER AS APPLE, F...</td>\n",
       "      <td>urn:newsml:reuters.com:20200731:nSpmd4ycKa:1</td>\n",
       "      <td>NS:SPM</td>\n",
       "    </tr>\n",
       "    <tr>\n",
       "      <th>2020-07-31 17:11:11.000</th>\n",
       "      <td>2020-07-31 17:27:01+00:00</td>\n",
       "      <td>Google says 20 U.S. states 'exploring' contact...</td>\n",
       "      <td>urn:newsml:reuters.com:20200731:nL2N2F21KO:4</td>\n",
       "      <td>NS:RTRS</td>\n",
       "    </tr>\n",
       "    <tr>\n",
       "      <th>2020-07-31 17:11:11.000</th>\n",
       "      <td>2020-07-31 17:11:11+00:00</td>\n",
       "      <td>GOOGLE SAYS U.S. CONTACT TRACING APPS TO LAUNC...</td>\n",
       "      <td>urn:newsml:reuters.com:20200731:nL2N2F21KO:3</td>\n",
       "      <td>NS:RTRS</td>\n",
       "    </tr>\n",
       "    <tr>\n",
       "      <th>2020-07-31 17:11:10.000</th>\n",
       "      <td>2020-07-31 17:11:10+00:00</td>\n",
       "      <td>GOOGLE SAYS 20 U.S. JURISDICTIONS - ABOUT 45% ...</td>\n",
       "      <td>urn:newsml:reuters.com:20200731:nL2N2F21KO:2</td>\n",
       "      <td>NS:RTRS</td>\n",
       "    </tr>\n",
       "    <tr>\n",
       "      <th>2020-07-31 17:11:09.000</th>\n",
       "      <td>2020-07-31 17:11:09+00:00</td>\n",
       "      <td>GOOGLE SAYS 16 JURISDICTIONS ACROSS AFRICA, AS...</td>\n",
       "      <td>urn:newsml:reuters.com:20200731:nL2N2F21KO:1</td>\n",
       "      <td>NS:RTRS</td>\n",
       "    </tr>\n",
       "  </tbody>\n",
       "</table>\n",
       "</div>"
      ],
      "text/plain": [
       "                                          versionCreated  \\\n",
       "2020-08-01 00:26:12.000        2020-08-01 00:26:12+00:00   \n",
       "2020-07-31 22:03:35.198 2020-07-31 22:12:12.875000+00:00   \n",
       "2020-07-31 19:17:08.000        2020-07-31 21:40:59+00:00   \n",
       "2020-07-31 16:22:13.000        2020-07-31 20:15:23+00:00   \n",
       "2020-07-31 18:07:10.000        2020-07-31 18:07:10+00:00   \n",
       "2020-07-31 17:44:10.776 2020-07-31 17:44:10.776000+00:00   \n",
       "2020-07-31 17:11:11.000        2020-07-31 17:27:01+00:00   \n",
       "2020-07-31 17:11:11.000        2020-07-31 17:11:11+00:00   \n",
       "2020-07-31 17:11:10.000        2020-07-31 17:11:10+00:00   \n",
       "2020-07-31 17:11:09.000        2020-07-31 17:11:09+00:00   \n",
       "\n",
       "                                                                      text  \\\n",
       "2020-08-01 00:26:12.000  MEDIA-Big Tech spends over $20 million on lobb...   \n",
       "2020-07-31 22:03:35.198  Reuters Insider - The latest on Covid-19 stimu...   \n",
       "2020-07-31 19:17:08.000  UPDATE 2-Google says 20 U.S. states, territori...   \n",
       "2020-07-31 16:22:13.000  UPDATE 2-Canada extends travel ban to Aug. 31,...   \n",
       "2020-07-31 18:07:10.000  UPDATE 1-Google says 20 U.S. states, territori...   \n",
       "2020-07-31 17:44:10.776  MIDDAY ETF UPDATE: US STOCKS LOWER AS APPLE, F...   \n",
       "2020-07-31 17:11:11.000  Google says 20 U.S. states 'exploring' contact...   \n",
       "2020-07-31 17:11:11.000  GOOGLE SAYS U.S. CONTACT TRACING APPS TO LAUNC...   \n",
       "2020-07-31 17:11:10.000  GOOGLE SAYS 20 U.S. JURISDICTIONS - ABOUT 45% ...   \n",
       "2020-07-31 17:11:09.000  GOOGLE SAYS 16 JURISDICTIONS ACROSS AFRICA, AS...   \n",
       "\n",
       "                                                              storyId  \\\n",
       "2020-08-01 00:26:12.000  urn:newsml:reuters.com:20200801:nL3N2F3014:1   \n",
       "2020-07-31 22:03:35.198  urn:newsml:reuters.com:20200731:nRTV3QLVjf:5   \n",
       "2020-07-31 19:17:08.000  urn:newsml:reuters.com:20200731:nL2N2F21QZ:8   \n",
       "2020-07-31 16:22:13.000  urn:newsml:reuters.com:20200731:nL2N2F21DK:5   \n",
       "2020-07-31 18:07:10.000  urn:newsml:reuters.com:20200731:nL2N2F21NU:5   \n",
       "2020-07-31 17:44:10.776  urn:newsml:reuters.com:20200731:nSpmd4ycKa:1   \n",
       "2020-07-31 17:11:11.000  urn:newsml:reuters.com:20200731:nL2N2F21KO:4   \n",
       "2020-07-31 17:11:11.000  urn:newsml:reuters.com:20200731:nL2N2F21KO:3   \n",
       "2020-07-31 17:11:10.000  urn:newsml:reuters.com:20200731:nL2N2F21KO:2   \n",
       "2020-07-31 17:11:09.000  urn:newsml:reuters.com:20200731:nL2N2F21KO:1   \n",
       "\n",
       "                        sourceCode  \n",
       "2020-08-01 00:26:12.000    NS:RTRS  \n",
       "2020-07-31 22:03:35.198    NS:CNBC  \n",
       "2020-07-31 19:17:08.000    NS:RTRS  \n",
       "2020-07-31 16:22:13.000    NS:RTRS  \n",
       "2020-07-31 18:07:10.000    NS:RTRS  \n",
       "2020-07-31 17:44:10.776     NS:SPM  \n",
       "2020-07-31 17:11:11.000    NS:RTRS  \n",
       "2020-07-31 17:11:11.000    NS:RTRS  \n",
       "2020-07-31 17:11:10.000    NS:RTRS  \n",
       "2020-07-31 17:11:09.000    NS:RTRS  "
      ]
     },
     "execution_count": 15,
     "metadata": {},
     "output_type": "execute_result"
    }
   ],
   "source": [
    "from datetime import datetime #classes for manipulating dates and times\n",
    "news_aapl = ek.get_news_headlines(\"R:AAPL.O AND Topic:COVID IN ENGLISH\", date_from='2020-01-01',\n",
    "                         date_to=datetime.now(), count=10)\n",
    "news_aapl"
   ]
  },
  {
   "cell_type": "markdown",
   "metadata": {},
   "source": [
    "The output is a data frame indexed by the news' created time. The news headlines are available in the text column. "
   ]
  },
  {
   "cell_type": "markdown",
   "metadata": {},
   "source": [
    "## News Stories\n",
    "The last function is `ek.get_news_story()` used to retrieve the full text of news story for the given storyId. The storyId values are available in the storyId column returned by the `ek.get_news_headlines()` method."
   ]
  },
  {
   "cell_type": "code",
   "execution_count": 16,
   "metadata": {},
   "outputs": [
    {
     "data": {
      "text/plain": [
       "2020-08-01 00:26:12.000    urn:newsml:reuters.com:20200801:nL3N2F3014:1\n",
       "2020-07-31 22:03:35.198    urn:newsml:reuters.com:20200731:nRTV3QLVjf:5\n",
       "2020-07-31 19:17:08.000    urn:newsml:reuters.com:20200731:nL2N2F21QZ:8\n",
       "2020-07-31 16:22:13.000    urn:newsml:reuters.com:20200731:nL2N2F21DK:5\n",
       "2020-07-31 18:07:10.000    urn:newsml:reuters.com:20200731:nL2N2F21NU:5\n",
       "2020-07-31 17:44:10.776    urn:newsml:reuters.com:20200731:nSpmd4ycKa:1\n",
       "2020-07-31 17:11:11.000    urn:newsml:reuters.com:20200731:nL2N2F21KO:4\n",
       "2020-07-31 17:11:11.000    urn:newsml:reuters.com:20200731:nL2N2F21KO:3\n",
       "2020-07-31 17:11:10.000    urn:newsml:reuters.com:20200731:nL2N2F21KO:2\n",
       "2020-07-31 17:11:09.000    urn:newsml:reuters.com:20200731:nL2N2F21KO:1\n",
       "Name: storyId, dtype: object"
      ]
     },
     "execution_count": 16,
     "metadata": {},
     "output_type": "execute_result"
    }
   ],
   "source": [
    "news_aapl['storyId']"
   ]
  },
  {
   "cell_type": "markdown",
   "metadata": {},
   "source": [
    "The code below uses the storyId in the third row to retrieve the news story text. "
   ]
  },
  {
   "cell_type": "code",
   "execution_count": 17,
   "metadata": {
    "scrolled": true
   },
   "outputs": [
    {
     "data": {
      "text/plain": [
       "'<div class=\"storyContent\" lang=\"en\"><style type=\"text/css\">.storyContent * {border-color:inherit !important;outline-color:inherit !important;}</style><p class=\"tr-advisory\">Adds details, Northern Ireland app</p><p class=\"tr-by\">By Paresh Dave</p><p class=\"tr-story-p1\"><span class=\"tr-dateline\">OAKLAND, Calif., July 31 (Reuters)</span><span class=\"tr-dl-sep\"> - </span><span class=\"tr-strong\">Alphabet </span>Inc\\'s <a href=\"reuters://REALTIME/Verb=FullQuote/ric=GOOGL.O\" data-type=\"ric\" data-ric=\"GOOGL.O\" translate=\"no\" dir=\"ltr\">GOOGL.O</a> Google said on Friday that 20 U.S. states and territories, representing about 45% of the country\\'s population, are \"exploring\" contact tracing apps for the novel coronavirus using a tool it developed with Apple Inc <a href=\"reuters://REALTIME/Verb=FullQuote/ric=AAPL.O\" data-type=\"ric\" data-ric=\"AAPL.O\" translate=\"no\" dir=\"ltr\">AAPL.O</a>. </p><p>In addition, the company said public health authorities in 16 countries and regions outside the United States had launched apps using the Apple-Google tool, <span class=\"tr-strong\">up from 12 previously</span>. They include Austria, Brazil, Canada, Croatia, Denmark, Germany, Gibraltar, Italy, Ireland, Japan, Latvia, Northern Ireland, Poland, Saudi Arabia, Switzerland and Uruguay.</p><p>The technology enables app users to track encounters with other people through Bluetooth signals and anonymously notify contacts if they later become infected with the virus. </p><p>Google had previously said in May that three states - Alabama, North Dakota and South Carolina - would be launching apps using the exposure notification tool. But South Carolina lawmakers halted the release of the state\\'s app last month, while Alabama officials are still weighing the launch of their completed app. North Dakota\\'s app has yet to launch.</p><p>On Friday, Google said the first of the U.S. apps would be released in the \"coming weeks,<span class=\"tr-strong\">\" but declined to name the states.</span></p><p>It added that its system with Apple now enables apps launched by different countries to talk to each other, allowing contact-logging to continue even when users cross borders.</p><p>N<span class=\"tr-strong\">orthern Ireland\\'s app, which was released on Friday, is the first that can also trace users in another country, Ireland. The company that developed the app told Reuters that it also is making one for the U.S. state of Pennsylvania. <span> (<a href=\"reuters://REALTIME/verb=NewsStory/ric=nL5N2F25GD\" data-type=\"storyId\" data-story-id=\"nL5N2F25GD\" translate=\"no\" dir=\"ltr\" class=\"tr-pnac\">Full Story</a>)</span></span></p><p><br/></p><div style=\"display:none;\" class=\"tr-sandwichbox\"></div><p class=\"tr-signoff\"> (Reporting by Paresh Dave; editing by Diane Craft and Tom Brown)</p><p class=\"tr-contactinfo\">(( <a href=\"mailto:paresh.dave@thomsonreuters.com\" data-type=\"email\" translate=\"no\">paresh.dave@thomsonreuters.com</a> ; 415-565-1302; ))</p><p class=\"line-break\"><br/></p><p class=\"tr-copyright\">(c) Copyright Thomson Reuters 2020. Click For Restrictions - https://agency.reuters.com/en/copyright.html</p><p class=\"line-break\"><br/></p><p class=\"tr-slugline\">Keywords: HEALTH-CORONAVIRUS/APPS (UPDATE 2)</p></div>'"
      ]
     },
     "execution_count": 17,
     "metadata": {},
     "output_type": "execute_result"
    }
   ],
   "source": [
    "storyId_aapl = news_aapl['storyId'][2] \n",
    "ek.get_news_story(storyId_aapl)"
   ]
  },
  {
   "cell_type": "markdown",
   "metadata": {},
   "source": [
    "As you can see from the above result, the output is in HTML format. To display it nicely, you can use the Ipython API to render it."
   ]
  },
  {
   "cell_type": "code",
   "execution_count": 18,
   "metadata": {
    "scrolled": false
   },
   "outputs": [
    {
     "data": {
      "text/html": [
       "<div class=\"storyContent\" lang=\"en\"><style type=\"text/css\">.storyContent * {border-color:inherit !important;outline-color:inherit !important;}</style><p class=\"tr-advisory\">Adds details, Northern Ireland app</p><p class=\"tr-by\">By Paresh Dave</p><p class=\"tr-story-p1\"><span class=\"tr-dateline\">OAKLAND, Calif., July 31 (Reuters)</span><span class=\"tr-dl-sep\"> - </span><span class=\"tr-strong\">Alphabet </span>Inc's <a href=\"reuters://REALTIME/Verb=FullQuote/ric=GOOGL.O\" data-type=\"ric\" data-ric=\"GOOGL.O\" translate=\"no\" dir=\"ltr\">GOOGL.O</a> Google said on Friday that 20 U.S. states and territories, representing about 45% of the country's population, are \"exploring\" contact tracing apps for the novel coronavirus using a tool it developed with Apple Inc <a href=\"reuters://REALTIME/Verb=FullQuote/ric=AAPL.O\" data-type=\"ric\" data-ric=\"AAPL.O\" translate=\"no\" dir=\"ltr\">AAPL.O</a>. </p><p>In addition, the company said public health authorities in 16 countries and regions outside the United States had launched apps using the Apple-Google tool, <span class=\"tr-strong\">up from 12 previously</span>. They include Austria, Brazil, Canada, Croatia, Denmark, Germany, Gibraltar, Italy, Ireland, Japan, Latvia, Northern Ireland, Poland, Saudi Arabia, Switzerland and Uruguay.</p><p>The technology enables app users to track encounters with other people through Bluetooth signals and anonymously notify contacts if they later become infected with the virus. </p><p>Google had previously said in May that three states - Alabama, North Dakota and South Carolina - would be launching apps using the exposure notification tool. But South Carolina lawmakers halted the release of the state's app last month, while Alabama officials are still weighing the launch of their completed app. North Dakota's app has yet to launch.</p><p>On Friday, Google said the first of the U.S. apps would be released in the \"coming weeks,<span class=\"tr-strong\">\" but declined to name the states.</span></p><p>It added that its system with Apple now enables apps launched by different countries to talk to each other, allowing contact-logging to continue even when users cross borders.</p><p>N<span class=\"tr-strong\">orthern Ireland's app, which was released on Friday, is the first that can also trace users in another country, Ireland. The company that developed the app told Reuters that it also is making one for the U.S. state of Pennsylvania. <span> (<a href=\"reuters://REALTIME/verb=NewsStory/ric=nL5N2F25GD\" data-type=\"storyId\" data-story-id=\"nL5N2F25GD\" translate=\"no\" dir=\"ltr\" class=\"tr-pnac\">Full Story</a>)</span></span></p><p><br/></p><div style=\"display:none;\" class=\"tr-sandwichbox\"></div><p class=\"tr-signoff\"> (Reporting by Paresh Dave; editing by Diane Craft and Tom Brown)</p><p class=\"tr-contactinfo\">(( <a href=\"mailto:paresh.dave@thomsonreuters.com\" data-type=\"email\" translate=\"no\">paresh.dave@thomsonreuters.com</a> ; 415-565-1302; ))</p><p class=\"line-break\"><br/></p><p class=\"tr-copyright\">(c) Copyright Thomson Reuters 2020. Click For Restrictions - https://agency.reuters.com/en/copyright.html</p><p class=\"line-break\"><br/></p><p class=\"tr-slugline\">Keywords: HEALTH-CORONAVIRUS/APPS (UPDATE 2)</p></div>"
      ],
      "text/plain": [
       "<IPython.core.display.HTML object>"
      ]
     },
     "execution_count": 18,
     "metadata": {},
     "output_type": "execute_result"
    }
   ],
   "source": [
    "from IPython.display import HTML #rendered HTML output\n",
    "HTML(ek.get_news_story(storyId_aapl))"
   ]
  },
  {
   "cell_type": "markdown",
   "metadata": {},
   "source": [
    "## Summary\n",
    "\n",
    "At this point, I learn about Eikon Data API step by step and go through each function of Eikon Data API to verify how it works, how the output of each function looks, and how those data can be used. \n",
    "\n",
    "\n",
    "## What’s Next?\n",
    "For the next step, I'll use some functions in Eikon Data API to create interactive widgets:\n",
    "[Learning Eikon Data API (Part 2)](https://developers.refinitiv.com/article/learning-eikon-data-api-internship-diarypart2)"
   ]
  },
  {
   "cell_type": "markdown",
   "metadata": {},
   "source": [
    "## Learn more\n",
    "\n",
    "To learn more about the **Eikon Data API** Libraries, you can join the [Refinitiv Developer Community](https://developers.refinitiv.com/) by registering and login to the Refinitiv Developer Community portal.  You will get free access to a number of learning materials, such as [Quick Start guides](https://developers.refinitiv.com/eikon-apis/eikon-data-api/quick-start), [Tutorials](https://developers.refinitiv.com/eikon-data-apis/learning), [Documentation](https://developers.refinitiv.com/eikon-apis/eikon-data-api/docs), and much more.\n",
    "\n",
    "## Getting Help and Support\n",
    "\n",
    "If you have any questions regarding the API usage, please post them on the [Eikon Data APIs Q&A Forum](https://developers.refinitiv.com/eikon-apis/eikon-data-api/qa). The Refinitiv Developer Community will be very pleased to help you."
   ]
  },
  {
   "cell_type": "markdown",
   "metadata": {},
   "source": [
    "## References\n",
    "\n",
    "\n",
    "1. CHEN, J., 2019. International Securities Identification Number (ISIN). [online] Investopedia. Available at: <https://www.investopedia.com/terms/i/isin.asp> [Accessed 10 August 2020].\n",
    "2. CHEN, J., 2019. Stock Exchange Daily Official List (SEDOL) Definition. [online] Investopedia. Available at: <https://www.investopedia.com/terms/s/sedol.asp> [Accessed 10 August 2020].\n",
    "3. Developers.refinitiv.com. n.d. Eikon Data API | DEVELOPER COMMUNITY. [online] Available at: <https://developers.refinitiv.com/eikon-apis/eikon-data-api> [Accessed 10 August 2020].\n",
    "4. Jintamalit, C., 2019. How To Discover Available Fields For Data Grid Service On JET(App Studio HTML5 SDK) API Using Eikon Desktop | DEVELOPER COMMUNITY. [online] Developers.refinitiv.com. Available at: <https://developers.refinitiv.com/article/how-discover-available-fields-d... [Accessed 10 August 2020].\n",
    "5. Sec.gov. 2015. SEC.Gov | CUSIP Number. [online] Available at: <https://www.sec.gov/answers/cusip.htm> [Accessed 10 August 2020]."
   ]
  },
  {
   "cell_type": "code",
   "execution_count": null,
   "metadata": {},
   "outputs": [],
   "source": []
  }
 ],
 "metadata": {
  "kernelspec": {
   "display_name": "Python 3",
   "language": "python",
   "name": "python3"
  },
  "language_info": {
   "codemirror_mode": {
    "name": "ipython",
    "version": 3
   },
   "file_extension": ".py",
   "mimetype": "text/x-python",
   "name": "python",
   "nbconvert_exporter": "python",
   "pygments_lexer": "ipython3",
   "version": "3.7.2"
  }
 },
 "nbformat": 4,
 "nbformat_minor": 4
}
