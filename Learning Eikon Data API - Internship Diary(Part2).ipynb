{
 "cells": [
  {
   "cell_type": "markdown",
   "metadata": {},
   "source": [
    "# Learning Eikon Data API - Internship Diary(Part 2)"
   ]
  },
  {
   "cell_type": "markdown",
   "metadata": {},
   "source": [
    "This is the second part of my learning diary. In this part, I use data from Eikon Data API to create interactive widgets and demonstrate how to use Screener with Eikon Data API. Please refer to Learning Eikon Data API - Internship Diary (Part 1) for the first part. "
   ]
  },
  {
   "cell_type": "markdown",
   "metadata": {},
   "source": [
    "First, I import Python packages used by the application.\n",
    "\n",
    "- **[Cufflinks](https://plotly.com/python/pandas-backend/#what-about-cufflinks)** :Connecting Plotly with pandas to create graphs and charts of data frames directly.\n",
    "- **[pandas](https://pandas.pydata.org/getting_started.html)** : The fast, powerful, flexible, and easy to use open-source data analysis and manipulation tool.\n",
    "- **[NumPy](https://numpy.org/install/)** : The fundamental package for scientific computing in Python.\n",
    "- **[Plotly](https://plotly.com/python/getting-started/)** : An interactive, open-source plotting library. \n",
    "- **[ipywidgets](https://ipywidgets.readthedocs.io/en/latest/)** :  An interactive HTML widgets for Jupyter notebooks, JupyterLab, and the IPython kernel. \n",
    "- **[IPython.display](https://dateutil.readthedocs.io/en/stable/relativedelta.html)** : Public API for display tools in IPython.\n",
    "- **[datetime](https://docs.python.org/2/library/datetime.html#module-datetime)** : Supplies classes for manipulating dates and times. \n",
    "- **[relativedelta](https://dateutil.readthedocs.io/en/stable/relativedelta.html)**: It is designed to be applied to an existing datetime and can replace specific components of that datetime, or represents an interval of time."
   ]
  },
  {
   "cell_type": "code",
   "execution_count": 1,
   "metadata": {},
   "outputs": [
    {
     "data": {
      "text/html": [
       "        <script type=\"text/javascript\">\n",
       "        window.PlotlyConfig = {MathJaxConfig: 'local'};\n",
       "        if (window.MathJax) {MathJax.Hub.Config({SVG: {font: \"STIX-Web\"}});}\n",
       "        if (typeof require !== 'undefined') {\n",
       "        require.undef(\"plotly\");\n",
       "        requirejs.config({\n",
       "            paths: {\n",
       "                'plotly': ['https://cdn.plot.ly/plotly-latest.min']\n",
       "            }\n",
       "        });\n",
       "        require(['plotly'], function(Plotly) {\n",
       "            window._Plotly = Plotly;\n",
       "        });\n",
       "        }\n",
       "        </script>\n",
       "        "
      ]
     },
     "metadata": {},
     "output_type": "display_data"
    }
   ],
   "source": [
    "import eikon as ek  #Eikon Python wrapper package\n",
    "import cufflinks as cf \n",
    "import pandas as pd \n",
    "import numpy as np\n",
    "import plotly.graph_objects as go\n",
    "import ipywidgets as widgets #IPython widgets \n",
    "from ipywidgets import Button, HBox, VBox\n",
    "from IPython.display import display, clear_output\n",
    "from datetime import datetime, timedelta \n",
    "from dateutil.relativedelta import relativedelta "
   ]
  },
  {
   "cell_type": "markdown",
   "metadata": {},
   "source": [
    "The following Python and package versions are used."
   ]
  },
  {
   "cell_type": "code",
   "execution_count": 2,
   "metadata": {},
   "outputs": [
    {
     "name": "stdout",
     "output_type": "stream",
     "text": [
      "3.7.6 (default, Jan  8 2020, 20:23:39) [MSC v.1916 64 bit (AMD64)]\n"
     ]
    }
   ],
   "source": [
    "import sys \n",
    "print(sys.version) #python version"
   ]
  },
  {
   "cell_type": "code",
   "execution_count": 3,
   "metadata": {},
   "outputs": [
    {
     "data": {
      "text/plain": [
       "'1.1.2'"
      ]
     },
     "execution_count": 3,
     "metadata": {},
     "output_type": "execute_result"
    }
   ],
   "source": [
    "ek.__version__ #eikon version"
   ]
  },
  {
   "cell_type": "code",
   "execution_count": 4,
   "metadata": {},
   "outputs": [
    {
     "data": {
      "text/plain": [
       "'0.17.3'"
      ]
     },
     "execution_count": 4,
     "metadata": {},
     "output_type": "execute_result"
    }
   ],
   "source": [
    "cf.__version__ #cufflinks version"
   ]
  },
  {
   "cell_type": "code",
   "execution_count": 5,
   "metadata": {},
   "outputs": [
    {
     "data": {
      "text/plain": [
       "'1.0.1'"
      ]
     },
     "execution_count": 5,
     "metadata": {},
     "output_type": "execute_result"
    }
   ],
   "source": [
    "pd.__version__ #pandas version"
   ]
  },
  {
   "cell_type": "code",
   "execution_count": 6,
   "metadata": {},
   "outputs": [
    {
     "data": {
      "text/plain": [
       "'1.18.1'"
      ]
     },
     "execution_count": 6,
     "metadata": {},
     "output_type": "execute_result"
    }
   ],
   "source": [
    "np.__version__ #numpy version"
   ]
  },
  {
   "cell_type": "code",
   "execution_count": 7,
   "metadata": {},
   "outputs": [
    {
     "name": "stdout",
     "output_type": "stream",
     "text": [
      "4.8.2\n"
     ]
    }
   ],
   "source": [
    "from plotly import __version__ \n",
    "print(__version__) #plotly version"
   ]
  },
  {
   "cell_type": "code",
   "execution_count": 8,
   "metadata": {},
   "outputs": [
    {
     "data": {
      "text/plain": [
       "'7.5.1'"
      ]
     },
     "execution_count": 8,
     "metadata": {},
     "output_type": "execute_result"
    }
   ],
   "source": [
    "widgets.__version__ #ipywidgets version"
   ]
  },
  {
   "cell_type": "markdown",
   "metadata": {},
   "source": [
    "Next, connect to Eikon Data API by setting the App Key. "
   ]
  },
  {
   "cell_type": "code",
   "execution_count": 9,
   "metadata": {},
   "outputs": [],
   "source": [
    "ek.set_app_key('[APP_KEY]') #connecting to Eikon Data API"
   ]
  },
  {
   "cell_type": "markdown",
   "metadata": {},
   "source": [
    "**Note:**\n",
    "\n",
    "- Please change <APP_KEY> to your App Key. For more information, please refer to [Create an App Key for your application](https://developers.refinitiv.com/eikon-apis/eikon-data-api/quick-start#create-app-key).\n",
    "- Before you run the application, please make sure that **Refinitiv Workspace** or **Eikon Desktop** is running."
   ]
  },
  {
   "cell_type": "markdown",
   "metadata": {},
   "source": [
    "## Time Series Chart Widget\n",
    "In this section, I will create an interactive widget that plots time-series data returned by the `ek.get_timeseries()` method on a line chart. The widget accepts parameters, such as RICs, fields, interval, start date, and end date from users. Then, it calls the `ek.get_timeseries()` method with the retrieved parameters to get the time-series data. Finally, it uses the time-series data to create an interactive line chart that compares the stock prices of each RIC. \n",
    "\n",
    "The code below shows how the widget is implemented.\n"
   ]
  },
  {
   "cell_type": "code",
   "execution_count": 10,
   "metadata": {},
   "outputs": [
    {
     "data": {
      "text/html": [
       "        <script type=\"text/javascript\">\n",
       "        window.PlotlyConfig = {MathJaxConfig: 'local'};\n",
       "        if (window.MathJax) {MathJax.Hub.Config({SVG: {font: \"STIX-Web\"}});}\n",
       "        if (typeof require !== 'undefined') {\n",
       "        require.undef(\"plotly\");\n",
       "        requirejs.config({\n",
       "            paths: {\n",
       "                'plotly': ['https://cdn.plot.ly/plotly-latest.min']\n",
       "            }\n",
       "        });\n",
       "        require(['plotly'], function(Plotly) {\n",
       "            window._Plotly = Plotly;\n",
       "        });\n",
       "        }\n",
       "        </script>\n",
       "        "
      ]
     },
     "metadata": {},
     "output_type": "display_data"
    },
    {
     "data": {
      "application/vnd.jupyter.widget-view+json": {
       "model_id": "30646907d2454026bc8b7df21659deb3",
       "version_major": 2,
       "version_minor": 0
      },
      "text/plain": [
       "HBox(children=(VBox(children=(Text(value='AAPL.O;MSFT.O', description='RICs:', placeholder='Input RICs'), Drop…"
      ]
     },
     "metadata": {},
     "output_type": "display_data"
    },
    {
     "data": {
      "application/vnd.jupyter.widget-view+json": {
       "model_id": "14cd731986294b65af415d5f18afab29",
       "version_major": 2,
       "version_minor": 0
      },
      "text/plain": [
       "Button(description='Run', style=ButtonStyle())"
      ]
     },
     "metadata": {},
     "output_type": "display_data"
    },
    {
     "data": {
      "application/vnd.jupyter.widget-view+json": {
       "model_id": "031a0d85e5ad407bbc4a5e57e7e320c0",
       "version_major": 2,
       "version_minor": 0
      },
      "text/plain": [
       "Output()"
      ]
     },
     "metadata": {},
     "output_type": "display_data"
    },
    {
     "data": {
      "text/plain": [
       "<__main__.WidgetPlot at 0x2191d238e48>"
      ]
     },
     "execution_count": 10,
     "metadata": {},
     "output_type": "execute_result"
    }
   ],
   "source": [
    "import warnings\n",
    "warnings.filterwarnings('ignore') #prevent warning message \n",
    "cf.set_config_file(offline=True) #set the plotting mode to offline\n",
    "\n",
    "class WidgetPlot:\n",
    "    #widget for input RICs \n",
    "    ts_get_rics = widgets.Text(\n",
    "        value = 'AAPL.O;MSFT.O',\n",
    "        placeholder = 'Input RICs',\n",
    "        description = 'RICs:',\n",
    "        disabled = False   \n",
    "    )\n",
    "\n",
    "    #widget for select start date \n",
    "    ts_get_start = widgets.DatePicker(\n",
    "        value = datetime.now() - relativedelta(years = 1),\n",
    "        description = 'Start Date :', \n",
    "        disabled = False\n",
    "    )\n",
    "\n",
    "    #widget for select  end date\n",
    "    ts_get_end = widgets.DatePicker(\n",
    "        value = datetime.now(),\n",
    "        description = 'End Date :',\n",
    "        disabled = False\n",
    "    )\n",
    "\n",
    "    #widget for select interval\n",
    "    ts_get_interval = widgets.Dropdown(\n",
    "        value = 'daily',\n",
    "        placeholder = 'Choose Interval',\n",
    "        options = ['tick', 'minute', 'hour', 'daily', 'weekly', 'monthly', 'quarterly', 'yearly'],\n",
    "        description = 'Interval:',\n",
    "        ensure_option = True,\n",
    "        disabled = False\n",
    "    )\n",
    "\n",
    "    # widget for input Fields \n",
    "    ts_get_fields = widgets.Dropdown(\n",
    "        value = 'CLOSE',\n",
    "        placeholder = 'Choose Fields',\n",
    "        options = ['VOLUME', 'HIGH', 'LOW', 'OPEN', 'CLOSE', 'COUNT'],\n",
    "        description = 'Fields:',\n",
    "        ensure_option = True,\n",
    "        disabled = False\n",
    "    ) \n",
    "\n",
    "    #widgets arrangement \n",
    "    left_box = widgets.VBox([ts_get_rics, ts_get_interval, ts_get_fields])\n",
    "    right_box = widgets.VBox([ts_get_start, ts_get_end])\n",
    "    \n",
    "    #display the widgets\n",
    "    display(HBox([left_box, right_box]))\n",
    "    \n",
    "    #widget button for submit the input\n",
    "    ts_button = widgets.Button(description='Run') \n",
    "    ts_output = widgets.Output()\n",
    "\n",
    "    def __init__(self):\n",
    "        display(self.ts_button, self.ts_output)\n",
    "        self.ts_button.on_click(self.on_button_clicked)  \n",
    "        self.ts_output\n",
    "        self.ts_get_fields.value\n",
    "        self.ts_get_interval.value\n",
    "        \n",
    "    def on_button_clicked(self,b):\n",
    "        with self.ts_output:\n",
    "            self.ts_output.clear_output() #clear output\n",
    "            st = self.ts_get_start.value #get start date value from datepicker\n",
    "            ed = self.ts_get_end.value #get end date value from datepicker\n",
    "            start = st.strftime('%Y-%m-%d %H:%M:%S') #convert start date to yyyy-mm-dd format\n",
    "            end = ed.strftime('%Y-%m-%d %H:%M:%S') #convert end date to yyyy-mm-dd format\n",
    "            rics = self.ts_get_rics.value.split(\";\") #retrieve each ric seperated by ';'\n",
    "            \n",
    "            #get timeseries data\n",
    "            data = ek.get_timeseries(rics,\n",
    "                                            start_date = start,\n",
    "                                            end_date = end,\n",
    "                                            fields = self.ts_get_fields.value,\n",
    "                                            interval = self.ts_get_interval.value)\n",
    "            #check if variables is exist\n",
    "            if data.isnull().values.all():\n",
    "                print('\\033[31m' + 'Error, value not available(NaN value detected).')\n",
    "                return\n",
    "            else:\n",
    "                def multi_plot(data, addAll = True):\n",
    "                    fig = go.Figure()\n",
    "                    fig.update_layout(legend_title_text = data.columns.name, \n",
    "                                        title_text = 'Time Series with Range Slider and Selectors')\n",
    "                    num = len(rics) #check number of RICs \n",
    "\n",
    "                    #button of dropdown menu\n",
    "                    button_all = dict(label = 'All',\n",
    "                                        method = 'update',\n",
    "                                        args = [{'visible': data.columns.isin(data.columns),\n",
    "                                                'title': 'All',\n",
    "                                                'showlegend':True}])\n",
    "\n",
    "                    def create_layout_button(column):\n",
    "                        return dict(label = column,\n",
    "                                    method = 'update',\n",
    "                                    args = [{'visible': data.columns.isin([column]),\n",
    "                                            'title': column,\n",
    "                                            'showlegend': True}])\n",
    "                    #add dropdown for more than 2 RICs\n",
    "                    if num > 1:\n",
    "                        fig.update_layout(\n",
    "                            updatemenus = [\n",
    "                                go.layout.Updatemenu(\n",
    "                                    pad = {\"r\": 10, \"t\": 10},\n",
    "                                    y = 1.15,\n",
    "                                    yanchor = \"top\",\n",
    "                                    active = 0,\n",
    "                                    buttons = ([button_all] * addAll) + list(data.columns.map(lambda column: create_layout_button(column)))\n",
    "                                )\n",
    "                            ]\n",
    "                        )\n",
    "\n",
    "                    #add plot \n",
    "                    for column in data.columns.to_list():\n",
    "                        fig.add_trace(\n",
    "                            go.Scatter(\n",
    "                                x = data.index,\n",
    "                                y = data[column],\n",
    "                                mode ='lines',\n",
    "                                name = column\n",
    "                            )\n",
    "                        )\n",
    "                    #add range slider and selector\n",
    "                    fig.update_xaxes(\n",
    "                        rangeslider_visible = True,\n",
    "                        rangeselector = dict(\n",
    "                            buttons = list([\n",
    "                                dict(count = 7, label = '1w', step = 'day', stepmode = 'backward'),\n",
    "                                dict(count = 1, label = '1m', step = 'month', stepmode = 'backward'),\n",
    "                                dict(count = 6, label = '6m', step = 'month', stepmode = 'backward'),\n",
    "                                dict(count = 1, label = 'YTD', step = 'year', stepmode = 'todate'),\n",
    "                                dict(count = 1, label = '1y', step = 'year', stepmode = 'backward'),\n",
    "                                dict(step = 'all')\n",
    "                            ])\n",
    "                        )\n",
    "                    )\n",
    "                    fig.show()\n",
    "                multi_plot(data)\n",
    "WidgetPlot()"
   ]
  },
  {
   "cell_type": "markdown",
   "metadata": {},
   "source": [
    "Fill in the parameters and then click the Run button to execute the code.\n",
    "\n",
    "#### Parameters' definitions used in the widget::\n",
    "- RICs:  A single RIC or list of RICs to retrieve historical data( Use semicolon as a delimiter). \n",
    "    - `AAPL.O`: Apple stock\n",
    "    - `MSFT.O`: Microsoft stock\n",
    "- Interval: DTime-series data interval (tick, minute, hour, daily, weekly, monthly, quarterly, yearly).\n",
    "    - `Daily` : Daily interval  \n",
    "- Fields: Use this parameter to filter the returned fields set.\n",
    "    - `CLOSE`: Closing price\n",
    "- Start Date : Starting date(mm/dd/yyyy) of the historical range. \n",
    "- End Date: End date(mm/dd/yyyy) of the historical range.\n",
    "\n",
    "After executing the code, the line chart will be displayed, as shown below. "
   ]
  },
  {
   "cell_type": "markdown",
   "metadata": {},
   "source": [
    "## Fundamental Table Widget\n",
    "\n",
    "In this section, I will create a widget that displays fundamental data returned by the `ek.get_data()` method in a table. The widget accepts RICs and fields as parameters. Then, it calls the `ek.data()` method with the retrieved parameters to get the fundamental data. Finally, it displays the result in a table format. \n",
    "\n",
    "**Tip:** You can use the **Data Item Browser (DIB)** to explore data items by search and configure supported parameters. For detailed information, you can visit the [Data Item Browser (DIB) Overview](https://developers.refinitiv.com/article/how-discover-available-fields-data-grid-service-jetapp-studio-html5-sdk-api-using-eikon) article.\n"
   ]
  },
  {
   "cell_type": "code",
   "execution_count": 11,
   "metadata": {},
   "outputs": [
    {
     "data": {
      "application/vnd.jupyter.widget-view+json": {
       "model_id": "185545bad0b043e59a06aeb7abe49ece",
       "version_major": 2,
       "version_minor": 0
      },
      "text/plain": [
       "HBox(children=(Textarea(value='TWTR.K;FB.OQ;MSFT.OQ;GOOGL.OQ;NFLX.OQ', description='RICs:', placeholder='Input…"
      ]
     },
     "metadata": {},
     "output_type": "display_data"
    },
    {
     "data": {
      "application/vnd.jupyter.widget-view+json": {
       "model_id": "276a2282b8644ed58bd3966e88b4b393",
       "version_major": 2,
       "version_minor": 0
      },
      "text/plain": [
       "Button(description='Run', style=ButtonStyle())"
      ]
     },
     "metadata": {},
     "output_type": "display_data"
    },
    {
     "data": {
      "application/vnd.jupyter.widget-view+json": {
       "model_id": "69ffebacaf2049cca4b1ec6a0b8a1655",
       "version_major": 2,
       "version_minor": 0
      },
      "text/plain": [
       "Output()"
      ]
     },
     "metadata": {},
     "output_type": "display_data"
    },
    {
     "data": {
      "text/plain": [
       "<__main__.WidgetTable at 0x2191d388a08>"
      ]
     },
     "execution_count": 11,
     "metadata": {},
     "output_type": "execute_result"
    }
   ],
   "source": [
    "class WidgetTable:\n",
    "    \n",
    "    #for input RICs \n",
    "    get_rics = widgets.Textarea(\n",
    "        value = 'TWTR.K;FB.OQ;MSFT.OQ;GOOGL.OQ;NFLX.OQ',\n",
    "        placeholder = 'Input RICs',\n",
    "        description = 'RICs:',\n",
    "        disabled = False   \n",
    "    )\n",
    "\n",
    "    #for input Fields \n",
    "    get_fields = widgets.Textarea(\n",
    "        value = 'TR.CompanyName;TR.PE;TR.TotalDebtToEV;TR.EVToSales',\n",
    "        placeholder = 'Input Fields',\n",
    "        description = 'Fields:',\n",
    "        disabled = False\n",
    "    )\n",
    "    \n",
    "    #display the widgets\n",
    "    display(HBox([get_rics, get_fields]))\n",
    "    \n",
    "    #button for submit the input\n",
    "    button = widgets.Button(description='Run')\n",
    "    output = widgets.Output()\n",
    "    \n",
    "    def __init__(self):\n",
    "        display(self.button, self.output)\n",
    "        self.button.on_click(self.on_button_clicked)  \n",
    "        self.output\n",
    "        \n",
    "    def on_button_clicked(self,c):\n",
    "        with self.output:\n",
    "            self.output.clear_output() #clear and update output\n",
    "            rics = self.get_rics.value.split(\";\") #retrieve each ric seperated by ';'\n",
    "            fields = self.get_fields.value.split(\";\") #retrieve each field seperated by ';'\n",
    "            \n",
    "            #get data\n",
    "            df, err = ek.get_data(rics, fields)\n",
    "            \n",
    "            #check if variables is exist\n",
    "            if df.iloc[:,1:].isnull().values.all():\n",
    "                print('\\033[31m' + 'Error, invalid input.')\n",
    "                return\n",
    "            else:\n",
    "                data = df.round(decimals = 3) #limiting floats to three decimal points\n",
    "                #add table\n",
    "                fig = go.Figure(\n",
    "                        data = [go.Table(\n",
    "                        header = dict(values = df.columns,\n",
    "                                    font_size = 13,\n",
    "                                    height = 30),\n",
    "                        cells = dict(values = data.T,\n",
    "                                    font_size = 13,\n",
    "                                    height = 30))\n",
    "                        ])\n",
    "                \n",
    "                #table layout\n",
    "                fig.update_layout(\n",
    "                    title_text = 'Fundamental Data',\n",
    "                    autosize = True,\n",
    "                    margin = dict(\n",
    "                        l = 0,\n",
    "                        r = 0,\n",
    "                        b = 0,\n",
    "                        t = 50,\n",
    "                    )\n",
    "                )\n",
    "                fig.show()\n",
    "            #add text to show error\n",
    "            if err != None:\n",
    "                print('Error:')\n",
    "                print(err, sep = \"\\n\")\n",
    "                    \n",
    "WidgetTable()"
   ]
  },
  {
   "cell_type": "markdown",
   "metadata": {},
   "source": [
    "Fill in RICs and Fields and then click the Run button to execute the code. \n",
    "#### Parameters' definitions used in the widget:\n",
    "- RICs: A single RIC or list of RICs to retrieve data (Use semicolon as a delimiter). For example:\n",
    "    - `TWTR.K`: Twitter stock\n",
    "    - `FB.OQ`: Facebook stock\n",
    "    - `MSFT.OQ`: Microsoft stock\n",
    "    - `GOOGL.OQ`: Google stock\n",
    "    - `NFLX.OQ`: Netflix stock\n",
    "- Fields: List of fields to request (Use semicolon as a delimiter). For example:\n",
    "    - `TR.PE`: Price-to-Earnings Ratio (Daily Times Series Ratio). A valuation ratio of a company's current share price relative to its EPS. EPS is LTM Earnings per Share From Continuing Operations. PE is not calculated when LTM EPS is less than or equal to Zero.\n",
    "    - `TR.TotalDebtToEV`: Total Dept To Enterprise Value (Daily Times Series Ratio). Total Debt includes Short and Long term Debt for the most recent fiscal period. For Banks, Cash and Due from Banks is considered in place of Cash and Short Term Investments.\n",
    "    - `TR.EVToSales`: Enterprise Value To Sales (Daily Times Series Ratio). EV to Sales ratio is not calculated when LTM Sales is less than or equal to Zero. For Banks, Interest Income plus Non-Interest Income is considered as Total Sales and Cash and Due from Banks is considered in place of Cash and Short Term Investments. \n",
    "    \n",
    "**Note:**\n",
    "- `EV` represents the sum of Market Capitalization, Total Debt, Preferred Stock and Minority Interest minus Cash and Short Term Investments for the most recent fiscal period. \n",
    "- `Market Cap` is calculated by multiplying Current Total Shares Outstanding by Latest Close Price. \n",
    "- `Sales` is Last twelve months(LTM) Total Revenue. "
   ]
  },
  {
   "cell_type": "markdown",
   "metadata": {},
   "source": [
    "### SCREENER \n",
    "\n",
    "With the `ek.get_data()` method, `SCREENER` can be used to filter stocks based on user-defined metrics. `SCREENER` is a flexible idea-generation tool that allows you to find securities in the investable universe that display certain characteristics and match your investment philosophy or style. For more information, please visit the [Find Your Right Companies with SCREENER](https://developers.refinitiv.com/article/find-your-right-companies-screener-eikon-data-apispython) article.\n",
    "\n",
    "For example, I can use the `ek.get_data()` method and `SCREENER` to find companies in SET (Stock Exchange of Thailand) that are in banking and investment services and have company market capitalization greater than one billion, as shown below."
   ]
  },
  {
   "cell_type": "code",
   "execution_count": 12,
   "metadata": {},
   "outputs": [],
   "source": [
    "# screener syntax in Python format \n",
    "# In Banking and Investment Services business sector \n",
    "# And company market capitalization is greater than one billion Thai Baht \n",
    "# And listed in the Stock Exchange of Thailand \n",
    "screen_list = \"\"\"SCREEN(U(IN(Equity(active,public,primary))),\n",
    "                    IN(TR.TRBCBusinessSectorCode,\"5510\"), \n",
    "                    IN(TR.ExchangeMarketIdCode,\"XBKK\"), \n",
    "                    TR.CompanyMarketCap(Scale=9)>=TR.CompanyMarketCap(Scale=9), \n",
    "                    CURN=THB)\"\"\"\n",
    "\n",
    "fields = ['TR.CompanyName', 'TR.TRBCBusinessSector', 'TR.ExchangeName', 'TR.CompanyMarketCap']"
   ]
  },
  {
   "cell_type": "code",
   "execution_count": 13,
   "metadata": {},
   "outputs": [
    {
     "data": {
      "text/html": [
       "<div>\n",
       "<style scoped>\n",
       "    .dataframe tbody tr th:only-of-type {\n",
       "        vertical-align: middle;\n",
       "    }\n",
       "\n",
       "    .dataframe tbody tr th {\n",
       "        vertical-align: top;\n",
       "    }\n",
       "\n",
       "    .dataframe thead th {\n",
       "        text-align: right;\n",
       "    }\n",
       "</style>\n",
       "<table border=\"1\" class=\"dataframe\">\n",
       "  <thead>\n",
       "    <tr style=\"text-align: right;\">\n",
       "      <th></th>\n",
       "      <th>Instrument</th>\n",
       "      <th>Company Name</th>\n",
       "      <th>TRBC Business Sector Name</th>\n",
       "      <th>Exchange Name</th>\n",
       "      <th>Company Market Cap</th>\n",
       "    </tr>\n",
       "  </thead>\n",
       "  <tbody>\n",
       "    <tr>\n",
       "      <th>0</th>\n",
       "      <td>BAY.BK</td>\n",
       "      <td>Bank of Ayudhya PCL</td>\n",
       "      <td>Banking &amp; Investment Services</td>\n",
       "      <td>STOCK EXCHANGE OF THAILAND</td>\n",
       "      <td>1.538801e+11</td>\n",
       "    </tr>\n",
       "    <tr>\n",
       "      <th>1</th>\n",
       "      <td>KGI.BK</td>\n",
       "      <td>KGI Securities Thailand PCL</td>\n",
       "      <td>Banking &amp; Investment Services</td>\n",
       "      <td>STOCK EXCHANGE OF THAILAND</td>\n",
       "      <td>6.771995e+09</td>\n",
       "    </tr>\n",
       "    <tr>\n",
       "      <th>2</th>\n",
       "      <td>CIMBT.BK</td>\n",
       "      <td>CIMB Thai Bank PCL</td>\n",
       "      <td>Banking &amp; Investment Services</td>\n",
       "      <td>STOCK EXCHANGE OF THAILAND</td>\n",
       "      <td>2.011965e+10</td>\n",
       "    </tr>\n",
       "    <tr>\n",
       "      <th>3</th>\n",
       "      <td>ASP.BK</td>\n",
       "      <td>Asia Plus Group Holdings PCL</td>\n",
       "      <td>Banking &amp; Investment Services</td>\n",
       "      <td>STOCK EXCHANGE OF THAILAND</td>\n",
       "      <td>3.628850e+09</td>\n",
       "    </tr>\n",
       "    <tr>\n",
       "      <th>4</th>\n",
       "      <td>SCB.BK</td>\n",
       "      <td>Siam Commercial Bank PCL</td>\n",
       "      <td>Banking &amp; Investment Services</td>\n",
       "      <td>STOCK EXCHANGE OF THAILAND</td>\n",
       "      <td>2.269168e+11</td>\n",
       "    </tr>\n",
       "    <tr>\n",
       "      <th>5</th>\n",
       "      <td>PL.BK</td>\n",
       "      <td>Phatra Leasing PCL</td>\n",
       "      <td>Banking &amp; Investment Services</td>\n",
       "      <td>STOCK EXCHANGE OF THAILAND</td>\n",
       "      <td>1.200341e+09</td>\n",
       "    </tr>\n",
       "    <tr>\n",
       "      <th>6</th>\n",
       "      <td>BFIT.BK</td>\n",
       "      <td>Srisawad Finance PCL</td>\n",
       "      <td>Banking &amp; Investment Services</td>\n",
       "      <td>STOCK EXCHANGE OF THAILAND</td>\n",
       "      <td>1.619959e+10</td>\n",
       "    </tr>\n",
       "    <tr>\n",
       "      <th>7</th>\n",
       "      <td>KKP.BK</td>\n",
       "      <td>Kiatnakin Bank PCL</td>\n",
       "      <td>Banking &amp; Investment Services</td>\n",
       "      <td>STOCK EXCHANGE OF THAILAND</td>\n",
       "      <td>3.268609e+10</td>\n",
       "    </tr>\n",
       "    <tr>\n",
       "      <th>8</th>\n",
       "      <td>KTB.BK</td>\n",
       "      <td>Krung Thai Bank PCL</td>\n",
       "      <td>Banking &amp; Investment Services</td>\n",
       "      <td>STOCK EXCHANGE OF THAILAND</td>\n",
       "      <td>1.371376e+11</td>\n",
       "    </tr>\n",
       "    <tr>\n",
       "      <th>9</th>\n",
       "      <td>MFC.BK</td>\n",
       "      <td>MFC Asset Management PCL</td>\n",
       "      <td>Banking &amp; Investment Services</td>\n",
       "      <td>STOCK EXCHANGE OF THAILAND</td>\n",
       "      <td>1.689325e+09</td>\n",
       "    </tr>\n",
       "  </tbody>\n",
       "</table>\n",
       "</div>"
      ],
      "text/plain": [
       "  Instrument                  Company Name      TRBC Business Sector Name  \\\n",
       "0     BAY.BK           Bank of Ayudhya PCL  Banking & Investment Services   \n",
       "1     KGI.BK   KGI Securities Thailand PCL  Banking & Investment Services   \n",
       "2   CIMBT.BK            CIMB Thai Bank PCL  Banking & Investment Services   \n",
       "3     ASP.BK  Asia Plus Group Holdings PCL  Banking & Investment Services   \n",
       "4     SCB.BK      Siam Commercial Bank PCL  Banking & Investment Services   \n",
       "5      PL.BK            Phatra Leasing PCL  Banking & Investment Services   \n",
       "6    BFIT.BK          Srisawad Finance PCL  Banking & Investment Services   \n",
       "7     KKP.BK            Kiatnakin Bank PCL  Banking & Investment Services   \n",
       "8     KTB.BK           Krung Thai Bank PCL  Banking & Investment Services   \n",
       "9     MFC.BK      MFC Asset Management PCL  Banking & Investment Services   \n",
       "\n",
       "                Exchange Name  Company Market Cap  \n",
       "0  STOCK EXCHANGE OF THAILAND        1.538801e+11  \n",
       "1  STOCK EXCHANGE OF THAILAND        6.771995e+09  \n",
       "2  STOCK EXCHANGE OF THAILAND        2.011965e+10  \n",
       "3  STOCK EXCHANGE OF THAILAND        3.628850e+09  \n",
       "4  STOCK EXCHANGE OF THAILAND        2.269168e+11  \n",
       "5  STOCK EXCHANGE OF THAILAND        1.200341e+09  \n",
       "6  STOCK EXCHANGE OF THAILAND        1.619959e+10  \n",
       "7  STOCK EXCHANGE OF THAILAND        3.268609e+10  \n",
       "8  STOCK EXCHANGE OF THAILAND        1.371376e+11  \n",
       "9  STOCK EXCHANGE OF THAILAND        1.689325e+09  "
      ]
     },
     "execution_count": 13,
     "metadata": {},
     "output_type": "execute_result"
    }
   ],
   "source": [
    "# get data\n",
    "screen_result, err = ek.get_data(screen_list, fields)\n",
    "screen_result.head(10) # show only first 10 rows"
   ]
  },
  {
   "cell_type": "markdown",
   "metadata": {},
   "source": [
    "Next, I will sort the results by the Company Market Capitalization and display the top ten companies that have the highest market capitalization."
   ]
  },
  {
   "cell_type": "code",
   "execution_count": 14,
   "metadata": {},
   "outputs": [
    {
     "data": {
      "text/html": [
       "<div>\n",
       "<style scoped>\n",
       "    .dataframe tbody tr th:only-of-type {\n",
       "        vertical-align: middle;\n",
       "    }\n",
       "\n",
       "    .dataframe tbody tr th {\n",
       "        vertical-align: top;\n",
       "    }\n",
       "\n",
       "    .dataframe thead th {\n",
       "        text-align: right;\n",
       "    }\n",
       "</style>\n",
       "<table border=\"1\" class=\"dataframe\">\n",
       "  <thead>\n",
       "    <tr style=\"text-align: right;\">\n",
       "      <th></th>\n",
       "      <th>Instrument</th>\n",
       "      <th>Company Name</th>\n",
       "      <th>TRBC Business Sector Name</th>\n",
       "      <th>Exchange Name</th>\n",
       "      <th>Company Market Cap</th>\n",
       "    </tr>\n",
       "  </thead>\n",
       "  <tbody>\n",
       "    <tr>\n",
       "      <th>4</th>\n",
       "      <td>SCB.BK</td>\n",
       "      <td>Siam Commercial Bank PCL</td>\n",
       "      <td>Banking &amp; Investment Services</td>\n",
       "      <td>STOCK EXCHANGE OF THAILAND</td>\n",
       "      <td>2.269168e+11</td>\n",
       "    </tr>\n",
       "    <tr>\n",
       "      <th>12</th>\n",
       "      <td>KBANK.BK</td>\n",
       "      <td>Kasikornbank PCL</td>\n",
       "      <td>Banking &amp; Investment Services</td>\n",
       "      <td>STOCK EXCHANGE OF THAILAND</td>\n",
       "      <td>1.931125e+11</td>\n",
       "    </tr>\n",
       "    <tr>\n",
       "      <th>11</th>\n",
       "      <td>BBL.BK</td>\n",
       "      <td>Bangkok Bank PCL</td>\n",
       "      <td>Banking &amp; Investment Services</td>\n",
       "      <td>STOCK EXCHANGE OF THAILAND</td>\n",
       "      <td>1.892033e+11</td>\n",
       "    </tr>\n",
       "    <tr>\n",
       "      <th>0</th>\n",
       "      <td>BAY.BK</td>\n",
       "      <td>Bank of Ayudhya PCL</td>\n",
       "      <td>Banking &amp; Investment Services</td>\n",
       "      <td>STOCK EXCHANGE OF THAILAND</td>\n",
       "      <td>1.538801e+11</td>\n",
       "    </tr>\n",
       "    <tr>\n",
       "      <th>8</th>\n",
       "      <td>KTB.BK</td>\n",
       "      <td>Krung Thai Bank PCL</td>\n",
       "      <td>Banking &amp; Investment Services</td>\n",
       "      <td>STOCK EXCHANGE OF THAILAND</td>\n",
       "      <td>1.371376e+11</td>\n",
       "    </tr>\n",
       "    <tr>\n",
       "      <th>37</th>\n",
       "      <td>MTC.BK</td>\n",
       "      <td>Muangthai Capital PCL</td>\n",
       "      <td>Banking &amp; Investment Services</td>\n",
       "      <td>STOCK EXCHANGE OF THAILAND</td>\n",
       "      <td>1.055945e+11</td>\n",
       "    </tr>\n",
       "    <tr>\n",
       "      <th>14</th>\n",
       "      <td>TMB.BK</td>\n",
       "      <td>TMB Bank PCL</td>\n",
       "      <td>Banking &amp; Investment Services</td>\n",
       "      <td>STOCK EXCHANGE OF THAILAND</td>\n",
       "      <td>9.119121e+10</td>\n",
       "    </tr>\n",
       "    <tr>\n",
       "      <th>35</th>\n",
       "      <td>BAM.BK</td>\n",
       "      <td>Bangkok Commercial Asset Management PCL</td>\n",
       "      <td>Banking &amp; Investment Services</td>\n",
       "      <td>STOCK EXCHANGE OF THAILAND</td>\n",
       "      <td>7.920410e+10</td>\n",
       "    </tr>\n",
       "    <tr>\n",
       "      <th>19</th>\n",
       "      <td>KTC.BK</td>\n",
       "      <td>Krungthai Card PCL</td>\n",
       "      <td>Banking &amp; Investment Services</td>\n",
       "      <td>STOCK EXCHANGE OF THAILAND</td>\n",
       "      <td>7.898049e+10</td>\n",
       "    </tr>\n",
       "    <tr>\n",
       "      <th>36</th>\n",
       "      <td>SAWAD.BK</td>\n",
       "      <td>Srisawad Corporation PCL</td>\n",
       "      <td>Banking &amp; Investment Services</td>\n",
       "      <td>STOCK EXCHANGE OF THAILAND</td>\n",
       "      <td>6.565918e+10</td>\n",
       "    </tr>\n",
       "  </tbody>\n",
       "</table>\n",
       "</div>"
      ],
      "text/plain": [
       "   Instrument                             Company Name  \\\n",
       "4      SCB.BK                 Siam Commercial Bank PCL   \n",
       "12   KBANK.BK                         Kasikornbank PCL   \n",
       "11     BBL.BK                         Bangkok Bank PCL   \n",
       "0      BAY.BK                      Bank of Ayudhya PCL   \n",
       "8      KTB.BK                      Krung Thai Bank PCL   \n",
       "37     MTC.BK                    Muangthai Capital PCL   \n",
       "14     TMB.BK                             TMB Bank PCL   \n",
       "35     BAM.BK  Bangkok Commercial Asset Management PCL   \n",
       "19     KTC.BK                       Krungthai Card PCL   \n",
       "36   SAWAD.BK                 Srisawad Corporation PCL   \n",
       "\n",
       "        TRBC Business Sector Name               Exchange Name  \\\n",
       "4   Banking & Investment Services  STOCK EXCHANGE OF THAILAND   \n",
       "12  Banking & Investment Services  STOCK EXCHANGE OF THAILAND   \n",
       "11  Banking & Investment Services  STOCK EXCHANGE OF THAILAND   \n",
       "0   Banking & Investment Services  STOCK EXCHANGE OF THAILAND   \n",
       "8   Banking & Investment Services  STOCK EXCHANGE OF THAILAND   \n",
       "37  Banking & Investment Services  STOCK EXCHANGE OF THAILAND   \n",
       "14  Banking & Investment Services  STOCK EXCHANGE OF THAILAND   \n",
       "35  Banking & Investment Services  STOCK EXCHANGE OF THAILAND   \n",
       "19  Banking & Investment Services  STOCK EXCHANGE OF THAILAND   \n",
       "36  Banking & Investment Services  STOCK EXCHANGE OF THAILAND   \n",
       "\n",
       "    Company Market Cap  \n",
       "4         2.269168e+11  \n",
       "12        1.931125e+11  \n",
       "11        1.892033e+11  \n",
       "0         1.538801e+11  \n",
       "8         1.371376e+11  \n",
       "37        1.055945e+11  \n",
       "14        9.119121e+10  \n",
       "35        7.920410e+10  \n",
       "19        7.898049e+10  \n",
       "36        6.565918e+10  "
      ]
     },
     "execution_count": 14,
     "metadata": {},
     "output_type": "execute_result"
    }
   ],
   "source": [
    "# top 10 company sort by Company Market Capitalization \n",
    "ranking = screen_result.sort_values(by='Company Market Cap',ascending=False) \n",
    "ranking.head(10) # show only first 10 rows"
   ]
  },
  {
   "cell_type": "markdown",
   "metadata": {},
   "source": [
    "Then, I convert the Company Market Capitalization's values into a readable format. "
   ]
  },
  {
   "cell_type": "code",
   "execution_count": 15,
   "metadata": {},
   "outputs": [
    {
     "data": {
      "text/html": [
       "<div>\n",
       "<style scoped>\n",
       "    .dataframe tbody tr th:only-of-type {\n",
       "        vertical-align: middle;\n",
       "    }\n",
       "\n",
       "    .dataframe tbody tr th {\n",
       "        vertical-align: top;\n",
       "    }\n",
       "\n",
       "    .dataframe thead th {\n",
       "        text-align: right;\n",
       "    }\n",
       "</style>\n",
       "<table border=\"1\" class=\"dataframe\">\n",
       "  <thead>\n",
       "    <tr style=\"text-align: right;\">\n",
       "      <th></th>\n",
       "      <th>Instrument</th>\n",
       "      <th>Company Name</th>\n",
       "      <th>TRBC Business Sector Name</th>\n",
       "      <th>Exchange Name</th>\n",
       "      <th>Company Market Cap(Billions)</th>\n",
       "    </tr>\n",
       "  </thead>\n",
       "  <tbody>\n",
       "    <tr>\n",
       "      <th>4</th>\n",
       "      <td>SCB.BK</td>\n",
       "      <td>Siam Commercial Bank PCL</td>\n",
       "      <td>Banking &amp; Investment Services</td>\n",
       "      <td>STOCK EXCHANGE OF THAILAND</td>\n",
       "      <td>226.92</td>\n",
       "    </tr>\n",
       "    <tr>\n",
       "      <th>12</th>\n",
       "      <td>KBANK.BK</td>\n",
       "      <td>Kasikornbank PCL</td>\n",
       "      <td>Banking &amp; Investment Services</td>\n",
       "      <td>STOCK EXCHANGE OF THAILAND</td>\n",
       "      <td>193.11</td>\n",
       "    </tr>\n",
       "    <tr>\n",
       "      <th>11</th>\n",
       "      <td>BBL.BK</td>\n",
       "      <td>Bangkok Bank PCL</td>\n",
       "      <td>Banking &amp; Investment Services</td>\n",
       "      <td>STOCK EXCHANGE OF THAILAND</td>\n",
       "      <td>189.2</td>\n",
       "    </tr>\n",
       "    <tr>\n",
       "      <th>0</th>\n",
       "      <td>BAY.BK</td>\n",
       "      <td>Bank of Ayudhya PCL</td>\n",
       "      <td>Banking &amp; Investment Services</td>\n",
       "      <td>STOCK EXCHANGE OF THAILAND</td>\n",
       "      <td>153.88</td>\n",
       "    </tr>\n",
       "    <tr>\n",
       "      <th>8</th>\n",
       "      <td>KTB.BK</td>\n",
       "      <td>Krung Thai Bank PCL</td>\n",
       "      <td>Banking &amp; Investment Services</td>\n",
       "      <td>STOCK EXCHANGE OF THAILAND</td>\n",
       "      <td>137.14</td>\n",
       "    </tr>\n",
       "    <tr>\n",
       "      <th>37</th>\n",
       "      <td>MTC.BK</td>\n",
       "      <td>Muangthai Capital PCL</td>\n",
       "      <td>Banking &amp; Investment Services</td>\n",
       "      <td>STOCK EXCHANGE OF THAILAND</td>\n",
       "      <td>105.59</td>\n",
       "    </tr>\n",
       "    <tr>\n",
       "      <th>14</th>\n",
       "      <td>TMB.BK</td>\n",
       "      <td>TMB Bank PCL</td>\n",
       "      <td>Banking &amp; Investment Services</td>\n",
       "      <td>STOCK EXCHANGE OF THAILAND</td>\n",
       "      <td>91.19</td>\n",
       "    </tr>\n",
       "    <tr>\n",
       "      <th>35</th>\n",
       "      <td>BAM.BK</td>\n",
       "      <td>Bangkok Commercial Asset Management PCL</td>\n",
       "      <td>Banking &amp; Investment Services</td>\n",
       "      <td>STOCK EXCHANGE OF THAILAND</td>\n",
       "      <td>79.2</td>\n",
       "    </tr>\n",
       "    <tr>\n",
       "      <th>19</th>\n",
       "      <td>KTC.BK</td>\n",
       "      <td>Krungthai Card PCL</td>\n",
       "      <td>Banking &amp; Investment Services</td>\n",
       "      <td>STOCK EXCHANGE OF THAILAND</td>\n",
       "      <td>78.98</td>\n",
       "    </tr>\n",
       "    <tr>\n",
       "      <th>36</th>\n",
       "      <td>SAWAD.BK</td>\n",
       "      <td>Srisawad Corporation PCL</td>\n",
       "      <td>Banking &amp; Investment Services</td>\n",
       "      <td>STOCK EXCHANGE OF THAILAND</td>\n",
       "      <td>65.66</td>\n",
       "    </tr>\n",
       "  </tbody>\n",
       "</table>\n",
       "</div>"
      ],
      "text/plain": [
       "   Instrument                             Company Name  \\\n",
       "4      SCB.BK                 Siam Commercial Bank PCL   \n",
       "12   KBANK.BK                         Kasikornbank PCL   \n",
       "11     BBL.BK                         Bangkok Bank PCL   \n",
       "0      BAY.BK                      Bank of Ayudhya PCL   \n",
       "8      KTB.BK                      Krung Thai Bank PCL   \n",
       "37     MTC.BK                    Muangthai Capital PCL   \n",
       "14     TMB.BK                             TMB Bank PCL   \n",
       "35     BAM.BK  Bangkok Commercial Asset Management PCL   \n",
       "19     KTC.BK                       Krungthai Card PCL   \n",
       "36   SAWAD.BK                 Srisawad Corporation PCL   \n",
       "\n",
       "        TRBC Business Sector Name               Exchange Name  \\\n",
       "4   Banking & Investment Services  STOCK EXCHANGE OF THAILAND   \n",
       "12  Banking & Investment Services  STOCK EXCHANGE OF THAILAND   \n",
       "11  Banking & Investment Services  STOCK EXCHANGE OF THAILAND   \n",
       "0   Banking & Investment Services  STOCK EXCHANGE OF THAILAND   \n",
       "8   Banking & Investment Services  STOCK EXCHANGE OF THAILAND   \n",
       "37  Banking & Investment Services  STOCK EXCHANGE OF THAILAND   \n",
       "14  Banking & Investment Services  STOCK EXCHANGE OF THAILAND   \n",
       "35  Banking & Investment Services  STOCK EXCHANGE OF THAILAND   \n",
       "19  Banking & Investment Services  STOCK EXCHANGE OF THAILAND   \n",
       "36  Banking & Investment Services  STOCK EXCHANGE OF THAILAND   \n",
       "\n",
       "   Company Market Cap(Billions)  \n",
       "4                        226.92  \n",
       "12                       193.11  \n",
       "11                        189.2  \n",
       "0                        153.88  \n",
       "8                        137.14  \n",
       "37                       105.59  \n",
       "14                        91.19  \n",
       "35                         79.2  \n",
       "19                        78.98  \n",
       "36                        65.66  "
      ]
     },
     "execution_count": 15,
     "metadata": {},
     "output_type": "execute_result"
    }
   ],
   "source": [
    "#change Company Market Cap value to billion format \n",
    "ranking['Company Market Cap(Billions)'] =  (screen_result['Company Market Cap'].astype(float)/1000000000).round(2).astype(str)\n",
    "ranking.drop(['Company Market Cap'], axis='columns', inplace=True) #drop original column\n",
    "ranking.head(10)"
   ]
  },
  {
   "cell_type": "markdown",
   "metadata": {},
   "source": [
    "Otherwise, you can try out the [dataquery.py](https://github.com/Refinitiv-API-Samples/dataquery) which is designed to act as a syntax builder for the screening queries. This way Eikon Data API users no longer need to rely on Excel and generate the screening request along with various pre-processing functions directly in the Python script. For detailed information, please visit the [Dataquery – a syntax builder for screening with Eikon Data API](https://developers.refinitiv.com/article/dataquery-%E2%80%93-syntax-builder-screening-eikon-data-api) article."
   ]
  },
  {
   "cell_type": "markdown",
   "metadata": {},
   "source": [
    "## Summary\n",
    "\n",
    "In this article, I demonstrate how to retrieve data from Eikon Data API using `ek.get_timeseries()` and `ek.get_data()`. Then use the retrieved data to create a time series plot and table using Plotly and Jupyter widgets. Lastly, I use `SCREENER` to retrieve a list of companies that matches the criteria from the defined syntax."
   ]
  },
  {
   "cell_type": "markdown",
   "metadata": {},
   "source": [
    "## Learn more\n",
    "\n",
    "To learn more about the Eikon Data APIs Libraries, you can join the [Refinitiv Developer Community](https://developers.refinitiv.com/) by registering and login to the Refinitiv Developer Community portal. Then, you will get free access to a number of learning materials like [Quick Start guides](https://developers.refinitiv.com/eikon-apis/eikon-data-api/quick-start), [Tutorials](https://developers.refinitiv.com/eikon-data-apis/learning), [Documentation](https://developers.refinitiv.com/eikon-apis/eikon-data-api/docs), and much more\n",
    "\n",
    "## Getting Help and Support\n",
    "\n",
    "If you have any questions regarding the API usage, please post them on the [Eikon Data APIs Q&A Forum](https://developers.refinitiv.com/eikon-apis/eikon-data-api/qa). The Refinitiv Developer Community will be very pleased to help you."
   ]
  },
  {
   "cell_type": "markdown",
   "metadata": {},
   "source": [
    "## References\n",
    "\n",
    "1. Eikon Data API. Refinitiv Developer Community. Retrieved Jun 18, 2020,  from https://developers.refinitiv.com/eikon-apis/eikon-data-api\n",
    "2. Jupyter Widgets. ipywidgets. Retrieved Jun 18, 2020,  from https://ipywidgets.readthedocs.io/en/latest/index.html \n",
    "3. Plotly. Plotly Python Open Source Graphing Library. Retrieved Jun 18, 2020, from https://plotly.com/python/ \n",
    "4. Jintamalit, C. (2020).  Find Your Right Companies with SCREENER | Eikon Data APIs(Python). Retrieved Jul 2, 2020, from https://developers.refinitiv.com/article/find-your-right-companies-screener-eikon-data-apispython\n",
    "5. Jintamalit, C. (2019). Data Item Browser (DIB) Overview in How to discover available fields for Data Grid service on JET(App Studio HTML5 SDK) API using Eikon Desktop. Retrieved Jun 18, 2020, from https://developers.refinitiv.com/article/how-discover-available-fields-data-grid-service-jetapp-studio-html5-sdk-api-using-eikon.\n",
    "6. Sopotnitskiy, L. (2020). Dataquery – a syntax builder for screening with Eikon Data API. Retrieved Jul 8, 2020, from https://developers.refinitiv.com/article/dataquery-%E2%80%93-syntax-builder-screening-eikon-data-api"
   ]
  }
 ],
 "metadata": {
  "kernelspec": {
   "display_name": "Python 3",
   "language": "python",
   "name": "python3"
  },
  "language_info": {
   "codemirror_mode": {
    "name": "ipython",
    "version": 3
   },
   "file_extension": ".py",
   "mimetype": "text/x-python",
   "name": "python",
   "nbconvert_exporter": "python",
   "pygments_lexer": "ipython3",
   "version": "3.7.2"
  }
 },
 "nbformat": 4,
 "nbformat_minor": 4
}
